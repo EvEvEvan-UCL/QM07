{
  "nbformat": 4,
  "nbformat_minor": 0,
  "metadata": {
    "colab": {
      "name": "CASA007 QM.ipynb",
      "provenance": [],
      "collapsed_sections": [],
      "toc_visible": true
    },
    "kernelspec": {
      "name": "python3",
      "display_name": "Python 3"
    },
    "language_info": {
      "name": "python"
    }
  },
  "cells": [
    {
      "cell_type": "code",
      "metadata": {
        "id": "2pIMkV5rs-3p"
      },
      "source": [
        "import pandas as pd\n",
        "import numpy as np\n",
        "from scipy import nan\n",
        "import seaborn as sns #plotting\n",
        "import matplotlib.pyplot as plt\n",
        "import plotly.express as px\n",
        "import statsmodels.api as sms\n",
        "import scipy.stats as sps\n",
        "from statsmodels.stats.outliers_influence import variance_inflation_factor \n",
        "from statsmodels.regression.linear_model import OLS\n",
        "from statsmodels.tools.tools import add_constant\n",
        "import sklearn\n",
        "from sklearn.metrics import confusion_matrix\n",
        "from sklearn.linear_model import LogisticRegression\n",
        "from sklearn.model_selection import train_test_split"
      ],
      "execution_count": 187,
      "outputs": []
    },
    {
      "cell_type": "code",
      "metadata": {
        "id": "5HTFdi8MtZsU"
      },
      "source": [
        "df = pd.read_csv('/content/coursework_1_data_2019.csv')"
      ],
      "execution_count": 188,
      "outputs": []
    },
    {
      "cell_type": "code",
      "metadata": {
        "colab": {
          "base_uri": "https://localhost:8080/",
          "height": 292
        },
        "id": "I6SZk12xts8W",
        "outputId": "8b562a81-3e64-48f2-bead-b15344aee538"
      },
      "source": [
        "df.head()"
      ],
      "execution_count": 189,
      "outputs": [
        {
          "output_type": "execute_result",
          "data": {
            "text/html": [
              "<div>\n",
              "<style scoped>\n",
              "    .dataframe tbody tr th:only-of-type {\n",
              "        vertical-align: middle;\n",
              "    }\n",
              "\n",
              "    .dataframe tbody tr th {\n",
              "        vertical-align: top;\n",
              "    }\n",
              "\n",
              "    .dataframe thead th {\n",
              "        text-align: right;\n",
              "    }\n",
              "</style>\n",
              "<table border=\"1\" class=\"dataframe\">\n",
              "  <thead>\n",
              "    <tr style=\"text-align: right;\">\n",
              "      <th></th>\n",
              "      <th>local_authority_area</th>\n",
              "      <th>2008_cases_total</th>\n",
              "      <th>2013_cases_total</th>\n",
              "      <th>2018_cases_total</th>\n",
              "      <th>2008_pop_total</th>\n",
              "      <th>2013_pop_total</th>\n",
              "      <th>2018_pop_total</th>\n",
              "      <th>2008_cases_male</th>\n",
              "      <th>2013_cases_male</th>\n",
              "      <th>2018_cases_male</th>\n",
              "      <th>2008_pop_male</th>\n",
              "      <th>2013_pop_male</th>\n",
              "      <th>2018_pop_male</th>\n",
              "      <th>2008_cases_female</th>\n",
              "      <th>2013_cases_female</th>\n",
              "      <th>2018_cases_female</th>\n",
              "      <th>2008_pop_female</th>\n",
              "      <th>2013_pop_female</th>\n",
              "      <th>2018_pop_female</th>\n",
              "      <th>total_budget</th>\n",
              "      <th>clean_air</th>\n",
              "      <th>clean_environ</th>\n",
              "      <th>health_training</th>\n",
              "      <th>school_awareness</th>\n",
              "      <th>media_awareness</th>\n",
              "      <th>sub_counselling</th>\n",
              "      <th>region</th>\n",
              "      <th>local_authority_type</th>\n",
              "    </tr>\n",
              "  </thead>\n",
              "  <tbody>\n",
              "    <tr>\n",
              "      <th>0</th>\n",
              "      <td>Barking and Dagenham</td>\n",
              "      <td>593</td>\n",
              "      <td>619</td>\n",
              "      <td>763</td>\n",
              "      <td>172684</td>\n",
              "      <td>179030</td>\n",
              "      <td>181779</td>\n",
              "      <td>187</td>\n",
              "      <td>190</td>\n",
              "      <td>230</td>\n",
              "      <td>83890</td>\n",
              "      <td>81915</td>\n",
              "      <td>77983</td>\n",
              "      <td>406</td>\n",
              "      <td>429</td>\n",
              "      <td>533</td>\n",
              "      <td>88794</td>\n",
              "      <td>97115</td>\n",
              "      <td>103796</td>\n",
              "      <td>139000</td>\n",
              "      <td>21000</td>\n",
              "      <td>22000</td>\n",
              "      <td>18000</td>\n",
              "      <td>41000</td>\n",
              "      <td>18000</td>\n",
              "      <td>19000</td>\n",
              "      <td>London</td>\n",
              "      <td>london_borough</td>\n",
              "    </tr>\n",
              "    <tr>\n",
              "      <th>1</th>\n",
              "      <td>Barnet</td>\n",
              "      <td>539</td>\n",
              "      <td>594</td>\n",
              "      <td>773</td>\n",
              "      <td>340435</td>\n",
              "      <td>344062</td>\n",
              "      <td>355955</td>\n",
              "      <td>212</td>\n",
              "      <td>204</td>\n",
              "      <td>292</td>\n",
              "      <td>169060</td>\n",
              "      <td>161533</td>\n",
              "      <td>161769</td>\n",
              "      <td>327</td>\n",
              "      <td>390</td>\n",
              "      <td>481</td>\n",
              "      <td>171375</td>\n",
              "      <td>182529</td>\n",
              "      <td>194186</td>\n",
              "      <td>220000</td>\n",
              "      <td>50000</td>\n",
              "      <td>17000</td>\n",
              "      <td>23000</td>\n",
              "      <td>74000</td>\n",
              "      <td>30000</td>\n",
              "      <td>26000</td>\n",
              "      <td>London</td>\n",
              "      <td>london_borough</td>\n",
              "    </tr>\n",
              "    <tr>\n",
              "      <th>2</th>\n",
              "      <td>Barnsley</td>\n",
              "      <td>360</td>\n",
              "      <td>451</td>\n",
              "      <td>527</td>\n",
              "      <td>226755</td>\n",
              "      <td>244010</td>\n",
              "      <td>257883</td>\n",
              "      <td>148</td>\n",
              "      <td>186</td>\n",
              "      <td>212</td>\n",
              "      <td>110384</td>\n",
              "      <td>117286</td>\n",
              "      <td>127055</td>\n",
              "      <td>212</td>\n",
              "      <td>265</td>\n",
              "      <td>315</td>\n",
              "      <td>116371</td>\n",
              "      <td>126724</td>\n",
              "      <td>130828</td>\n",
              "      <td>160000</td>\n",
              "      <td>41000</td>\n",
              "      <td>45000</td>\n",
              "      <td>5000</td>\n",
              "      <td>26000</td>\n",
              "      <td>29000</td>\n",
              "      <td>14000</td>\n",
              "      <td>Yorkshire and the Humber</td>\n",
              "      <td>metropolitan_borough</td>\n",
              "    </tr>\n",
              "    <tr>\n",
              "      <th>3</th>\n",
              "      <td>Bath and North East Somerset</td>\n",
              "      <td>456</td>\n",
              "      <td>421</td>\n",
              "      <td>494</td>\n",
              "      <td>178625</td>\n",
              "      <td>172975</td>\n",
              "      <td>189334</td>\n",
              "      <td>157</td>\n",
              "      <td>129</td>\n",
              "      <td>156</td>\n",
              "      <td>87026</td>\n",
              "      <td>84077</td>\n",
              "      <td>90890</td>\n",
              "      <td>299</td>\n",
              "      <td>292</td>\n",
              "      <td>338</td>\n",
              "      <td>91599</td>\n",
              "      <td>88898</td>\n",
              "      <td>98444</td>\n",
              "      <td>161000</td>\n",
              "      <td>33000</td>\n",
              "      <td>42000</td>\n",
              "      <td>19000</td>\n",
              "      <td>50000</td>\n",
              "      <td>10000</td>\n",
              "      <td>7000</td>\n",
              "      <td>South West</td>\n",
              "      <td>unitary_authority</td>\n",
              "    </tr>\n",
              "    <tr>\n",
              "      <th>4</th>\n",
              "      <td>Bedford</td>\n",
              "      <td>311</td>\n",
              "      <td>327</td>\n",
              "      <td>367</td>\n",
              "      <td>158185</td>\n",
              "      <td>164807</td>\n",
              "      <td>170463</td>\n",
              "      <td>138</td>\n",
              "      <td>145</td>\n",
              "      <td>156</td>\n",
              "      <td>75929</td>\n",
              "      <td>85074</td>\n",
              "      <td>82609</td>\n",
              "      <td>173</td>\n",
              "      <td>182</td>\n",
              "      <td>211</td>\n",
              "      <td>82256</td>\n",
              "      <td>79733</td>\n",
              "      <td>87854</td>\n",
              "      <td>130000</td>\n",
              "      <td>37000</td>\n",
              "      <td>52000</td>\n",
              "      <td>17000</td>\n",
              "      <td>8000</td>\n",
              "      <td>3000</td>\n",
              "      <td>13000</td>\n",
              "      <td>East of England</td>\n",
              "      <td>unitary_authority</td>\n",
              "    </tr>\n",
              "  </tbody>\n",
              "</table>\n",
              "</div>"
            ],
            "text/plain": [
              "           local_authority_area  ...  local_authority_type\n",
              "0          Barking and Dagenham  ...        london_borough\n",
              "1                        Barnet  ...        london_borough\n",
              "2                      Barnsley  ...  metropolitan_borough\n",
              "3  Bath and North East Somerset  ...     unitary_authority\n",
              "4                       Bedford  ...     unitary_authority\n",
              "\n",
              "[5 rows x 28 columns]"
            ]
          },
          "metadata": {},
          "execution_count": 189
        }
      ]
    },
    {
      "cell_type": "markdown",
      "metadata": {
        "id": "fJSe1x-Ta6lm"
      },
      "source": [
        "##EDA"
      ]
    },
    {
      "cell_type": "code",
      "metadata": {
        "colab": {
          "base_uri": "https://localhost:8080/"
        },
        "id": "G8hQ582CDEUR",
        "outputId": "ab02529c-4b08-4883-82e2-9b80eb2dc845"
      },
      "source": [
        "df.isnull().sum()"
      ],
      "execution_count": 190,
      "outputs": [
        {
          "output_type": "execute_result",
          "data": {
            "text/plain": [
              "local_authority_area    0\n",
              "2008_cases_total        0\n",
              "2013_cases_total        0\n",
              "2018_cases_total        0\n",
              "2008_pop_total          0\n",
              "2013_pop_total          0\n",
              "2018_pop_total          0\n",
              "2008_cases_male         0\n",
              "2013_cases_male         0\n",
              "2018_cases_male         0\n",
              "2008_pop_male           0\n",
              "2013_pop_male           0\n",
              "2018_pop_male           0\n",
              "2008_cases_female       0\n",
              "2013_cases_female       0\n",
              "2018_cases_female       0\n",
              "2008_pop_female         0\n",
              "2013_pop_female         0\n",
              "2018_pop_female         0\n",
              "total_budget            0\n",
              "clean_air               0\n",
              "clean_environ           0\n",
              "health_training         0\n",
              "school_awareness        0\n",
              "media_awareness         0\n",
              "sub_counselling         0\n",
              "region                  0\n",
              "local_authority_type    0\n",
              "dtype: int64"
            ]
          },
          "metadata": {},
          "execution_count": 190
        }
      ]
    },
    {
      "cell_type": "code",
      "metadata": {
        "colab": {
          "base_uri": "https://localhost:8080/",
          "height": 317
        },
        "id": "leGOm9q58RLI",
        "outputId": "d4e7bc79-c48d-47d1-f27d-319c735116d3"
      },
      "source": [
        "df.describe()"
      ],
      "execution_count": 191,
      "outputs": [
        {
          "output_type": "execute_result",
          "data": {
            "text/html": [
              "<div>\n",
              "<style scoped>\n",
              "    .dataframe tbody tr th:only-of-type {\n",
              "        vertical-align: middle;\n",
              "    }\n",
              "\n",
              "    .dataframe tbody tr th {\n",
              "        vertical-align: top;\n",
              "    }\n",
              "\n",
              "    .dataframe thead th {\n",
              "        text-align: right;\n",
              "    }\n",
              "</style>\n",
              "<table border=\"1\" class=\"dataframe\">\n",
              "  <thead>\n",
              "    <tr style=\"text-align: right;\">\n",
              "      <th></th>\n",
              "      <th>2008_cases_total</th>\n",
              "      <th>2013_cases_total</th>\n",
              "      <th>2018_cases_total</th>\n",
              "      <th>2008_pop_total</th>\n",
              "      <th>2013_pop_total</th>\n",
              "      <th>2018_pop_total</th>\n",
              "      <th>2008_cases_male</th>\n",
              "      <th>2013_cases_male</th>\n",
              "      <th>2018_cases_male</th>\n",
              "      <th>2008_pop_male</th>\n",
              "      <th>2013_pop_male</th>\n",
              "      <th>2018_pop_male</th>\n",
              "      <th>2008_cases_female</th>\n",
              "      <th>2013_cases_female</th>\n",
              "      <th>2018_cases_female</th>\n",
              "      <th>2008_pop_female</th>\n",
              "      <th>2013_pop_female</th>\n",
              "      <th>2018_pop_female</th>\n",
              "      <th>total_budget</th>\n",
              "      <th>clean_air</th>\n",
              "      <th>clean_environ</th>\n",
              "      <th>health_training</th>\n",
              "      <th>school_awareness</th>\n",
              "      <th>media_awareness</th>\n",
              "      <th>sub_counselling</th>\n",
              "    </tr>\n",
              "  </thead>\n",
              "  <tbody>\n",
              "    <tr>\n",
              "      <th>count</th>\n",
              "      <td>152.000000</td>\n",
              "      <td>152.000000</td>\n",
              "      <td>152.000000</td>\n",
              "      <td>1.520000e+02</td>\n",
              "      <td>1.520000e+02</td>\n",
              "      <td>1.520000e+02</td>\n",
              "      <td>152.000000</td>\n",
              "      <td>152.000000</td>\n",
              "      <td>152.000000</td>\n",
              "      <td>152.00000</td>\n",
              "      <td>152.000000</td>\n",
              "      <td>152.000000</td>\n",
              "      <td>152.00000</td>\n",
              "      <td>152.000000</td>\n",
              "      <td>152.000000</td>\n",
              "      <td>152.000000</td>\n",
              "      <td>152.000000</td>\n",
              "      <td>152.000000</td>\n",
              "      <td>1.520000e+02</td>\n",
              "      <td>152.000000</td>\n",
              "      <td>152.000000</td>\n",
              "      <td>152.000000</td>\n",
              "      <td>152.000000</td>\n",
              "      <td>152.000000</td>\n",
              "      <td>152.000000</td>\n",
              "    </tr>\n",
              "    <tr>\n",
              "      <th>mean</th>\n",
              "      <td>1075.296053</td>\n",
              "      <td>1159.513158</td>\n",
              "      <td>1278.605263</td>\n",
              "      <td>3.409223e+05</td>\n",
              "      <td>3.542821e+05</td>\n",
              "      <td>3.682895e+05</td>\n",
              "      <td>375.796053</td>\n",
              "      <td>401.526316</td>\n",
              "      <td>438.276316</td>\n",
              "      <td>166914.75000</td>\n",
              "      <td>171990.611842</td>\n",
              "      <td>177176.980263</td>\n",
              "      <td>699.50000</td>\n",
              "      <td>757.986842</td>\n",
              "      <td>840.328947</td>\n",
              "      <td>174007.565789</td>\n",
              "      <td>182291.480263</td>\n",
              "      <td>191112.500000</td>\n",
              "      <td>2.703092e+05</td>\n",
              "      <td>59368.421053</td>\n",
              "      <td>68427.631579</td>\n",
              "      <td>25111.842105</td>\n",
              "      <td>62631.578947</td>\n",
              "      <td>32967.105263</td>\n",
              "      <td>21802.631579</td>\n",
              "    </tr>\n",
              "    <tr>\n",
              "      <th>std</th>\n",
              "      <td>922.378705</td>\n",
              "      <td>997.231047</td>\n",
              "      <td>1069.691997</td>\n",
              "      <td>2.621354e+05</td>\n",
              "      <td>2.788745e+05</td>\n",
              "      <td>2.945969e+05</td>\n",
              "      <td>323.560804</td>\n",
              "      <td>353.756510</td>\n",
              "      <td>376.478018</td>\n",
              "      <td>128635.27204</td>\n",
              "      <td>136886.259551</td>\n",
              "      <td>145624.858528</td>\n",
              "      <td>605.75565</td>\n",
              "      <td>654.418340</td>\n",
              "      <td>703.887519</td>\n",
              "      <td>133527.499451</td>\n",
              "      <td>142585.690264</td>\n",
              "      <td>149675.481541</td>\n",
              "      <td>2.104618e+05</td>\n",
              "      <td>53980.948836</td>\n",
              "      <td>62114.997173</td>\n",
              "      <td>22815.281663</td>\n",
              "      <td>55056.104342</td>\n",
              "      <td>29930.253972</td>\n",
              "      <td>19832.423607</td>\n",
              "    </tr>\n",
              "    <tr>\n",
              "      <th>min</th>\n",
              "      <td>5.000000</td>\n",
              "      <td>1.000000</td>\n",
              "      <td>4.000000</td>\n",
              "      <td>2.200000e+03</td>\n",
              "      <td>2.385000e+03</td>\n",
              "      <td>2.440000e+03</td>\n",
              "      <td>2.000000</td>\n",
              "      <td>0.000000</td>\n",
              "      <td>1.000000</td>\n",
              "      <td>1085.00000</td>\n",
              "      <td>1305.000000</td>\n",
              "      <td>1426.000000</td>\n",
              "      <td>3.00000</td>\n",
              "      <td>1.000000</td>\n",
              "      <td>3.000000</td>\n",
              "      <td>1115.000000</td>\n",
              "      <td>1080.000000</td>\n",
              "      <td>1014.000000</td>\n",
              "      <td>2.000000e+03</td>\n",
              "      <td>0.000000</td>\n",
              "      <td>0.000000</td>\n",
              "      <td>0.000000</td>\n",
              "      <td>2000.000000</td>\n",
              "      <td>0.000000</td>\n",
              "      <td>0.000000</td>\n",
              "    </tr>\n",
              "    <tr>\n",
              "      <th>25%</th>\n",
              "      <td>493.500000</td>\n",
              "      <td>531.750000</td>\n",
              "      <td>592.500000</td>\n",
              "      <td>1.894748e+05</td>\n",
              "      <td>1.880672e+05</td>\n",
              "      <td>1.934285e+05</td>\n",
              "      <td>175.750000</td>\n",
              "      <td>183.250000</td>\n",
              "      <td>198.250000</td>\n",
              "      <td>93000.25000</td>\n",
              "      <td>90270.500000</td>\n",
              "      <td>91086.500000</td>\n",
              "      <td>305.00000</td>\n",
              "      <td>329.500000</td>\n",
              "      <td>372.750000</td>\n",
              "      <td>95983.750000</td>\n",
              "      <td>99307.250000</td>\n",
              "      <td>101902.750000</td>\n",
              "      <td>1.400000e+05</td>\n",
              "      <td>26000.000000</td>\n",
              "      <td>32000.000000</td>\n",
              "      <td>11750.000000</td>\n",
              "      <td>31750.000000</td>\n",
              "      <td>14000.000000</td>\n",
              "      <td>9000.000000</td>\n",
              "    </tr>\n",
              "    <tr>\n",
              "      <th>50%</th>\n",
              "      <td>729.000000</td>\n",
              "      <td>794.500000</td>\n",
              "      <td>873.500000</td>\n",
              "      <td>2.540925e+05</td>\n",
              "      <td>2.577715e+05</td>\n",
              "      <td>2.642035e+05</td>\n",
              "      <td>266.000000</td>\n",
              "      <td>271.000000</td>\n",
              "      <td>293.500000</td>\n",
              "      <td>122694.00000</td>\n",
              "      <td>121755.000000</td>\n",
              "      <td>121868.000000</td>\n",
              "      <td>460.50000</td>\n",
              "      <td>532.000000</td>\n",
              "      <td>570.500000</td>\n",
              "      <td>128675.500000</td>\n",
              "      <td>135104.000000</td>\n",
              "      <td>140668.500000</td>\n",
              "      <td>2.000000e+05</td>\n",
              "      <td>41500.000000</td>\n",
              "      <td>48000.000000</td>\n",
              "      <td>18000.000000</td>\n",
              "      <td>45000.000000</td>\n",
              "      <td>25000.000000</td>\n",
              "      <td>16000.000000</td>\n",
              "    </tr>\n",
              "    <tr>\n",
              "      <th>75%</th>\n",
              "      <td>1386.000000</td>\n",
              "      <td>1470.250000</td>\n",
              "      <td>1641.500000</td>\n",
              "      <td>3.751225e+05</td>\n",
              "      <td>4.024990e+05</td>\n",
              "      <td>4.094285e+05</td>\n",
              "      <td>473.750000</td>\n",
              "      <td>519.250000</td>\n",
              "      <td>554.750000</td>\n",
              "      <td>183610.00000</td>\n",
              "      <td>189826.000000</td>\n",
              "      <td>194432.750000</td>\n",
              "      <td>886.50000</td>\n",
              "      <td>957.000000</td>\n",
              "      <td>1043.000000</td>\n",
              "      <td>191395.500000</td>\n",
              "      <td>197497.750000</td>\n",
              "      <td>213147.750000</td>\n",
              "      <td>3.017500e+05</td>\n",
              "      <td>70000.000000</td>\n",
              "      <td>79000.000000</td>\n",
              "      <td>26500.000000</td>\n",
              "      <td>69750.000000</td>\n",
              "      <td>39750.000000</td>\n",
              "      <td>27250.000000</td>\n",
              "    </tr>\n",
              "    <tr>\n",
              "      <th>max</th>\n",
              "      <td>5065.000000</td>\n",
              "      <td>5582.000000</td>\n",
              "      <td>5745.000000</td>\n",
              "      <td>1.411380e+06</td>\n",
              "      <td>1.528154e+06</td>\n",
              "      <td>1.623387e+06</td>\n",
              "      <td>1762.000000</td>\n",
              "      <td>2065.000000</td>\n",
              "      <td>2000.000000</td>\n",
              "      <td>694681.00000</td>\n",
              "      <td>754646.000000</td>\n",
              "      <td>790860.000000</td>\n",
              "      <td>3303.00000</td>\n",
              "      <td>3517.000000</td>\n",
              "      <td>3745.000000</td>\n",
              "      <td>716699.000000</td>\n",
              "      <td>773508.000000</td>\n",
              "      <td>832527.000000</td>\n",
              "      <td>1.170000e+06</td>\n",
              "      <td>297000.000000</td>\n",
              "      <td>333000.000000</td>\n",
              "      <td>130000.000000</td>\n",
              "      <td>340000.000000</td>\n",
              "      <td>203000.000000</td>\n",
              "      <td>99000.000000</td>\n",
              "    </tr>\n",
              "  </tbody>\n",
              "</table>\n",
              "</div>"
            ],
            "text/plain": [
              "       2008_cases_total  2013_cases_total  ...  media_awareness  sub_counselling\n",
              "count        152.000000        152.000000  ...       152.000000       152.000000\n",
              "mean        1075.296053       1159.513158  ...     32967.105263     21802.631579\n",
              "std          922.378705        997.231047  ...     29930.253972     19832.423607\n",
              "min            5.000000          1.000000  ...         0.000000         0.000000\n",
              "25%          493.500000        531.750000  ...     14000.000000      9000.000000\n",
              "50%          729.000000        794.500000  ...     25000.000000     16000.000000\n",
              "75%         1386.000000       1470.250000  ...     39750.000000     27250.000000\n",
              "max         5065.000000       5582.000000  ...    203000.000000     99000.000000\n",
              "\n",
              "[8 rows x 25 columns]"
            ]
          },
          "metadata": {},
          "execution_count": 191
        }
      ]
    },
    {
      "cell_type": "markdown",
      "metadata": {
        "id": "UTuZgLnO3AYb"
      },
      "source": [
        "####Calculate the growth rate of total cases in 5 years\n"
      ]
    },
    {
      "cell_type": "code",
      "metadata": {
        "id": "Ob3dIHaBxDeK"
      },
      "source": [
        "df_growth = df[['local_authority_area']]"
      ],
      "execution_count": 192,
      "outputs": []
    },
    {
      "cell_type": "code",
      "metadata": {
        "colab": {
          "base_uri": "https://localhost:8080/",
          "height": 711
        },
        "id": "uHIdbec7vbrR",
        "outputId": "c94259a1-de64-48e0-f0a3-6fb38c4bd486"
      },
      "source": [
        "#Calculate the growth rate of total cases in 5 years\n",
        "df_growth['total_case_growth_rate_2008_2013'] = (((df['2013_cases_total'] - df['2008_cases_total'])/df['2008_cases_total']))\n",
        "df_growth['total_case_growth_rate_2013_2018'] = (((df['2018_cases_total'] - df['2013_cases_total'])/df['2013_cases_total']))\n",
        "df_growth"
      ],
      "execution_count": 193,
      "outputs": [
        {
          "output_type": "stream",
          "name": "stderr",
          "text": [
            "/usr/local/lib/python3.7/dist-packages/ipykernel_launcher.py:2: SettingWithCopyWarning:\n",
            "\n",
            "\n",
            "A value is trying to be set on a copy of a slice from a DataFrame.\n",
            "Try using .loc[row_indexer,col_indexer] = value instead\n",
            "\n",
            "See the caveats in the documentation: https://pandas.pydata.org/pandas-docs/stable/user_guide/indexing.html#returning-a-view-versus-a-copy\n",
            "\n",
            "/usr/local/lib/python3.7/dist-packages/ipykernel_launcher.py:3: SettingWithCopyWarning:\n",
            "\n",
            "\n",
            "A value is trying to be set on a copy of a slice from a DataFrame.\n",
            "Try using .loc[row_indexer,col_indexer] = value instead\n",
            "\n",
            "See the caveats in the documentation: https://pandas.pydata.org/pandas-docs/stable/user_guide/indexing.html#returning-a-view-versus-a-copy\n",
            "\n"
          ]
        },
        {
          "output_type": "execute_result",
          "data": {
            "text/html": [
              "<div>\n",
              "<style scoped>\n",
              "    .dataframe tbody tr th:only-of-type {\n",
              "        vertical-align: middle;\n",
              "    }\n",
              "\n",
              "    .dataframe tbody tr th {\n",
              "        vertical-align: top;\n",
              "    }\n",
              "\n",
              "    .dataframe thead th {\n",
              "        text-align: right;\n",
              "    }\n",
              "</style>\n",
              "<table border=\"1\" class=\"dataframe\">\n",
              "  <thead>\n",
              "    <tr style=\"text-align: right;\">\n",
              "      <th></th>\n",
              "      <th>local_authority_area</th>\n",
              "      <th>total_case_growth_rate_2008_2013</th>\n",
              "      <th>total_case_growth_rate_2013_2018</th>\n",
              "    </tr>\n",
              "  </thead>\n",
              "  <tbody>\n",
              "    <tr>\n",
              "      <th>0</th>\n",
              "      <td>Barking and Dagenham</td>\n",
              "      <td>0.043845</td>\n",
              "      <td>0.232633</td>\n",
              "    </tr>\n",
              "    <tr>\n",
              "      <th>1</th>\n",
              "      <td>Barnet</td>\n",
              "      <td>0.102041</td>\n",
              "      <td>0.301347</td>\n",
              "    </tr>\n",
              "    <tr>\n",
              "      <th>2</th>\n",
              "      <td>Barnsley</td>\n",
              "      <td>0.252778</td>\n",
              "      <td>0.168514</td>\n",
              "    </tr>\n",
              "    <tr>\n",
              "      <th>3</th>\n",
              "      <td>Bath and North East Somerset</td>\n",
              "      <td>-0.076754</td>\n",
              "      <td>0.173397</td>\n",
              "    </tr>\n",
              "    <tr>\n",
              "      <th>4</th>\n",
              "      <td>Bedford</td>\n",
              "      <td>0.051447</td>\n",
              "      <td>0.122324</td>\n",
              "    </tr>\n",
              "    <tr>\n",
              "      <th>...</th>\n",
              "      <td>...</td>\n",
              "      <td>...</td>\n",
              "      <td>...</td>\n",
              "    </tr>\n",
              "    <tr>\n",
              "      <th>147</th>\n",
              "      <td>Wirral</td>\n",
              "      <td>0.035937</td>\n",
              "      <td>0.126320</td>\n",
              "    </tr>\n",
              "    <tr>\n",
              "      <th>148</th>\n",
              "      <td>Wokingham</td>\n",
              "      <td>0.226891</td>\n",
              "      <td>0.157534</td>\n",
              "    </tr>\n",
              "    <tr>\n",
              "      <th>149</th>\n",
              "      <td>Wolverhampton</td>\n",
              "      <td>0.089459</td>\n",
              "      <td>0.099936</td>\n",
              "    </tr>\n",
              "    <tr>\n",
              "      <th>150</th>\n",
              "      <td>Worcestershire</td>\n",
              "      <td>0.126196</td>\n",
              "      <td>0.057498</td>\n",
              "    </tr>\n",
              "    <tr>\n",
              "      <th>151</th>\n",
              "      <td>York</td>\n",
              "      <td>0.082051</td>\n",
              "      <td>0.116904</td>\n",
              "    </tr>\n",
              "  </tbody>\n",
              "</table>\n",
              "<p>152 rows × 3 columns</p>\n",
              "</div>"
            ],
            "text/plain": [
              "             local_authority_area  ...  total_case_growth_rate_2013_2018\n",
              "0            Barking and Dagenham  ...                          0.232633\n",
              "1                          Barnet  ...                          0.301347\n",
              "2                        Barnsley  ...                          0.168514\n",
              "3    Bath and North East Somerset  ...                          0.173397\n",
              "4                         Bedford  ...                          0.122324\n",
              "..                            ...  ...                               ...\n",
              "147                        Wirral  ...                          0.126320\n",
              "148                     Wokingham  ...                          0.157534\n",
              "149                 Wolverhampton  ...                          0.099936\n",
              "150                Worcestershire  ...                          0.057498\n",
              "151                          York  ...                          0.116904\n",
              "\n",
              "[152 rows x 3 columns]"
            ]
          },
          "metadata": {},
          "execution_count": 193
        }
      ]
    },
    {
      "cell_type": "code",
      "metadata": {
        "colab": {
          "base_uri": "https://localhost:8080/",
          "height": 419
        },
        "id": "OKP2Ypid0Lv-",
        "outputId": "d6cd7644-ded8-4bb5-8776-9f04cdea7c78"
      },
      "source": [
        "df_growth.sort_values(by=['total_case_growth_rate_2013_2018'],ascending=False)"
      ],
      "execution_count": 194,
      "outputs": [
        {
          "output_type": "execute_result",
          "data": {
            "text/html": [
              "<div>\n",
              "<style scoped>\n",
              "    .dataframe tbody tr th:only-of-type {\n",
              "        vertical-align: middle;\n",
              "    }\n",
              "\n",
              "    .dataframe tbody tr th {\n",
              "        vertical-align: top;\n",
              "    }\n",
              "\n",
              "    .dataframe thead th {\n",
              "        text-align: right;\n",
              "    }\n",
              "</style>\n",
              "<table border=\"1\" class=\"dataframe\">\n",
              "  <thead>\n",
              "    <tr style=\"text-align: right;\">\n",
              "      <th></th>\n",
              "      <th>local_authority_area</th>\n",
              "      <th>total_case_growth_rate_2008_2013</th>\n",
              "      <th>total_case_growth_rate_2013_2018</th>\n",
              "    </tr>\n",
              "  </thead>\n",
              "  <tbody>\n",
              "    <tr>\n",
              "      <th>59</th>\n",
              "      <td>Isles of Scilly</td>\n",
              "      <td>-0.800000</td>\n",
              "      <td>3.000000</td>\n",
              "    </tr>\n",
              "    <tr>\n",
              "      <th>64</th>\n",
              "      <td>Kingston upon Thames</td>\n",
              "      <td>0.007435</td>\n",
              "      <td>0.453875</td>\n",
              "    </tr>\n",
              "    <tr>\n",
              "      <th>102</th>\n",
              "      <td>Richmond upon Thames</td>\n",
              "      <td>0.188940</td>\n",
              "      <td>0.383721</td>\n",
              "    </tr>\n",
              "    <tr>\n",
              "      <th>61</th>\n",
              "      <td>Kensington and Chelsea</td>\n",
              "      <td>-0.036913</td>\n",
              "      <td>0.344948</td>\n",
              "    </tr>\n",
              "    <tr>\n",
              "      <th>72</th>\n",
              "      <td>Lewisham</td>\n",
              "      <td>0.081712</td>\n",
              "      <td>0.334532</td>\n",
              "    </tr>\n",
              "    <tr>\n",
              "      <th>...</th>\n",
              "      <td>...</td>\n",
              "      <td>...</td>\n",
              "      <td>...</td>\n",
              "    </tr>\n",
              "    <tr>\n",
              "      <th>27</th>\n",
              "      <td>Coventry</td>\n",
              "      <td>0.153994</td>\n",
              "      <td>-0.036545</td>\n",
              "    </tr>\n",
              "    <tr>\n",
              "      <th>91</th>\n",
              "      <td>Nottingham</td>\n",
              "      <td>0.061010</td>\n",
              "      <td>-0.065588</td>\n",
              "    </tr>\n",
              "    <tr>\n",
              "      <th>48</th>\n",
              "      <td>Hammersmith and Fulham</td>\n",
              "      <td>0.027027</td>\n",
              "      <td>-0.073308</td>\n",
              "    </tr>\n",
              "    <tr>\n",
              "      <th>25</th>\n",
              "      <td>City of London</td>\n",
              "      <td>-0.125000</td>\n",
              "      <td>-0.142857</td>\n",
              "    </tr>\n",
              "    <tr>\n",
              "      <th>105</th>\n",
              "      <td>Rutland</td>\n",
              "      <td>0.159091</td>\n",
              "      <td>-0.156863</td>\n",
              "    </tr>\n",
              "  </tbody>\n",
              "</table>\n",
              "<p>152 rows × 3 columns</p>\n",
              "</div>"
            ],
            "text/plain": [
              "       local_authority_area  ...  total_case_growth_rate_2013_2018\n",
              "59          Isles of Scilly  ...                          3.000000\n",
              "64     Kingston upon Thames  ...                          0.453875\n",
              "102    Richmond upon Thames  ...                          0.383721\n",
              "61   Kensington and Chelsea  ...                          0.344948\n",
              "72                 Lewisham  ...                          0.334532\n",
              "..                      ...  ...                               ...\n",
              "27                 Coventry  ...                         -0.036545\n",
              "91               Nottingham  ...                         -0.065588\n",
              "48   Hammersmith and Fulham  ...                         -0.073308\n",
              "25           City of London  ...                         -0.142857\n",
              "105                 Rutland  ...                         -0.156863\n",
              "\n",
              "[152 rows x 3 columns]"
            ]
          },
          "metadata": {},
          "execution_count": 194
        }
      ]
    },
    {
      "cell_type": "code",
      "metadata": {
        "colab": {
          "base_uri": "https://localhost:8080/",
          "height": 419
        },
        "id": "XS1X7k4Y0aPL",
        "outputId": "f7498de7-3ddc-4a32-e84e-cf37403797a3"
      },
      "source": [
        "#查看2008到2013的总病例各地区增长率\n",
        "df_growth.sort_values(by=['total_case_growth_rate_2008_2013'],ascending=False)"
      ],
      "execution_count": 195,
      "outputs": [
        {
          "output_type": "execute_result",
          "data": {
            "text/html": [
              "<div>\n",
              "<style scoped>\n",
              "    .dataframe tbody tr th:only-of-type {\n",
              "        vertical-align: middle;\n",
              "    }\n",
              "\n",
              "    .dataframe tbody tr th {\n",
              "        vertical-align: top;\n",
              "    }\n",
              "\n",
              "    .dataframe thead th {\n",
              "        text-align: right;\n",
              "    }\n",
              "</style>\n",
              "<table border=\"1\" class=\"dataframe\">\n",
              "  <thead>\n",
              "    <tr style=\"text-align: right;\">\n",
              "      <th></th>\n",
              "      <th>local_authority_area</th>\n",
              "      <th>total_case_growth_rate_2008_2013</th>\n",
              "      <th>total_case_growth_rate_2013_2018</th>\n",
              "    </tr>\n",
              "  </thead>\n",
              "  <tbody>\n",
              "    <tr>\n",
              "      <th>127</th>\n",
              "      <td>Sutton</td>\n",
              "      <td>0.335570</td>\n",
              "      <td>0.105528</td>\n",
              "    </tr>\n",
              "    <tr>\n",
              "      <th>45</th>\n",
              "      <td>Greenwich</td>\n",
              "      <td>0.310976</td>\n",
              "      <td>0.178295</td>\n",
              "    </tr>\n",
              "    <tr>\n",
              "      <th>2</th>\n",
              "      <td>Barnsley</td>\n",
              "      <td>0.252778</td>\n",
              "      <td>0.168514</td>\n",
              "    </tr>\n",
              "    <tr>\n",
              "      <th>148</th>\n",
              "      <td>Wokingham</td>\n",
              "      <td>0.226891</td>\n",
              "      <td>0.157534</td>\n",
              "    </tr>\n",
              "    <tr>\n",
              "      <th>16</th>\n",
              "      <td>Bromley</td>\n",
              "      <td>0.206219</td>\n",
              "      <td>0.268657</td>\n",
              "    </tr>\n",
              "    <tr>\n",
              "      <th>...</th>\n",
              "      <td>...</td>\n",
              "      <td>...</td>\n",
              "      <td>...</td>\n",
              "    </tr>\n",
              "    <tr>\n",
              "      <th>3</th>\n",
              "      <td>Bath and North East Somerset</td>\n",
              "      <td>-0.076754</td>\n",
              "      <td>0.173397</td>\n",
              "    </tr>\n",
              "    <tr>\n",
              "      <th>138</th>\n",
              "      <td>Wandsworth</td>\n",
              "      <td>-0.088292</td>\n",
              "      <td>0.132632</td>\n",
              "    </tr>\n",
              "    <tr>\n",
              "      <th>133</th>\n",
              "      <td>Tower Hamlets</td>\n",
              "      <td>-0.112478</td>\n",
              "      <td>0.198020</td>\n",
              "    </tr>\n",
              "    <tr>\n",
              "      <th>25</th>\n",
              "      <td>City of London</td>\n",
              "      <td>-0.125000</td>\n",
              "      <td>-0.142857</td>\n",
              "    </tr>\n",
              "    <tr>\n",
              "      <th>59</th>\n",
              "      <td>Isles of Scilly</td>\n",
              "      <td>-0.800000</td>\n",
              "      <td>3.000000</td>\n",
              "    </tr>\n",
              "  </tbody>\n",
              "</table>\n",
              "<p>152 rows × 3 columns</p>\n",
              "</div>"
            ],
            "text/plain": [
              "             local_authority_area  ...  total_case_growth_rate_2013_2018\n",
              "127                        Sutton  ...                          0.105528\n",
              "45                      Greenwich  ...                          0.178295\n",
              "2                        Barnsley  ...                          0.168514\n",
              "148                     Wokingham  ...                          0.157534\n",
              "16                        Bromley  ...                          0.268657\n",
              "..                            ...  ...                               ...\n",
              "3    Bath and North East Somerset  ...                          0.173397\n",
              "138                    Wandsworth  ...                          0.132632\n",
              "133                 Tower Hamlets  ...                          0.198020\n",
              "25                 City of London  ...                         -0.142857\n",
              "59                Isles of Scilly  ...                          3.000000\n",
              "\n",
              "[152 rows x 3 columns]"
            ]
          },
          "metadata": {},
          "execution_count": 195
        }
      ]
    },
    {
      "cell_type": "markdown",
      "metadata": {
        "id": "1XUyrxYv3bEh"
      },
      "source": [
        "####Calculate the incidence of disease in the population in 5 years\n"
      ]
    },
    {
      "cell_type": "code",
      "metadata": {
        "id": "whpkI0UE25wg"
      },
      "source": [
        "df_pop = df[['local_authority_area']]"
      ],
      "execution_count": 196,
      "outputs": []
    },
    {
      "cell_type": "code",
      "metadata": {
        "colab": {
          "base_uri": "https://localhost:8080/",
          "height": 292
        },
        "id": "Ebsc9NFk6Wil",
        "outputId": "5a51e338-a77e-4c45-89da-ee35f13d54c9"
      },
      "source": [
        "df.head()"
      ],
      "execution_count": 197,
      "outputs": [
        {
          "output_type": "execute_result",
          "data": {
            "text/html": [
              "<div>\n",
              "<style scoped>\n",
              "    .dataframe tbody tr th:only-of-type {\n",
              "        vertical-align: middle;\n",
              "    }\n",
              "\n",
              "    .dataframe tbody tr th {\n",
              "        vertical-align: top;\n",
              "    }\n",
              "\n",
              "    .dataframe thead th {\n",
              "        text-align: right;\n",
              "    }\n",
              "</style>\n",
              "<table border=\"1\" class=\"dataframe\">\n",
              "  <thead>\n",
              "    <tr style=\"text-align: right;\">\n",
              "      <th></th>\n",
              "      <th>local_authority_area</th>\n",
              "      <th>2008_cases_total</th>\n",
              "      <th>2013_cases_total</th>\n",
              "      <th>2018_cases_total</th>\n",
              "      <th>2008_pop_total</th>\n",
              "      <th>2013_pop_total</th>\n",
              "      <th>2018_pop_total</th>\n",
              "      <th>2008_cases_male</th>\n",
              "      <th>2013_cases_male</th>\n",
              "      <th>2018_cases_male</th>\n",
              "      <th>2008_pop_male</th>\n",
              "      <th>2013_pop_male</th>\n",
              "      <th>2018_pop_male</th>\n",
              "      <th>2008_cases_female</th>\n",
              "      <th>2013_cases_female</th>\n",
              "      <th>2018_cases_female</th>\n",
              "      <th>2008_pop_female</th>\n",
              "      <th>2013_pop_female</th>\n",
              "      <th>2018_pop_female</th>\n",
              "      <th>total_budget</th>\n",
              "      <th>clean_air</th>\n",
              "      <th>clean_environ</th>\n",
              "      <th>health_training</th>\n",
              "      <th>school_awareness</th>\n",
              "      <th>media_awareness</th>\n",
              "      <th>sub_counselling</th>\n",
              "      <th>region</th>\n",
              "      <th>local_authority_type</th>\n",
              "    </tr>\n",
              "  </thead>\n",
              "  <tbody>\n",
              "    <tr>\n",
              "      <th>0</th>\n",
              "      <td>Barking and Dagenham</td>\n",
              "      <td>593</td>\n",
              "      <td>619</td>\n",
              "      <td>763</td>\n",
              "      <td>172684</td>\n",
              "      <td>179030</td>\n",
              "      <td>181779</td>\n",
              "      <td>187</td>\n",
              "      <td>190</td>\n",
              "      <td>230</td>\n",
              "      <td>83890</td>\n",
              "      <td>81915</td>\n",
              "      <td>77983</td>\n",
              "      <td>406</td>\n",
              "      <td>429</td>\n",
              "      <td>533</td>\n",
              "      <td>88794</td>\n",
              "      <td>97115</td>\n",
              "      <td>103796</td>\n",
              "      <td>139000</td>\n",
              "      <td>21000</td>\n",
              "      <td>22000</td>\n",
              "      <td>18000</td>\n",
              "      <td>41000</td>\n",
              "      <td>18000</td>\n",
              "      <td>19000</td>\n",
              "      <td>London</td>\n",
              "      <td>london_borough</td>\n",
              "    </tr>\n",
              "    <tr>\n",
              "      <th>1</th>\n",
              "      <td>Barnet</td>\n",
              "      <td>539</td>\n",
              "      <td>594</td>\n",
              "      <td>773</td>\n",
              "      <td>340435</td>\n",
              "      <td>344062</td>\n",
              "      <td>355955</td>\n",
              "      <td>212</td>\n",
              "      <td>204</td>\n",
              "      <td>292</td>\n",
              "      <td>169060</td>\n",
              "      <td>161533</td>\n",
              "      <td>161769</td>\n",
              "      <td>327</td>\n",
              "      <td>390</td>\n",
              "      <td>481</td>\n",
              "      <td>171375</td>\n",
              "      <td>182529</td>\n",
              "      <td>194186</td>\n",
              "      <td>220000</td>\n",
              "      <td>50000</td>\n",
              "      <td>17000</td>\n",
              "      <td>23000</td>\n",
              "      <td>74000</td>\n",
              "      <td>30000</td>\n",
              "      <td>26000</td>\n",
              "      <td>London</td>\n",
              "      <td>london_borough</td>\n",
              "    </tr>\n",
              "    <tr>\n",
              "      <th>2</th>\n",
              "      <td>Barnsley</td>\n",
              "      <td>360</td>\n",
              "      <td>451</td>\n",
              "      <td>527</td>\n",
              "      <td>226755</td>\n",
              "      <td>244010</td>\n",
              "      <td>257883</td>\n",
              "      <td>148</td>\n",
              "      <td>186</td>\n",
              "      <td>212</td>\n",
              "      <td>110384</td>\n",
              "      <td>117286</td>\n",
              "      <td>127055</td>\n",
              "      <td>212</td>\n",
              "      <td>265</td>\n",
              "      <td>315</td>\n",
              "      <td>116371</td>\n",
              "      <td>126724</td>\n",
              "      <td>130828</td>\n",
              "      <td>160000</td>\n",
              "      <td>41000</td>\n",
              "      <td>45000</td>\n",
              "      <td>5000</td>\n",
              "      <td>26000</td>\n",
              "      <td>29000</td>\n",
              "      <td>14000</td>\n",
              "      <td>Yorkshire and the Humber</td>\n",
              "      <td>metropolitan_borough</td>\n",
              "    </tr>\n",
              "    <tr>\n",
              "      <th>3</th>\n",
              "      <td>Bath and North East Somerset</td>\n",
              "      <td>456</td>\n",
              "      <td>421</td>\n",
              "      <td>494</td>\n",
              "      <td>178625</td>\n",
              "      <td>172975</td>\n",
              "      <td>189334</td>\n",
              "      <td>157</td>\n",
              "      <td>129</td>\n",
              "      <td>156</td>\n",
              "      <td>87026</td>\n",
              "      <td>84077</td>\n",
              "      <td>90890</td>\n",
              "      <td>299</td>\n",
              "      <td>292</td>\n",
              "      <td>338</td>\n",
              "      <td>91599</td>\n",
              "      <td>88898</td>\n",
              "      <td>98444</td>\n",
              "      <td>161000</td>\n",
              "      <td>33000</td>\n",
              "      <td>42000</td>\n",
              "      <td>19000</td>\n",
              "      <td>50000</td>\n",
              "      <td>10000</td>\n",
              "      <td>7000</td>\n",
              "      <td>South West</td>\n",
              "      <td>unitary_authority</td>\n",
              "    </tr>\n",
              "    <tr>\n",
              "      <th>4</th>\n",
              "      <td>Bedford</td>\n",
              "      <td>311</td>\n",
              "      <td>327</td>\n",
              "      <td>367</td>\n",
              "      <td>158185</td>\n",
              "      <td>164807</td>\n",
              "      <td>170463</td>\n",
              "      <td>138</td>\n",
              "      <td>145</td>\n",
              "      <td>156</td>\n",
              "      <td>75929</td>\n",
              "      <td>85074</td>\n",
              "      <td>82609</td>\n",
              "      <td>173</td>\n",
              "      <td>182</td>\n",
              "      <td>211</td>\n",
              "      <td>82256</td>\n",
              "      <td>79733</td>\n",
              "      <td>87854</td>\n",
              "      <td>130000</td>\n",
              "      <td>37000</td>\n",
              "      <td>52000</td>\n",
              "      <td>17000</td>\n",
              "      <td>8000</td>\n",
              "      <td>3000</td>\n",
              "      <td>13000</td>\n",
              "      <td>East of England</td>\n",
              "      <td>unitary_authority</td>\n",
              "    </tr>\n",
              "  </tbody>\n",
              "</table>\n",
              "</div>"
            ],
            "text/plain": [
              "           local_authority_area  ...  local_authority_type\n",
              "0          Barking and Dagenham  ...        london_borough\n",
              "1                        Barnet  ...        london_borough\n",
              "2                      Barnsley  ...  metropolitan_borough\n",
              "3  Bath and North East Somerset  ...     unitary_authority\n",
              "4                       Bedford  ...     unitary_authority\n",
              "\n",
              "[5 rows x 28 columns]"
            ]
          },
          "metadata": {},
          "execution_count": 197
        }
      ]
    },
    {
      "cell_type": "code",
      "metadata": {
        "colab": {
          "base_uri": "https://localhost:8080/",
          "height": 847
        },
        "id": "0-w5KZCG378u",
        "outputId": "60cdb107-84a3-450f-a39b-06f9664069a0"
      },
      "source": [
        "#计算各个年份人口病发率\n",
        "df_pop['case_pop_rate_2008'] = ((df['2008_cases_total']/df['2008_pop_total']))\n",
        "df_pop['case_pop_rate_2013'] = ((df['2013_cases_total']/df['2013_pop_total']))\n",
        "df_pop['case_pop_rate_2018'] = ((df['2018_cases_total']/df['2018_pop_total']))\n",
        "df_pop"
      ],
      "execution_count": 198,
      "outputs": [
        {
          "output_type": "stream",
          "name": "stderr",
          "text": [
            "/usr/local/lib/python3.7/dist-packages/ipykernel_launcher.py:2: SettingWithCopyWarning:\n",
            "\n",
            "\n",
            "A value is trying to be set on a copy of a slice from a DataFrame.\n",
            "Try using .loc[row_indexer,col_indexer] = value instead\n",
            "\n",
            "See the caveats in the documentation: https://pandas.pydata.org/pandas-docs/stable/user_guide/indexing.html#returning-a-view-versus-a-copy\n",
            "\n",
            "/usr/local/lib/python3.7/dist-packages/ipykernel_launcher.py:3: SettingWithCopyWarning:\n",
            "\n",
            "\n",
            "A value is trying to be set on a copy of a slice from a DataFrame.\n",
            "Try using .loc[row_indexer,col_indexer] = value instead\n",
            "\n",
            "See the caveats in the documentation: https://pandas.pydata.org/pandas-docs/stable/user_guide/indexing.html#returning-a-view-versus-a-copy\n",
            "\n",
            "/usr/local/lib/python3.7/dist-packages/ipykernel_launcher.py:4: SettingWithCopyWarning:\n",
            "\n",
            "\n",
            "A value is trying to be set on a copy of a slice from a DataFrame.\n",
            "Try using .loc[row_indexer,col_indexer] = value instead\n",
            "\n",
            "See the caveats in the documentation: https://pandas.pydata.org/pandas-docs/stable/user_guide/indexing.html#returning-a-view-versus-a-copy\n",
            "\n"
          ]
        },
        {
          "output_type": "execute_result",
          "data": {
            "text/html": [
              "<div>\n",
              "<style scoped>\n",
              "    .dataframe tbody tr th:only-of-type {\n",
              "        vertical-align: middle;\n",
              "    }\n",
              "\n",
              "    .dataframe tbody tr th {\n",
              "        vertical-align: top;\n",
              "    }\n",
              "\n",
              "    .dataframe thead th {\n",
              "        text-align: right;\n",
              "    }\n",
              "</style>\n",
              "<table border=\"1\" class=\"dataframe\">\n",
              "  <thead>\n",
              "    <tr style=\"text-align: right;\">\n",
              "      <th></th>\n",
              "      <th>local_authority_area</th>\n",
              "      <th>case_pop_rate_2008</th>\n",
              "      <th>case_pop_rate_2013</th>\n",
              "      <th>case_pop_rate_2018</th>\n",
              "    </tr>\n",
              "  </thead>\n",
              "  <tbody>\n",
              "    <tr>\n",
              "      <th>0</th>\n",
              "      <td>Barking and Dagenham</td>\n",
              "      <td>0.003434</td>\n",
              "      <td>0.003458</td>\n",
              "      <td>0.004197</td>\n",
              "    </tr>\n",
              "    <tr>\n",
              "      <th>1</th>\n",
              "      <td>Barnet</td>\n",
              "      <td>0.001583</td>\n",
              "      <td>0.001726</td>\n",
              "      <td>0.002172</td>\n",
              "    </tr>\n",
              "    <tr>\n",
              "      <th>2</th>\n",
              "      <td>Barnsley</td>\n",
              "      <td>0.001588</td>\n",
              "      <td>0.001848</td>\n",
              "      <td>0.002044</td>\n",
              "    </tr>\n",
              "    <tr>\n",
              "      <th>3</th>\n",
              "      <td>Bath and North East Somerset</td>\n",
              "      <td>0.002553</td>\n",
              "      <td>0.002434</td>\n",
              "      <td>0.002609</td>\n",
              "    </tr>\n",
              "    <tr>\n",
              "      <th>4</th>\n",
              "      <td>Bedford</td>\n",
              "      <td>0.001966</td>\n",
              "      <td>0.001984</td>\n",
              "      <td>0.002153</td>\n",
              "    </tr>\n",
              "    <tr>\n",
              "      <th>...</th>\n",
              "      <td>...</td>\n",
              "      <td>...</td>\n",
              "      <td>...</td>\n",
              "      <td>...</td>\n",
              "    </tr>\n",
              "    <tr>\n",
              "      <th>147</th>\n",
              "      <td>Wirral</td>\n",
              "      <td>0.008241</td>\n",
              "      <td>0.008496</td>\n",
              "      <td>0.008729</td>\n",
              "    </tr>\n",
              "    <tr>\n",
              "      <th>148</th>\n",
              "      <td>Wokingham</td>\n",
              "      <td>0.000740</td>\n",
              "      <td>0.000881</td>\n",
              "      <td>0.001014</td>\n",
              "    </tr>\n",
              "    <tr>\n",
              "      <th>149</th>\n",
              "      <td>Wolverhampton</td>\n",
              "      <td>0.006015</td>\n",
              "      <td>0.006231</td>\n",
              "      <td>0.006545</td>\n",
              "    </tr>\n",
              "    <tr>\n",
              "      <th>150</th>\n",
              "      <td>Worcestershire</td>\n",
              "      <td>0.004861</td>\n",
              "      <td>0.005051</td>\n",
              "      <td>0.005083</td>\n",
              "    </tr>\n",
              "    <tr>\n",
              "      <th>151</th>\n",
              "      <td>York</td>\n",
              "      <td>0.005962</td>\n",
              "      <td>0.006241</td>\n",
              "      <td>0.006667</td>\n",
              "    </tr>\n",
              "  </tbody>\n",
              "</table>\n",
              "<p>152 rows × 4 columns</p>\n",
              "</div>"
            ],
            "text/plain": [
              "             local_authority_area  ...  case_pop_rate_2018\n",
              "0            Barking and Dagenham  ...            0.004197\n",
              "1                          Barnet  ...            0.002172\n",
              "2                        Barnsley  ...            0.002044\n",
              "3    Bath and North East Somerset  ...            0.002609\n",
              "4                         Bedford  ...            0.002153\n",
              "..                            ...  ...                 ...\n",
              "147                        Wirral  ...            0.008729\n",
              "148                     Wokingham  ...            0.001014\n",
              "149                 Wolverhampton  ...            0.006545\n",
              "150                Worcestershire  ...            0.005083\n",
              "151                          York  ...            0.006667\n",
              "\n",
              "[152 rows x 4 columns]"
            ]
          },
          "metadata": {},
          "execution_count": 198
        }
      ]
    },
    {
      "cell_type": "code",
      "metadata": {
        "colab": {
          "base_uri": "https://localhost:8080/"
        },
        "id": "c0af2uvu6txF",
        "outputId": "2c01b4a4-ef77-4196-8fb9-8f616aa537f1"
      },
      "source": [
        "#计算人口病发率增长率\n",
        "df_pop['total_case_pop_rate_2008_2013'] = (((df_pop['case_pop_rate_2013'] - df_pop['case_pop_rate_2008'])/df_pop['case_pop_rate_2008']))\n",
        "df_pop['total_case_pop_rate_2013_2018'] = (((df_pop['case_pop_rate_2018'] - df_pop['case_pop_rate_2013'])/df_pop['case_pop_rate_2013']))"
      ],
      "execution_count": 199,
      "outputs": [
        {
          "output_type": "stream",
          "name": "stderr",
          "text": [
            "/usr/local/lib/python3.7/dist-packages/ipykernel_launcher.py:2: SettingWithCopyWarning:\n",
            "\n",
            "\n",
            "A value is trying to be set on a copy of a slice from a DataFrame.\n",
            "Try using .loc[row_indexer,col_indexer] = value instead\n",
            "\n",
            "See the caveats in the documentation: https://pandas.pydata.org/pandas-docs/stable/user_guide/indexing.html#returning-a-view-versus-a-copy\n",
            "\n",
            "/usr/local/lib/python3.7/dist-packages/ipykernel_launcher.py:3: SettingWithCopyWarning:\n",
            "\n",
            "\n",
            "A value is trying to be set on a copy of a slice from a DataFrame.\n",
            "Try using .loc[row_indexer,col_indexer] = value instead\n",
            "\n",
            "See the caveats in the documentation: https://pandas.pydata.org/pandas-docs/stable/user_guide/indexing.html#returning-a-view-versus-a-copy\n",
            "\n"
          ]
        }
      ]
    },
    {
      "cell_type": "code",
      "metadata": {
        "colab": {
          "base_uri": "https://localhost:8080/",
          "height": 456
        },
        "id": "qoQopyoR7Wyk",
        "outputId": "6d61488d-1944-455b-f487-5b93206cfb5b"
      },
      "source": [
        "#查看2008到2013的各地区人口病发率增长率\n",
        "df_pop.sort_values(by=['total_case_pop_rate_2008_2013'],ascending=False)"
      ],
      "execution_count": 200,
      "outputs": [
        {
          "output_type": "execute_result",
          "data": {
            "text/html": [
              "<div>\n",
              "<style scoped>\n",
              "    .dataframe tbody tr th:only-of-type {\n",
              "        vertical-align: middle;\n",
              "    }\n",
              "\n",
              "    .dataframe tbody tr th {\n",
              "        vertical-align: top;\n",
              "    }\n",
              "\n",
              "    .dataframe thead th {\n",
              "        text-align: right;\n",
              "    }\n",
              "</style>\n",
              "<table border=\"1\" class=\"dataframe\">\n",
              "  <thead>\n",
              "    <tr style=\"text-align: right;\">\n",
              "      <th></th>\n",
              "      <th>local_authority_area</th>\n",
              "      <th>case_pop_rate_2008</th>\n",
              "      <th>case_pop_rate_2013</th>\n",
              "      <th>case_pop_rate_2018</th>\n",
              "      <th>total_case_pop_rate_2008_2013</th>\n",
              "      <th>total_case_pop_rate_2013_2018</th>\n",
              "    </tr>\n",
              "  </thead>\n",
              "  <tbody>\n",
              "    <tr>\n",
              "      <th>102</th>\n",
              "      <td>Richmond upon Thames</td>\n",
              "      <td>0.001151</td>\n",
              "      <td>0.001472</td>\n",
              "      <td>0.001914</td>\n",
              "      <td>0.278623</td>\n",
              "      <td>0.300451</td>\n",
              "    </tr>\n",
              "    <tr>\n",
              "      <th>127</th>\n",
              "      <td>Sutton</td>\n",
              "      <td>0.001562</td>\n",
              "      <td>0.001947</td>\n",
              "      <td>0.002170</td>\n",
              "      <td>0.246924</td>\n",
              "      <td>0.114048</td>\n",
              "    </tr>\n",
              "    <tr>\n",
              "      <th>82</th>\n",
              "      <td>Newham</td>\n",
              "      <td>0.002327</td>\n",
              "      <td>0.002775</td>\n",
              "      <td>0.002992</td>\n",
              "      <td>0.192350</td>\n",
              "      <td>0.078453</td>\n",
              "    </tr>\n",
              "    <tr>\n",
              "      <th>148</th>\n",
              "      <td>Wokingham</td>\n",
              "      <td>0.000740</td>\n",
              "      <td>0.000881</td>\n",
              "      <td>0.001014</td>\n",
              "      <td>0.190021</td>\n",
              "      <td>0.151270</td>\n",
              "    </tr>\n",
              "    <tr>\n",
              "      <th>56</th>\n",
              "      <td>Hillingdon</td>\n",
              "      <td>0.002316</td>\n",
              "      <td>0.002724</td>\n",
              "      <td>0.002772</td>\n",
              "      <td>0.176013</td>\n",
              "      <td>0.017521</td>\n",
              "    </tr>\n",
              "    <tr>\n",
              "      <th>...</th>\n",
              "      <td>...</td>\n",
              "      <td>...</td>\n",
              "      <td>...</td>\n",
              "      <td>...</td>\n",
              "      <td>...</td>\n",
              "      <td>...</td>\n",
              "    </tr>\n",
              "    <tr>\n",
              "      <th>116</th>\n",
              "      <td>Southampton</td>\n",
              "      <td>0.005702</td>\n",
              "      <td>0.005493</td>\n",
              "      <td>0.005733</td>\n",
              "      <td>-0.036596</td>\n",
              "      <td>0.043749</td>\n",
              "    </tr>\n",
              "    <tr>\n",
              "      <th>20</th>\n",
              "      <td>Cambridgeshire</td>\n",
              "      <td>0.002568</td>\n",
              "      <td>0.002466</td>\n",
              "      <td>0.002574</td>\n",
              "      <td>-0.039538</td>\n",
              "      <td>0.043481</td>\n",
              "    </tr>\n",
              "    <tr>\n",
              "      <th>95</th>\n",
              "      <td>Peterborough</td>\n",
              "      <td>0.002433</td>\n",
              "      <td>0.002328</td>\n",
              "      <td>0.002585</td>\n",
              "      <td>-0.043333</td>\n",
              "      <td>0.110453</td>\n",
              "    </tr>\n",
              "    <tr>\n",
              "      <th>3</th>\n",
              "      <td>Bath and North East Somerset</td>\n",
              "      <td>0.002553</td>\n",
              "      <td>0.002434</td>\n",
              "      <td>0.002609</td>\n",
              "      <td>-0.046598</td>\n",
              "      <td>0.072012</td>\n",
              "    </tr>\n",
              "    <tr>\n",
              "      <th>59</th>\n",
              "      <td>Isles of Scilly</td>\n",
              "      <td>0.002273</td>\n",
              "      <td>0.000419</td>\n",
              "      <td>0.001639</td>\n",
              "      <td>-0.815514</td>\n",
              "      <td>2.909836</td>\n",
              "    </tr>\n",
              "  </tbody>\n",
              "</table>\n",
              "<p>152 rows × 6 columns</p>\n",
              "</div>"
            ],
            "text/plain": [
              "             local_authority_area  ...  total_case_pop_rate_2013_2018\n",
              "102          Richmond upon Thames  ...                       0.300451\n",
              "127                        Sutton  ...                       0.114048\n",
              "82                         Newham  ...                       0.078453\n",
              "148                     Wokingham  ...                       0.151270\n",
              "56                     Hillingdon  ...                       0.017521\n",
              "..                            ...  ...                            ...\n",
              "116                   Southampton  ...                       0.043749\n",
              "20                 Cambridgeshire  ...                       0.043481\n",
              "95                   Peterborough  ...                       0.110453\n",
              "3    Bath and North East Somerset  ...                       0.072012\n",
              "59                Isles of Scilly  ...                       2.909836\n",
              "\n",
              "[152 rows x 6 columns]"
            ]
          },
          "metadata": {},
          "execution_count": 200
        }
      ]
    },
    {
      "cell_type": "code",
      "metadata": {
        "colab": {
          "base_uri": "https://localhost:8080/",
          "height": 439
        },
        "id": "xWpjWsiW7kQO",
        "outputId": "a37d1583-e330-47ef-c929-6db3e28d2de9"
      },
      "source": [
        "#查看2013到2018的各地区人口病发率增长率\n",
        "df_pop.sort_values(by=['total_case_pop_rate_2013_2018'],ascending=False)"
      ],
      "execution_count": 201,
      "outputs": [
        {
          "output_type": "execute_result",
          "data": {
            "text/html": [
              "<div>\n",
              "<style scoped>\n",
              "    .dataframe tbody tr th:only-of-type {\n",
              "        vertical-align: middle;\n",
              "    }\n",
              "\n",
              "    .dataframe tbody tr th {\n",
              "        vertical-align: top;\n",
              "    }\n",
              "\n",
              "    .dataframe thead th {\n",
              "        text-align: right;\n",
              "    }\n",
              "</style>\n",
              "<table border=\"1\" class=\"dataframe\">\n",
              "  <thead>\n",
              "    <tr style=\"text-align: right;\">\n",
              "      <th></th>\n",
              "      <th>local_authority_area</th>\n",
              "      <th>case_pop_rate_2008</th>\n",
              "      <th>case_pop_rate_2013</th>\n",
              "      <th>case_pop_rate_2018</th>\n",
              "      <th>total_case_pop_rate_2008_2013</th>\n",
              "      <th>total_case_pop_rate_2013_2018</th>\n",
              "    </tr>\n",
              "  </thead>\n",
              "  <tbody>\n",
              "    <tr>\n",
              "      <th>59</th>\n",
              "      <td>Isles of Scilly</td>\n",
              "      <td>0.002273</td>\n",
              "      <td>0.000419</td>\n",
              "      <td>0.001639</td>\n",
              "      <td>-0.815514</td>\n",
              "      <td>2.909836</td>\n",
              "    </tr>\n",
              "    <tr>\n",
              "      <th>64</th>\n",
              "      <td>Kingston upon Thames</td>\n",
              "      <td>0.001623</td>\n",
              "      <td>0.001660</td>\n",
              "      <td>0.002393</td>\n",
              "      <td>0.022858</td>\n",
              "      <td>0.441652</td>\n",
              "    </tr>\n",
              "    <tr>\n",
              "      <th>61</th>\n",
              "      <td>Kensington and Chelsea</td>\n",
              "      <td>0.001730</td>\n",
              "      <td>0.001867</td>\n",
              "      <td>0.002546</td>\n",
              "      <td>0.079396</td>\n",
              "      <td>0.363783</td>\n",
              "    </tr>\n",
              "    <tr>\n",
              "      <th>78</th>\n",
              "      <td>Merton</td>\n",
              "      <td>0.001626</td>\n",
              "      <td>0.001742</td>\n",
              "      <td>0.002305</td>\n",
              "      <td>0.071228</td>\n",
              "      <td>0.323513</td>\n",
              "    </tr>\n",
              "    <tr>\n",
              "      <th>102</th>\n",
              "      <td>Richmond upon Thames</td>\n",
              "      <td>0.001151</td>\n",
              "      <td>0.001472</td>\n",
              "      <td>0.001914</td>\n",
              "      <td>0.278623</td>\n",
              "      <td>0.300451</td>\n",
              "    </tr>\n",
              "    <tr>\n",
              "      <th>...</th>\n",
              "      <td>...</td>\n",
              "      <td>...</td>\n",
              "      <td>...</td>\n",
              "      <td>...</td>\n",
              "      <td>...</td>\n",
              "      <td>...</td>\n",
              "    </tr>\n",
              "    <tr>\n",
              "      <th>145</th>\n",
              "      <td>Wiltshire</td>\n",
              "      <td>0.003001</td>\n",
              "      <td>0.002987</td>\n",
              "      <td>0.002902</td>\n",
              "      <td>-0.004633</td>\n",
              "      <td>-0.028222</td>\n",
              "    </tr>\n",
              "    <tr>\n",
              "      <th>130</th>\n",
              "      <td>Telford and Wrekin</td>\n",
              "      <td>0.004717</td>\n",
              "      <td>0.004967</td>\n",
              "      <td>0.004826</td>\n",
              "      <td>0.053073</td>\n",
              "      <td>-0.028375</td>\n",
              "    </tr>\n",
              "    <tr>\n",
              "      <th>96</th>\n",
              "      <td>Plymouth</td>\n",
              "      <td>0.002743</td>\n",
              "      <td>0.002970</td>\n",
              "      <td>0.002879</td>\n",
              "      <td>0.082562</td>\n",
              "      <td>-0.030686</td>\n",
              "    </tr>\n",
              "    <tr>\n",
              "      <th>112</th>\n",
              "      <td>Solihull</td>\n",
              "      <td>0.002922</td>\n",
              "      <td>0.003256</td>\n",
              "      <td>0.003015</td>\n",
              "      <td>0.114478</td>\n",
              "      <td>-0.073963</td>\n",
              "    </tr>\n",
              "    <tr>\n",
              "      <th>105</th>\n",
              "      <td>Rutland</td>\n",
              "      <td>0.002294</td>\n",
              "      <td>0.002558</td>\n",
              "      <td>0.002002</td>\n",
              "      <td>0.115224</td>\n",
              "      <td>-0.217322</td>\n",
              "    </tr>\n",
              "  </tbody>\n",
              "</table>\n",
              "<p>152 rows × 6 columns</p>\n",
              "</div>"
            ],
            "text/plain": [
              "       local_authority_area  ...  total_case_pop_rate_2013_2018\n",
              "59          Isles of Scilly  ...                       2.909836\n",
              "64     Kingston upon Thames  ...                       0.441652\n",
              "61   Kensington and Chelsea  ...                       0.363783\n",
              "78                   Merton  ...                       0.323513\n",
              "102    Richmond upon Thames  ...                       0.300451\n",
              "..                      ...  ...                            ...\n",
              "145               Wiltshire  ...                      -0.028222\n",
              "130      Telford and Wrekin  ...                      -0.028375\n",
              "96                 Plymouth  ...                      -0.030686\n",
              "112                Solihull  ...                      -0.073963\n",
              "105                 Rutland  ...                      -0.217322\n",
              "\n",
              "[152 rows x 6 columns]"
            ]
          },
          "metadata": {},
          "execution_count": 201
        }
      ]
    },
    {
      "cell_type": "markdown",
      "metadata": {
        "id": "cvzxq9H-cSNN"
      },
      "source": [
        "####Calculate the growth rate of total cases in each region in 10 years"
      ]
    },
    {
      "cell_type": "code",
      "metadata": {
        "id": "0vOZymMdcsdd"
      },
      "source": [
        "df_growth_10 = df[['local_authority_area']]"
      ],
      "execution_count": 202,
      "outputs": []
    },
    {
      "cell_type": "code",
      "metadata": {
        "colab": {
          "base_uri": "https://localhost:8080/",
          "height": 575
        },
        "id": "aJ2gG5EbcsoV",
        "outputId": "0495cbbb-472f-4b8b-ed59-54c6926775e0"
      },
      "source": [
        "#计算总病例增长率\n",
        "df_growth_10['total_case_growth_rate_2008_2018'] = (((df['2018_cases_total'] - df['2008_cases_total'])/df['2008_cases_total']))\n",
        "df_growth_10"
      ],
      "execution_count": 203,
      "outputs": [
        {
          "output_type": "stream",
          "name": "stderr",
          "text": [
            "/usr/local/lib/python3.7/dist-packages/ipykernel_launcher.py:2: SettingWithCopyWarning:\n",
            "\n",
            "\n",
            "A value is trying to be set on a copy of a slice from a DataFrame.\n",
            "Try using .loc[row_indexer,col_indexer] = value instead\n",
            "\n",
            "See the caveats in the documentation: https://pandas.pydata.org/pandas-docs/stable/user_guide/indexing.html#returning-a-view-versus-a-copy\n",
            "\n"
          ]
        },
        {
          "output_type": "execute_result",
          "data": {
            "text/html": [
              "<div>\n",
              "<style scoped>\n",
              "    .dataframe tbody tr th:only-of-type {\n",
              "        vertical-align: middle;\n",
              "    }\n",
              "\n",
              "    .dataframe tbody tr th {\n",
              "        vertical-align: top;\n",
              "    }\n",
              "\n",
              "    .dataframe thead th {\n",
              "        text-align: right;\n",
              "    }\n",
              "</style>\n",
              "<table border=\"1\" class=\"dataframe\">\n",
              "  <thead>\n",
              "    <tr style=\"text-align: right;\">\n",
              "      <th></th>\n",
              "      <th>local_authority_area</th>\n",
              "      <th>total_case_growth_rate_2008_2018</th>\n",
              "    </tr>\n",
              "  </thead>\n",
              "  <tbody>\n",
              "    <tr>\n",
              "      <th>0</th>\n",
              "      <td>Barking and Dagenham</td>\n",
              "      <td>0.286678</td>\n",
              "    </tr>\n",
              "    <tr>\n",
              "      <th>1</th>\n",
              "      <td>Barnet</td>\n",
              "      <td>0.434137</td>\n",
              "    </tr>\n",
              "    <tr>\n",
              "      <th>2</th>\n",
              "      <td>Barnsley</td>\n",
              "      <td>0.463889</td>\n",
              "    </tr>\n",
              "    <tr>\n",
              "      <th>3</th>\n",
              "      <td>Bath and North East Somerset</td>\n",
              "      <td>0.083333</td>\n",
              "    </tr>\n",
              "    <tr>\n",
              "      <th>4</th>\n",
              "      <td>Bedford</td>\n",
              "      <td>0.180064</td>\n",
              "    </tr>\n",
              "    <tr>\n",
              "      <th>...</th>\n",
              "      <td>...</td>\n",
              "      <td>...</td>\n",
              "    </tr>\n",
              "    <tr>\n",
              "      <th>147</th>\n",
              "      <td>Wirral</td>\n",
              "      <td>0.166797</td>\n",
              "    </tr>\n",
              "    <tr>\n",
              "      <th>148</th>\n",
              "      <td>Wokingham</td>\n",
              "      <td>0.420168</td>\n",
              "    </tr>\n",
              "    <tr>\n",
              "      <th>149</th>\n",
              "      <td>Wolverhampton</td>\n",
              "      <td>0.198336</td>\n",
              "    </tr>\n",
              "    <tr>\n",
              "      <th>150</th>\n",
              "      <td>Worcestershire</td>\n",
              "      <td>0.190949</td>\n",
              "    </tr>\n",
              "    <tr>\n",
              "      <th>151</th>\n",
              "      <td>York</td>\n",
              "      <td>0.208547</td>\n",
              "    </tr>\n",
              "  </tbody>\n",
              "</table>\n",
              "<p>152 rows × 2 columns</p>\n",
              "</div>"
            ],
            "text/plain": [
              "             local_authority_area  total_case_growth_rate_2008_2018\n",
              "0            Barking and Dagenham                          0.286678\n",
              "1                          Barnet                          0.434137\n",
              "2                        Barnsley                          0.463889\n",
              "3    Bath and North East Somerset                          0.083333\n",
              "4                         Bedford                          0.180064\n",
              "..                            ...                               ...\n",
              "147                        Wirral                          0.166797\n",
              "148                     Wokingham                          0.420168\n",
              "149                 Wolverhampton                          0.198336\n",
              "150                Worcestershire                          0.190949\n",
              "151                          York                          0.208547\n",
              "\n",
              "[152 rows x 2 columns]"
            ]
          },
          "metadata": {},
          "execution_count": 203
        }
      ]
    },
    {
      "cell_type": "code",
      "metadata": {
        "colab": {
          "base_uri": "https://localhost:8080/",
          "height": 542
        },
        "id": "6_5v7A9ndChb",
        "outputId": "15864a2a-73cb-4109-89d7-c4095872641a"
      },
      "source": [
        "#增长率\n",
        "px.box(df_growth_10, y=\"total_case_growth_rate_2008_2018\")"
      ],
      "execution_count": 204,
      "outputs": [
        {
          "output_type": "display_data",
          "data": {
            "text/html": [
              "<html>\n",
              "<head><meta charset=\"utf-8\" /></head>\n",
              "<body>\n",
              "    <div>\n",
              "            <script src=\"https://cdnjs.cloudflare.com/ajax/libs/mathjax/2.7.5/MathJax.js?config=TeX-AMS-MML_SVG\"></script><script type=\"text/javascript\">if (window.MathJax) {MathJax.Hub.Config({SVG: {font: \"STIX-Web\"}});}</script>\n",
              "                <script type=\"text/javascript\">window.PlotlyConfig = {MathJaxConfig: 'local'};</script>\n",
              "        <script src=\"https://cdn.plot.ly/plotly-latest.min.js\"></script>    \n",
              "            <div id=\"11d8fbb4-d296-443b-b95a-bf5a616bdf01\" class=\"plotly-graph-div\" style=\"height:525px; width:100%;\"></div>\n",
              "            <script type=\"text/javascript\">\n",
              "                \n",
              "                    window.PLOTLYENV=window.PLOTLYENV || {};\n",
              "                    \n",
              "                if (document.getElementById(\"11d8fbb4-d296-443b-b95a-bf5a616bdf01\")) {\n",
              "                    Plotly.newPlot(\n",
              "                        '11d8fbb4-d296-443b-b95a-bf5a616bdf01',\n",
              "                        [{\"alignmentgroup\": \"True\", \"hoverlabel\": {\"namelength\": 0}, \"hovertemplate\": \"total_case_growth_rate_2008_2018=%{y}\", \"legendgroup\": \"\", \"marker\": {\"color\": \"#636efa\"}, \"name\": \"\", \"notched\": false, \"offsetgroup\": \"\", \"orientation\": \"v\", \"showlegend\": false, \"type\": \"box\", \"x0\": \" \", \"xaxis\": \"x\", \"y\": [0.2866779089376054, 0.43413729128014844, 0.4638888888888889, 0.08333333333333333, 0.18006430868167203, 0.3622350674373796, 0.2245088868101029, 0.15764139590854392, 0.0686106346483705, 0.3584158415841584, 0.1550925925925926, 0.372972972972973, 0.1070840197693575, 0.2958199356913183, 0.028716216216216218, 0.11779835390946503, 0.530278232405892, 0.2502406159769009, 0.23044397463002114, 0.1689291101055807, 0.10367031551835158, 0.0943952802359882, 0.28007889546351084, 0.2400611620795107, 0.24769101595298068, -0.25, 0.1848767488341106, 0.11182108626198083, 0.46715328467153283, 0.1870967741935484, 0.1793103448275862, 0.15285996055226825, 0.1438634516391222, 0.25280112044817926, 0.23299161230195714, 0.3631484794275492, 0.1870179948586118, 0.3751493428912784, 0.17560553633217993, 0.19057377049180327, 0.26418786692759294, 0.3373860182370821, 0.17060749363404876, 0.4904306220095694, 0.3067978533094812, 0.5447154471544715, 0.1703056768558952, 0.2, -0.04826254826254826, 0.20027155465037338, 0.28793774319066145, 0.27710843373493976, 0.13448275862068965, 0.291981845688351, 0.23645320197044334, 0.11979166666666667, 0.3488372093023256, 0.2716049382716049, 0.43258426966292135, -0.2, 0.13948919449901767, 0.2953020134228188, 0.21066746126340882, 0.17565217391304347, 0.4646840148698885, 0.2327127659574468, 0.17408123791102514, 0.1739644970414201, 0.19838056680161945, 0.15019988577955454, 0.08805668016194332, 0.21296296296296297, 0.44357976653696496, 0.2064516129032258, 0.3206997084548105, 0.10728744939271255, 0.05174353205849269, 0.14052953156822812, 0.24096385542168675, 0.10480349344978165, 0.033373063170441, 0.20082815734989648, 0.25, 0.2315747080144986, 0.16030534351145037, 0.3333333333333333, 0.07761966364812418, 0.2455573505654281, 0.23145961265942372, 0.1478688524590164, 0.27200791295746785, -0.008579599618684462, 0.13425468904244817, 0.2411764705882353, 0.3100303951367781, 0.21394230769230768, 0.07790368271954674, 0.20920502092050208, 0.09044368600682594, 0.04, 0.34608695652173915, 0.1971153846153846, 0.6451612903225806, 0.29356357927786497, 0.13215859030837004, -0.022727272727272728, 0.10142954390742001, 0.2296037296037296, 0.2572614107883817, 0.2709519934906428, 0.2887259395050413, 0.002574002574002574, 0.07653910149750416, 0.1721411192214112, 0.15638575152041703, 0.27049180327868855, -0.03869047619047619, 0.2619047619047619, 0.1876355748373102, 0.13628318584070798, 0.17754698318496537, 0.17322291235334714, 0.19438877755511022, 0.0936426116838488, 0.1510673234811166, 0.22154779969650987, 0.09651162790697675, 0.47651006711409394, 0.19607843137254902, 0.3345323741007194, 0.12239583333333333, 0.124, 0.02926829268292683, 0.0632688927943761, 0.20952380952380953, 0.19548872180451127, 0.20185810810810811, 0.37333333333333335, 0.03262955854126679, 0.2822222222222222, 0.14845280062671368, 0.1794871794871795, 0.16822033898305086, 0.20428015564202334, 0.19732275656916212, 0.10495626822157435, 0.15824175824175823, 0.166796875, 0.42016806722689076, 0.19833564493758668, 0.19094922737306844, 0.20854700854700856], \"y0\": \" \", \"yaxis\": \"y\"}],\n",
              "                        {\"boxmode\": \"group\", \"legend\": {\"tracegroupgap\": 0}, \"margin\": {\"t\": 60}, \"template\": {\"data\": {\"bar\": [{\"error_x\": {\"color\": \"#2a3f5f\"}, \"error_y\": {\"color\": \"#2a3f5f\"}, \"marker\": {\"line\": {\"color\": \"#E5ECF6\", \"width\": 0.5}}, \"type\": \"bar\"}], \"barpolar\": [{\"marker\": {\"line\": {\"color\": \"#E5ECF6\", \"width\": 0.5}}, \"type\": \"barpolar\"}], \"carpet\": [{\"aaxis\": {\"endlinecolor\": \"#2a3f5f\", \"gridcolor\": \"white\", \"linecolor\": \"white\", \"minorgridcolor\": \"white\", \"startlinecolor\": \"#2a3f5f\"}, \"baxis\": {\"endlinecolor\": \"#2a3f5f\", \"gridcolor\": \"white\", \"linecolor\": \"white\", \"minorgridcolor\": \"white\", \"startlinecolor\": \"#2a3f5f\"}, \"type\": \"carpet\"}], \"choropleth\": [{\"colorbar\": {\"outlinewidth\": 0, \"ticks\": \"\"}, \"type\": \"choropleth\"}], \"contour\": [{\"colorbar\": {\"outlinewidth\": 0, \"ticks\": \"\"}, \"colorscale\": [[0.0, \"#0d0887\"], [0.1111111111111111, \"#46039f\"], [0.2222222222222222, \"#7201a8\"], [0.3333333333333333, \"#9c179e\"], [0.4444444444444444, \"#bd3786\"], [0.5555555555555556, \"#d8576b\"], [0.6666666666666666, \"#ed7953\"], [0.7777777777777778, \"#fb9f3a\"], [0.8888888888888888, \"#fdca26\"], [1.0, \"#f0f921\"]], \"type\": \"contour\"}], \"contourcarpet\": [{\"colorbar\": {\"outlinewidth\": 0, \"ticks\": \"\"}, \"type\": \"contourcarpet\"}], \"heatmap\": [{\"colorbar\": {\"outlinewidth\": 0, \"ticks\": \"\"}, \"colorscale\": [[0.0, \"#0d0887\"], [0.1111111111111111, \"#46039f\"], [0.2222222222222222, \"#7201a8\"], [0.3333333333333333, \"#9c179e\"], [0.4444444444444444, \"#bd3786\"], [0.5555555555555556, \"#d8576b\"], [0.6666666666666666, \"#ed7953\"], [0.7777777777777778, \"#fb9f3a\"], [0.8888888888888888, \"#fdca26\"], [1.0, \"#f0f921\"]], \"type\": \"heatmap\"}], \"heatmapgl\": [{\"colorbar\": {\"outlinewidth\": 0, \"ticks\": \"\"}, \"colorscale\": [[0.0, \"#0d0887\"], [0.1111111111111111, \"#46039f\"], [0.2222222222222222, \"#7201a8\"], [0.3333333333333333, \"#9c179e\"], [0.4444444444444444, \"#bd3786\"], [0.5555555555555556, \"#d8576b\"], [0.6666666666666666, \"#ed7953\"], [0.7777777777777778, \"#fb9f3a\"], [0.8888888888888888, \"#fdca26\"], [1.0, \"#f0f921\"]], \"type\": \"heatmapgl\"}], \"histogram\": [{\"marker\": {\"colorbar\": {\"outlinewidth\": 0, \"ticks\": \"\"}}, \"type\": \"histogram\"}], \"histogram2d\": [{\"colorbar\": {\"outlinewidth\": 0, \"ticks\": \"\"}, \"colorscale\": [[0.0, \"#0d0887\"], [0.1111111111111111, \"#46039f\"], [0.2222222222222222, \"#7201a8\"], [0.3333333333333333, \"#9c179e\"], [0.4444444444444444, \"#bd3786\"], [0.5555555555555556, \"#d8576b\"], [0.6666666666666666, \"#ed7953\"], [0.7777777777777778, \"#fb9f3a\"], [0.8888888888888888, \"#fdca26\"], [1.0, \"#f0f921\"]], \"type\": \"histogram2d\"}], \"histogram2dcontour\": [{\"colorbar\": {\"outlinewidth\": 0, \"ticks\": \"\"}, \"colorscale\": [[0.0, \"#0d0887\"], [0.1111111111111111, \"#46039f\"], [0.2222222222222222, \"#7201a8\"], [0.3333333333333333, \"#9c179e\"], [0.4444444444444444, \"#bd3786\"], [0.5555555555555556, \"#d8576b\"], [0.6666666666666666, \"#ed7953\"], [0.7777777777777778, \"#fb9f3a\"], [0.8888888888888888, \"#fdca26\"], [1.0, \"#f0f921\"]], \"type\": \"histogram2dcontour\"}], \"mesh3d\": [{\"colorbar\": {\"outlinewidth\": 0, \"ticks\": \"\"}, \"type\": \"mesh3d\"}], \"parcoords\": [{\"line\": {\"colorbar\": {\"outlinewidth\": 0, \"ticks\": \"\"}}, \"type\": \"parcoords\"}], \"pie\": [{\"automargin\": true, \"type\": \"pie\"}], \"scatter\": [{\"marker\": {\"colorbar\": {\"outlinewidth\": 0, \"ticks\": \"\"}}, \"type\": \"scatter\"}], \"scatter3d\": [{\"line\": {\"colorbar\": {\"outlinewidth\": 0, \"ticks\": \"\"}}, \"marker\": {\"colorbar\": {\"outlinewidth\": 0, \"ticks\": \"\"}}, \"type\": \"scatter3d\"}], \"scattercarpet\": [{\"marker\": {\"colorbar\": {\"outlinewidth\": 0, \"ticks\": \"\"}}, \"type\": \"scattercarpet\"}], \"scattergeo\": [{\"marker\": {\"colorbar\": {\"outlinewidth\": 0, \"ticks\": \"\"}}, \"type\": \"scattergeo\"}], \"scattergl\": [{\"marker\": {\"colorbar\": {\"outlinewidth\": 0, \"ticks\": \"\"}}, \"type\": \"scattergl\"}], \"scattermapbox\": [{\"marker\": {\"colorbar\": {\"outlinewidth\": 0, \"ticks\": \"\"}}, \"type\": \"scattermapbox\"}], \"scatterpolar\": [{\"marker\": {\"colorbar\": {\"outlinewidth\": 0, \"ticks\": \"\"}}, \"type\": \"scatterpolar\"}], \"scatterpolargl\": [{\"marker\": {\"colorbar\": {\"outlinewidth\": 0, \"ticks\": \"\"}}, \"type\": \"scatterpolargl\"}], \"scatterternary\": [{\"marker\": {\"colorbar\": {\"outlinewidth\": 0, \"ticks\": \"\"}}, \"type\": \"scatterternary\"}], \"surface\": [{\"colorbar\": {\"outlinewidth\": 0, \"ticks\": \"\"}, \"colorscale\": [[0.0, \"#0d0887\"], [0.1111111111111111, \"#46039f\"], [0.2222222222222222, \"#7201a8\"], [0.3333333333333333, \"#9c179e\"], [0.4444444444444444, \"#bd3786\"], [0.5555555555555556, \"#d8576b\"], [0.6666666666666666, \"#ed7953\"], [0.7777777777777778, \"#fb9f3a\"], [0.8888888888888888, \"#fdca26\"], [1.0, \"#f0f921\"]], \"type\": \"surface\"}], \"table\": [{\"cells\": {\"fill\": {\"color\": \"#EBF0F8\"}, \"line\": {\"color\": \"white\"}}, \"header\": {\"fill\": {\"color\": \"#C8D4E3\"}, \"line\": {\"color\": \"white\"}}, \"type\": \"table\"}]}, \"layout\": {\"annotationdefaults\": {\"arrowcolor\": \"#2a3f5f\", \"arrowhead\": 0, \"arrowwidth\": 1}, \"coloraxis\": {\"colorbar\": {\"outlinewidth\": 0, \"ticks\": \"\"}}, \"colorscale\": {\"diverging\": [[0, \"#8e0152\"], [0.1, \"#c51b7d\"], [0.2, \"#de77ae\"], [0.3, \"#f1b6da\"], [0.4, \"#fde0ef\"], [0.5, \"#f7f7f7\"], [0.6, \"#e6f5d0\"], [0.7, \"#b8e186\"], [0.8, \"#7fbc41\"], [0.9, \"#4d9221\"], [1, \"#276419\"]], \"sequential\": [[0.0, \"#0d0887\"], [0.1111111111111111, \"#46039f\"], [0.2222222222222222, \"#7201a8\"], [0.3333333333333333, \"#9c179e\"], [0.4444444444444444, \"#bd3786\"], [0.5555555555555556, \"#d8576b\"], [0.6666666666666666, \"#ed7953\"], [0.7777777777777778, \"#fb9f3a\"], [0.8888888888888888, \"#fdca26\"], [1.0, \"#f0f921\"]], \"sequentialminus\": [[0.0, \"#0d0887\"], [0.1111111111111111, \"#46039f\"], [0.2222222222222222, \"#7201a8\"], [0.3333333333333333, \"#9c179e\"], [0.4444444444444444, \"#bd3786\"], [0.5555555555555556, \"#d8576b\"], [0.6666666666666666, \"#ed7953\"], [0.7777777777777778, \"#fb9f3a\"], [0.8888888888888888, \"#fdca26\"], [1.0, \"#f0f921\"]]}, \"colorway\": [\"#636efa\", \"#EF553B\", \"#00cc96\", \"#ab63fa\", \"#FFA15A\", \"#19d3f3\", \"#FF6692\", \"#B6E880\", \"#FF97FF\", \"#FECB52\"], \"font\": {\"color\": \"#2a3f5f\"}, \"geo\": {\"bgcolor\": \"white\", \"lakecolor\": \"white\", \"landcolor\": \"#E5ECF6\", \"showlakes\": true, \"showland\": true, \"subunitcolor\": \"white\"}, \"hoverlabel\": {\"align\": \"left\"}, \"hovermode\": \"closest\", \"mapbox\": {\"style\": \"light\"}, \"paper_bgcolor\": \"white\", \"plot_bgcolor\": \"#E5ECF6\", \"polar\": {\"angularaxis\": {\"gridcolor\": \"white\", \"linecolor\": \"white\", \"ticks\": \"\"}, \"bgcolor\": \"#E5ECF6\", \"radialaxis\": {\"gridcolor\": \"white\", \"linecolor\": \"white\", \"ticks\": \"\"}}, \"scene\": {\"xaxis\": {\"backgroundcolor\": \"#E5ECF6\", \"gridcolor\": \"white\", \"gridwidth\": 2, \"linecolor\": \"white\", \"showbackground\": true, \"ticks\": \"\", \"zerolinecolor\": \"white\"}, \"yaxis\": {\"backgroundcolor\": \"#E5ECF6\", \"gridcolor\": \"white\", \"gridwidth\": 2, \"linecolor\": \"white\", \"showbackground\": true, \"ticks\": \"\", \"zerolinecolor\": \"white\"}, \"zaxis\": {\"backgroundcolor\": \"#E5ECF6\", \"gridcolor\": \"white\", \"gridwidth\": 2, \"linecolor\": \"white\", \"showbackground\": true, \"ticks\": \"\", \"zerolinecolor\": \"white\"}}, \"shapedefaults\": {\"line\": {\"color\": \"#2a3f5f\"}}, \"ternary\": {\"aaxis\": {\"gridcolor\": \"white\", \"linecolor\": \"white\", \"ticks\": \"\"}, \"baxis\": {\"gridcolor\": \"white\", \"linecolor\": \"white\", \"ticks\": \"\"}, \"bgcolor\": \"#E5ECF6\", \"caxis\": {\"gridcolor\": \"white\", \"linecolor\": \"white\", \"ticks\": \"\"}}, \"title\": {\"x\": 0.05}, \"xaxis\": {\"automargin\": true, \"gridcolor\": \"white\", \"linecolor\": \"white\", \"ticks\": \"\", \"title\": {\"standoff\": 15}, \"zerolinecolor\": \"white\", \"zerolinewidth\": 2}, \"yaxis\": {\"automargin\": true, \"gridcolor\": \"white\", \"linecolor\": \"white\", \"ticks\": \"\", \"title\": {\"standoff\": 15}, \"zerolinecolor\": \"white\", \"zerolinewidth\": 2}}}, \"xaxis\": {\"anchor\": \"y\", \"domain\": [0.0, 1.0]}, \"yaxis\": {\"anchor\": \"x\", \"domain\": [0.0, 1.0], \"title\": {\"text\": \"total_case_growth_rate_2008_2018\"}}},\n",
              "                        {\"responsive\": true}\n",
              "                    ).then(function(){\n",
              "                            \n",
              "var gd = document.getElementById('11d8fbb4-d296-443b-b95a-bf5a616bdf01');\n",
              "var x = new MutationObserver(function (mutations, observer) {{\n",
              "        var display = window.getComputedStyle(gd).display;\n",
              "        if (!display || display === 'none') {{\n",
              "            console.log([gd, 'removed!']);\n",
              "            Plotly.purge(gd);\n",
              "            observer.disconnect();\n",
              "        }}\n",
              "}});\n",
              "\n",
              "// Listen for the removal of the full notebook cells\n",
              "var notebookContainer = gd.closest('#notebook-container');\n",
              "if (notebookContainer) {{\n",
              "    x.observe(notebookContainer, {childList: true});\n",
              "}}\n",
              "\n",
              "// Listen for the clearing of the current output cell\n",
              "var outputEl = gd.closest('.output');\n",
              "if (outputEl) {{\n",
              "    x.observe(outputEl, {childList: true});\n",
              "}}\n",
              "\n",
              "                        })\n",
              "                };\n",
              "                \n",
              "            </script>\n",
              "        </div>\n",
              "</body>\n",
              "</html>"
            ]
          },
          "metadata": {}
        }
      ]
    },
    {
      "cell_type": "markdown",
      "metadata": {
        "id": "RfUK6aBuck2T"
      },
      "source": [
        "####Calculate the incidence rate of population cases in 10 years"
      ]
    },
    {
      "cell_type": "code",
      "metadata": {
        "id": "9rRnmFQmcRhi"
      },
      "source": [
        "df_pop_10 = df[['local_authority_area']]"
      ],
      "execution_count": 205,
      "outputs": []
    },
    {
      "cell_type": "code",
      "metadata": {
        "colab": {
          "base_uri": "https://localhost:8080/",
          "height": 575
        },
        "id": "ETcoQP1Kp_09",
        "outputId": "e80e2355-f9aa-4dbf-a9bc-7d2319d44bea"
      },
      "source": [
        "#计算人口病发率增长率\n",
        "df_pop_10['total_case_pop_rate_2008_2018'] = (((df_pop['case_pop_rate_2018'] - df_pop['case_pop_rate_2008'])/df_pop['case_pop_rate_2008']))\n",
        "df_pop_10"
      ],
      "execution_count": 206,
      "outputs": [
        {
          "output_type": "stream",
          "name": "stderr",
          "text": [
            "/usr/local/lib/python3.7/dist-packages/ipykernel_launcher.py:2: SettingWithCopyWarning:\n",
            "\n",
            "\n",
            "A value is trying to be set on a copy of a slice from a DataFrame.\n",
            "Try using .loc[row_indexer,col_indexer] = value instead\n",
            "\n",
            "See the caveats in the documentation: https://pandas.pydata.org/pandas-docs/stable/user_guide/indexing.html#returning-a-view-versus-a-copy\n",
            "\n"
          ]
        },
        {
          "output_type": "execute_result",
          "data": {
            "text/html": [
              "<div>\n",
              "<style scoped>\n",
              "    .dataframe tbody tr th:only-of-type {\n",
              "        vertical-align: middle;\n",
              "    }\n",
              "\n",
              "    .dataframe tbody tr th {\n",
              "        vertical-align: top;\n",
              "    }\n",
              "\n",
              "    .dataframe thead th {\n",
              "        text-align: right;\n",
              "    }\n",
              "</style>\n",
              "<table border=\"1\" class=\"dataframe\">\n",
              "  <thead>\n",
              "    <tr style=\"text-align: right;\">\n",
              "      <th></th>\n",
              "      <th>local_authority_area</th>\n",
              "      <th>total_case_pop_rate_2008_2018</th>\n",
              "    </tr>\n",
              "  </thead>\n",
              "  <tbody>\n",
              "    <tr>\n",
              "      <th>0</th>\n",
              "      <td>Barking and Dagenham</td>\n",
              "      <td>0.222301</td>\n",
              "    </tr>\n",
              "    <tr>\n",
              "      <th>1</th>\n",
              "      <td>Barnet</td>\n",
              "      <td>0.371607</td>\n",
              "    </tr>\n",
              "    <tr>\n",
              "      <th>2</th>\n",
              "      <td>Barnsley</td>\n",
              "      <td>0.287189</td>\n",
              "    </tr>\n",
              "    <tr>\n",
              "      <th>3</th>\n",
              "      <td>Bath and North East Somerset</td>\n",
              "      <td>0.022058</td>\n",
              "    </tr>\n",
              "    <tr>\n",
              "      <th>4</th>\n",
              "      <td>Bedford</td>\n",
              "      <td>0.095067</td>\n",
              "    </tr>\n",
              "    <tr>\n",
              "      <th>...</th>\n",
              "      <td>...</td>\n",
              "      <td>...</td>\n",
              "    </tr>\n",
              "    <tr>\n",
              "      <th>147</th>\n",
              "      <td>Wirral</td>\n",
              "      <td>0.059153</td>\n",
              "    </tr>\n",
              "    <tr>\n",
              "      <th>148</th>\n",
              "      <td>Wokingham</td>\n",
              "      <td>0.370037</td>\n",
              "    </tr>\n",
              "    <tr>\n",
              "      <th>149</th>\n",
              "      <td>Wolverhampton</td>\n",
              "      <td>0.088082</td>\n",
              "    </tr>\n",
              "    <tr>\n",
              "      <th>150</th>\n",
              "      <td>Worcestershire</td>\n",
              "      <td>0.045647</td>\n",
              "    </tr>\n",
              "    <tr>\n",
              "      <th>151</th>\n",
              "      <td>York</td>\n",
              "      <td>0.118300</td>\n",
              "    </tr>\n",
              "  </tbody>\n",
              "</table>\n",
              "<p>152 rows × 2 columns</p>\n",
              "</div>"
            ],
            "text/plain": [
              "             local_authority_area  total_case_pop_rate_2008_2018\n",
              "0            Barking and Dagenham                       0.222301\n",
              "1                          Barnet                       0.371607\n",
              "2                        Barnsley                       0.287189\n",
              "3    Bath and North East Somerset                       0.022058\n",
              "4                         Bedford                       0.095067\n",
              "..                            ...                            ...\n",
              "147                        Wirral                       0.059153\n",
              "148                     Wokingham                       0.370037\n",
              "149                 Wolverhampton                       0.088082\n",
              "150                Worcestershire                       0.045647\n",
              "151                          York                       0.118300\n",
              "\n",
              "[152 rows x 2 columns]"
            ]
          },
          "metadata": {},
          "execution_count": 206
        }
      ]
    },
    {
      "cell_type": "code",
      "metadata": {
        "colab": {
          "base_uri": "https://localhost:8080/",
          "height": 542
        },
        "id": "K5yYnA7BqlIw",
        "outputId": "eae9d7d1-dd5d-4db2-c28b-b90d0bf48456"
      },
      "source": [
        "#病发率\n",
        "px.box(df_pop_10, y=\"total_case_pop_rate_2008_2018\")"
      ],
      "execution_count": 207,
      "outputs": [
        {
          "output_type": "display_data",
          "data": {
            "text/html": [
              "<html>\n",
              "<head><meta charset=\"utf-8\" /></head>\n",
              "<body>\n",
              "    <div>\n",
              "            <script src=\"https://cdnjs.cloudflare.com/ajax/libs/mathjax/2.7.5/MathJax.js?config=TeX-AMS-MML_SVG\"></script><script type=\"text/javascript\">if (window.MathJax) {MathJax.Hub.Config({SVG: {font: \"STIX-Web\"}});}</script>\n",
              "                <script type=\"text/javascript\">window.PlotlyConfig = {MathJaxConfig: 'local'};</script>\n",
              "        <script src=\"https://cdn.plot.ly/plotly-latest.min.js\"></script>    \n",
              "            <div id=\"73868c5b-f56a-4de4-b6c6-f924535fae88\" class=\"plotly-graph-div\" style=\"height:525px; width:100%;\"></div>\n",
              "            <script type=\"text/javascript\">\n",
              "                \n",
              "                    window.PLOTLYENV=window.PLOTLYENV || {};\n",
              "                    \n",
              "                if (document.getElementById(\"73868c5b-f56a-4de4-b6c6-f924535fae88\")) {\n",
              "                    Plotly.newPlot(\n",
              "                        '73868c5b-f56a-4de4-b6c6-f924535fae88',\n",
              "                        [{\"alignmentgroup\": \"True\", \"hoverlabel\": {\"namelength\": 0}, \"hovertemplate\": \"total_case_pop_rate_2008_2018=%{y}\", \"legendgroup\": \"\", \"marker\": {\"color\": \"#636efa\"}, \"name\": \"\", \"notched\": false, \"offsetgroup\": \"\", \"orientation\": \"v\", \"showlegend\": false, \"type\": \"box\", \"x0\": \" \", \"xaxis\": \"x\", \"y\": [0.22230119005485477, 0.3716074468878294, 0.2871888608399934, 0.022058461061756848, 0.0950673909810944, 0.25516432189770666, 0.15663170396251538, 0.14253383341122466, 0.025343292946589005, 0.2644625159448461, 0.005961845956893462, 0.33890176240058983, 0.09404723911692804, 0.1287675531230079, 0.005863640443614809, 0.06960370037664601, 0.40898688152074114, 0.1343577688981639, 0.15878885325579217, 0.09416109157859516, 0.0022244785641983263, 0.18781577423053866, 0.11982114282483837, 0.13821506810783787, 0.15545549966309274, 0.05260885654372776, 0.05486160279894274, 0.08537105970184125, 0.34551648862192313, 0.09747454045482888, 0.06268881169328436, 0.08020353656047018, 0.036652947368923404, 0.08809568716436567, 0.10274695253140285, 0.10253926290431892, 0.1081773804832917, 0.24598949017681415, 0.20435240557602902, 0.07571408810326503, 0.07601177903337102, 0.2963607593574989, 0.061031475662283466, 0.3152060108409024, 0.1359630571979586, 0.279499550973063, 0.23730749150040537, 0.06986072090381959, 0.1016087814435103, 0.0640036698509388, 0.2910165241776317, 0.22325868458556616, 0.07874442462807245, 0.160084613447658, 0.08521079030390727, 0.039700123802807144, 0.1966181300258652, 0.22454915782903526, 0.18585810975656764, -0.2786885245901639, 0.26400355392479813, 0.47206188513150227, 0.05255976638839042, 0.14311147902177557, 0.474604454887504, 0.1239509881249527, 0.1498460884230529, 0.2560971485303271, 0.10944585796812366, 0.20114765493868428, 0.08478704891525372, 0.0766502681929157, 0.34562012702675543, 0.035736479692137585, 0.22689774527951137, 0.07123269746970091, 0.0973926026892615, 0.04113190566598166, 0.41778417682861274, 0.15102667915156615, -0.0384172024872477, 0.19828779647462402, 0.2858940154513384, 0.08109137480093488, 0.08833030092947972, 0.17727877032908998, 0.027367484240133185, 0.12363143481704221, 0.08835104523610496, 0.04471978726505502, 0.1319139182459989, 0.012650082709146138, 0.014932590051290212, 0.21353720478093835, 0.20387705441479936, 0.0623338853018427, 0.049342517317079, 0.05876623109633612, 0.0823039144650545, 0.10377393147297782, 0.3018445709440681, 0.14281298872444073, 0.6627866006958589, 0.23708648088517142, 0.044280200625428624, -0.12713928021131413, 0.05354742290132731, 0.10583308038680389, 0.1686007384509461, 0.19341992353311047, 0.06759922219402066, 0.06538574619379306, 0.032048500124210996, 0.059444429208969835, 0.04209610892838835, 0.21386200279912607, 0.005551449876232779, 0.08966880194217931, 0.25154494436892666, 0.05719001848433965, 0.044815621056791634, 0.09309253640423423, 0.13155581499053, 0.005458010779127403, 0.018089489163290864, 0.15889129535293395, 0.011826997586240715, 0.3891327856771729, 0.056704431584616806, 0.24646927722669376, 0.023191785109059445, 0.08655813234193382, -0.021138452064565504, 0.2965178926532208, 0.10960680462368796, 0.08424509318231502, 0.08952191795495576, 0.27326720704459845, 0.2750319949485402, 0.1550184719081086, 0.029994648606599148, 0.08078538279057619, 0.02633797950925369, 0.33511202560323117, 0.08334737892793367, -0.03272377314861869, 0.08286990252392262, 0.05915287341101683, 0.3700365698241957, 0.08808152213484015, 0.04564688371068149, 0.11830045896802788], \"y0\": \" \", \"yaxis\": \"y\"}],\n",
              "                        {\"boxmode\": \"group\", \"legend\": {\"tracegroupgap\": 0}, \"margin\": {\"t\": 60}, \"template\": {\"data\": {\"bar\": [{\"error_x\": {\"color\": \"#2a3f5f\"}, \"error_y\": {\"color\": \"#2a3f5f\"}, \"marker\": {\"line\": {\"color\": \"#E5ECF6\", \"width\": 0.5}}, \"type\": \"bar\"}], \"barpolar\": [{\"marker\": {\"line\": {\"color\": \"#E5ECF6\", \"width\": 0.5}}, \"type\": \"barpolar\"}], \"carpet\": [{\"aaxis\": {\"endlinecolor\": \"#2a3f5f\", \"gridcolor\": \"white\", \"linecolor\": \"white\", \"minorgridcolor\": \"white\", \"startlinecolor\": \"#2a3f5f\"}, \"baxis\": {\"endlinecolor\": \"#2a3f5f\", \"gridcolor\": \"white\", \"linecolor\": \"white\", \"minorgridcolor\": \"white\", \"startlinecolor\": \"#2a3f5f\"}, \"type\": \"carpet\"}], \"choropleth\": [{\"colorbar\": {\"outlinewidth\": 0, \"ticks\": \"\"}, \"type\": \"choropleth\"}], \"contour\": [{\"colorbar\": {\"outlinewidth\": 0, \"ticks\": \"\"}, \"colorscale\": [[0.0, \"#0d0887\"], [0.1111111111111111, \"#46039f\"], [0.2222222222222222, \"#7201a8\"], [0.3333333333333333, \"#9c179e\"], [0.4444444444444444, \"#bd3786\"], [0.5555555555555556, \"#d8576b\"], [0.6666666666666666, \"#ed7953\"], [0.7777777777777778, \"#fb9f3a\"], [0.8888888888888888, \"#fdca26\"], [1.0, \"#f0f921\"]], \"type\": \"contour\"}], \"contourcarpet\": [{\"colorbar\": {\"outlinewidth\": 0, \"ticks\": \"\"}, \"type\": \"contourcarpet\"}], \"heatmap\": [{\"colorbar\": {\"outlinewidth\": 0, \"ticks\": \"\"}, \"colorscale\": [[0.0, \"#0d0887\"], [0.1111111111111111, \"#46039f\"], [0.2222222222222222, \"#7201a8\"], [0.3333333333333333, \"#9c179e\"], [0.4444444444444444, \"#bd3786\"], [0.5555555555555556, \"#d8576b\"], [0.6666666666666666, \"#ed7953\"], [0.7777777777777778, \"#fb9f3a\"], [0.8888888888888888, \"#fdca26\"], [1.0, \"#f0f921\"]], \"type\": \"heatmap\"}], \"heatmapgl\": [{\"colorbar\": {\"outlinewidth\": 0, \"ticks\": \"\"}, \"colorscale\": [[0.0, \"#0d0887\"], [0.1111111111111111, \"#46039f\"], [0.2222222222222222, \"#7201a8\"], [0.3333333333333333, \"#9c179e\"], [0.4444444444444444, \"#bd3786\"], [0.5555555555555556, \"#d8576b\"], [0.6666666666666666, \"#ed7953\"], [0.7777777777777778, \"#fb9f3a\"], [0.8888888888888888, \"#fdca26\"], [1.0, \"#f0f921\"]], \"type\": \"heatmapgl\"}], \"histogram\": [{\"marker\": {\"colorbar\": {\"outlinewidth\": 0, \"ticks\": \"\"}}, \"type\": \"histogram\"}], \"histogram2d\": [{\"colorbar\": {\"outlinewidth\": 0, \"ticks\": \"\"}, \"colorscale\": [[0.0, \"#0d0887\"], [0.1111111111111111, \"#46039f\"], [0.2222222222222222, \"#7201a8\"], [0.3333333333333333, \"#9c179e\"], [0.4444444444444444, \"#bd3786\"], [0.5555555555555556, \"#d8576b\"], [0.6666666666666666, \"#ed7953\"], [0.7777777777777778, \"#fb9f3a\"], [0.8888888888888888, \"#fdca26\"], [1.0, \"#f0f921\"]], \"type\": \"histogram2d\"}], \"histogram2dcontour\": [{\"colorbar\": {\"outlinewidth\": 0, \"ticks\": \"\"}, \"colorscale\": [[0.0, \"#0d0887\"], [0.1111111111111111, \"#46039f\"], [0.2222222222222222, \"#7201a8\"], [0.3333333333333333, \"#9c179e\"], [0.4444444444444444, \"#bd3786\"], [0.5555555555555556, \"#d8576b\"], [0.6666666666666666, \"#ed7953\"], [0.7777777777777778, \"#fb9f3a\"], [0.8888888888888888, \"#fdca26\"], [1.0, \"#f0f921\"]], \"type\": \"histogram2dcontour\"}], \"mesh3d\": [{\"colorbar\": {\"outlinewidth\": 0, \"ticks\": \"\"}, \"type\": \"mesh3d\"}], \"parcoords\": [{\"line\": {\"colorbar\": {\"outlinewidth\": 0, \"ticks\": \"\"}}, \"type\": \"parcoords\"}], \"pie\": [{\"automargin\": true, \"type\": \"pie\"}], \"scatter\": [{\"marker\": {\"colorbar\": {\"outlinewidth\": 0, \"ticks\": \"\"}}, \"type\": \"scatter\"}], \"scatter3d\": [{\"line\": {\"colorbar\": {\"outlinewidth\": 0, \"ticks\": \"\"}}, \"marker\": {\"colorbar\": {\"outlinewidth\": 0, \"ticks\": \"\"}}, \"type\": \"scatter3d\"}], \"scattercarpet\": [{\"marker\": {\"colorbar\": {\"outlinewidth\": 0, \"ticks\": \"\"}}, \"type\": \"scattercarpet\"}], \"scattergeo\": [{\"marker\": {\"colorbar\": {\"outlinewidth\": 0, \"ticks\": \"\"}}, \"type\": \"scattergeo\"}], \"scattergl\": [{\"marker\": {\"colorbar\": {\"outlinewidth\": 0, \"ticks\": \"\"}}, \"type\": \"scattergl\"}], \"scattermapbox\": [{\"marker\": {\"colorbar\": {\"outlinewidth\": 0, \"ticks\": \"\"}}, \"type\": \"scattermapbox\"}], \"scatterpolar\": [{\"marker\": {\"colorbar\": {\"outlinewidth\": 0, \"ticks\": \"\"}}, \"type\": \"scatterpolar\"}], \"scatterpolargl\": [{\"marker\": {\"colorbar\": {\"outlinewidth\": 0, \"ticks\": \"\"}}, \"type\": \"scatterpolargl\"}], \"scatterternary\": [{\"marker\": {\"colorbar\": {\"outlinewidth\": 0, \"ticks\": \"\"}}, \"type\": \"scatterternary\"}], \"surface\": [{\"colorbar\": {\"outlinewidth\": 0, \"ticks\": \"\"}, \"colorscale\": [[0.0, \"#0d0887\"], [0.1111111111111111, \"#46039f\"], [0.2222222222222222, \"#7201a8\"], [0.3333333333333333, \"#9c179e\"], [0.4444444444444444, \"#bd3786\"], [0.5555555555555556, \"#d8576b\"], [0.6666666666666666, \"#ed7953\"], [0.7777777777777778, \"#fb9f3a\"], [0.8888888888888888, \"#fdca26\"], [1.0, \"#f0f921\"]], \"type\": \"surface\"}], \"table\": [{\"cells\": {\"fill\": {\"color\": \"#EBF0F8\"}, \"line\": {\"color\": \"white\"}}, \"header\": {\"fill\": {\"color\": \"#C8D4E3\"}, \"line\": {\"color\": \"white\"}}, \"type\": \"table\"}]}, \"layout\": {\"annotationdefaults\": {\"arrowcolor\": \"#2a3f5f\", \"arrowhead\": 0, \"arrowwidth\": 1}, \"coloraxis\": {\"colorbar\": {\"outlinewidth\": 0, \"ticks\": \"\"}}, \"colorscale\": {\"diverging\": [[0, \"#8e0152\"], [0.1, \"#c51b7d\"], [0.2, \"#de77ae\"], [0.3, \"#f1b6da\"], [0.4, \"#fde0ef\"], [0.5, \"#f7f7f7\"], [0.6, \"#e6f5d0\"], [0.7, \"#b8e186\"], [0.8, \"#7fbc41\"], [0.9, \"#4d9221\"], [1, \"#276419\"]], \"sequential\": [[0.0, \"#0d0887\"], [0.1111111111111111, \"#46039f\"], [0.2222222222222222, \"#7201a8\"], [0.3333333333333333, \"#9c179e\"], [0.4444444444444444, \"#bd3786\"], [0.5555555555555556, \"#d8576b\"], [0.6666666666666666, \"#ed7953\"], [0.7777777777777778, \"#fb9f3a\"], [0.8888888888888888, \"#fdca26\"], [1.0, \"#f0f921\"]], \"sequentialminus\": [[0.0, \"#0d0887\"], [0.1111111111111111, \"#46039f\"], [0.2222222222222222, \"#7201a8\"], [0.3333333333333333, \"#9c179e\"], [0.4444444444444444, \"#bd3786\"], [0.5555555555555556, \"#d8576b\"], [0.6666666666666666, \"#ed7953\"], [0.7777777777777778, \"#fb9f3a\"], [0.8888888888888888, \"#fdca26\"], [1.0, \"#f0f921\"]]}, \"colorway\": [\"#636efa\", \"#EF553B\", \"#00cc96\", \"#ab63fa\", \"#FFA15A\", \"#19d3f3\", \"#FF6692\", \"#B6E880\", \"#FF97FF\", \"#FECB52\"], \"font\": {\"color\": \"#2a3f5f\"}, \"geo\": {\"bgcolor\": \"white\", \"lakecolor\": \"white\", \"landcolor\": \"#E5ECF6\", \"showlakes\": true, \"showland\": true, \"subunitcolor\": \"white\"}, \"hoverlabel\": {\"align\": \"left\"}, \"hovermode\": \"closest\", \"mapbox\": {\"style\": \"light\"}, \"paper_bgcolor\": \"white\", \"plot_bgcolor\": \"#E5ECF6\", \"polar\": {\"angularaxis\": {\"gridcolor\": \"white\", \"linecolor\": \"white\", \"ticks\": \"\"}, \"bgcolor\": \"#E5ECF6\", \"radialaxis\": {\"gridcolor\": \"white\", \"linecolor\": \"white\", \"ticks\": \"\"}}, \"scene\": {\"xaxis\": {\"backgroundcolor\": \"#E5ECF6\", \"gridcolor\": \"white\", \"gridwidth\": 2, \"linecolor\": \"white\", \"showbackground\": true, \"ticks\": \"\", \"zerolinecolor\": \"white\"}, \"yaxis\": {\"backgroundcolor\": \"#E5ECF6\", \"gridcolor\": \"white\", \"gridwidth\": 2, \"linecolor\": \"white\", \"showbackground\": true, \"ticks\": \"\", \"zerolinecolor\": \"white\"}, \"zaxis\": {\"backgroundcolor\": \"#E5ECF6\", \"gridcolor\": \"white\", \"gridwidth\": 2, \"linecolor\": \"white\", \"showbackground\": true, \"ticks\": \"\", \"zerolinecolor\": \"white\"}}, \"shapedefaults\": {\"line\": {\"color\": \"#2a3f5f\"}}, \"ternary\": {\"aaxis\": {\"gridcolor\": \"white\", \"linecolor\": \"white\", \"ticks\": \"\"}, \"baxis\": {\"gridcolor\": \"white\", \"linecolor\": \"white\", \"ticks\": \"\"}, \"bgcolor\": \"#E5ECF6\", \"caxis\": {\"gridcolor\": \"white\", \"linecolor\": \"white\", \"ticks\": \"\"}}, \"title\": {\"x\": 0.05}, \"xaxis\": {\"automargin\": true, \"gridcolor\": \"white\", \"linecolor\": \"white\", \"ticks\": \"\", \"title\": {\"standoff\": 15}, \"zerolinecolor\": \"white\", \"zerolinewidth\": 2}, \"yaxis\": {\"automargin\": true, \"gridcolor\": \"white\", \"linecolor\": \"white\", \"ticks\": \"\", \"title\": {\"standoff\": 15}, \"zerolinecolor\": \"white\", \"zerolinewidth\": 2}}}, \"xaxis\": {\"anchor\": \"y\", \"domain\": [0.0, 1.0]}, \"yaxis\": {\"anchor\": \"x\", \"domain\": [0.0, 1.0], \"title\": {\"text\": \"total_case_pop_rate_2008_2018\"}}},\n",
              "                        {\"responsive\": true}\n",
              "                    ).then(function(){\n",
              "                            \n",
              "var gd = document.getElementById('73868c5b-f56a-4de4-b6c6-f924535fae88');\n",
              "var x = new MutationObserver(function (mutations, observer) {{\n",
              "        var display = window.getComputedStyle(gd).display;\n",
              "        if (!display || display === 'none') {{\n",
              "            console.log([gd, 'removed!']);\n",
              "            Plotly.purge(gd);\n",
              "            observer.disconnect();\n",
              "        }}\n",
              "}});\n",
              "\n",
              "// Listen for the removal of the full notebook cells\n",
              "var notebookContainer = gd.closest('#notebook-container');\n",
              "if (notebookContainer) {{\n",
              "    x.observe(notebookContainer, {childList: true});\n",
              "}}\n",
              "\n",
              "// Listen for the clearing of the current output cell\n",
              "var outputEl = gd.closest('.output');\n",
              "if (outputEl) {{\n",
              "    x.observe(outputEl, {childList: true});\n",
              "}}\n",
              "\n",
              "                        })\n",
              "                };\n",
              "                \n",
              "            </script>\n",
              "        </div>\n",
              "</body>\n",
              "</html>"
            ]
          },
          "metadata": {}
        }
      ]
    },
    {
      "cell_type": "code",
      "metadata": {
        "colab": {
          "base_uri": "https://localhost:8080/",
          "height": 297
        },
        "id": "FFJ9NJwhp_5Y",
        "outputId": "4dcc77c6-3e52-49c9-a84c-69b161f8933f"
      },
      "source": [
        "df_pop_10[df_pop_10[\"total_case_pop_rate_2008_2018\"] > np.percentile(df_pop_10[\"total_case_pop_rate_2008_2018\"], q = 95)]"
      ],
      "execution_count": 208,
      "outputs": [
        {
          "output_type": "execute_result",
          "data": {
            "text/html": [
              "<div>\n",
              "<style scoped>\n",
              "    .dataframe tbody tr th:only-of-type {\n",
              "        vertical-align: middle;\n",
              "    }\n",
              "\n",
              "    .dataframe tbody tr th {\n",
              "        vertical-align: top;\n",
              "    }\n",
              "\n",
              "    .dataframe thead th {\n",
              "        text-align: right;\n",
              "    }\n",
              "</style>\n",
              "<table border=\"1\" class=\"dataframe\">\n",
              "  <thead>\n",
              "    <tr style=\"text-align: right;\">\n",
              "      <th></th>\n",
              "      <th>local_authority_area</th>\n",
              "      <th>total_case_pop_rate_2008_2018</th>\n",
              "    </tr>\n",
              "  </thead>\n",
              "  <tbody>\n",
              "    <tr>\n",
              "      <th>1</th>\n",
              "      <td>Barnet</td>\n",
              "      <td>0.371607</td>\n",
              "    </tr>\n",
              "    <tr>\n",
              "      <th>16</th>\n",
              "      <td>Bromley</td>\n",
              "      <td>0.408987</td>\n",
              "    </tr>\n",
              "    <tr>\n",
              "      <th>61</th>\n",
              "      <td>Kensington and Chelsea</td>\n",
              "      <td>0.472062</td>\n",
              "    </tr>\n",
              "    <tr>\n",
              "      <th>64</th>\n",
              "      <td>Kingston upon Thames</td>\n",
              "      <td>0.474604</td>\n",
              "    </tr>\n",
              "    <tr>\n",
              "      <th>78</th>\n",
              "      <td>Merton</td>\n",
              "      <td>0.417784</td>\n",
              "    </tr>\n",
              "    <tr>\n",
              "      <th>102</th>\n",
              "      <td>Richmond upon Thames</td>\n",
              "      <td>0.662787</td>\n",
              "    </tr>\n",
              "    <tr>\n",
              "      <th>127</th>\n",
              "      <td>Sutton</td>\n",
              "      <td>0.389133</td>\n",
              "    </tr>\n",
              "    <tr>\n",
              "      <th>148</th>\n",
              "      <td>Wokingham</td>\n",
              "      <td>0.370037</td>\n",
              "    </tr>\n",
              "  </tbody>\n",
              "</table>\n",
              "</div>"
            ],
            "text/plain": [
              "       local_authority_area  total_case_pop_rate_2008_2018\n",
              "1                    Barnet                       0.371607\n",
              "16                  Bromley                       0.408987\n",
              "61   Kensington and Chelsea                       0.472062\n",
              "64     Kingston upon Thames                       0.474604\n",
              "78                   Merton                       0.417784\n",
              "102    Richmond upon Thames                       0.662787\n",
              "127                  Sutton                       0.389133\n",
              "148               Wokingham                       0.370037"
            ]
          },
          "metadata": {},
          "execution_count": 208
        }
      ]
    },
    {
      "cell_type": "code",
      "metadata": {
        "colab": {
          "base_uri": "https://localhost:8080/",
          "height": 111
        },
        "id": "gKdMAk2jrHUs",
        "outputId": "75f9b012-50b9-469a-aa6c-06ed0f104dc7"
      },
      "source": [
        "df_pop_10[df_pop_10[\"total_case_pop_rate_2008_2018\"] < np.percentile(df_pop_10[\"total_case_pop_rate_2008_2018\"], q = 1)]"
      ],
      "execution_count": 209,
      "outputs": [
        {
          "output_type": "execute_result",
          "data": {
            "text/html": [
              "<div>\n",
              "<style scoped>\n",
              "    .dataframe tbody tr th:only-of-type {\n",
              "        vertical-align: middle;\n",
              "    }\n",
              "\n",
              "    .dataframe tbody tr th {\n",
              "        vertical-align: top;\n",
              "    }\n",
              "\n",
              "    .dataframe thead th {\n",
              "        text-align: right;\n",
              "    }\n",
              "</style>\n",
              "<table border=\"1\" class=\"dataframe\">\n",
              "  <thead>\n",
              "    <tr style=\"text-align: right;\">\n",
              "      <th></th>\n",
              "      <th>local_authority_area</th>\n",
              "      <th>total_case_pop_rate_2008_2018</th>\n",
              "    </tr>\n",
              "  </thead>\n",
              "  <tbody>\n",
              "    <tr>\n",
              "      <th>59</th>\n",
              "      <td>Isles of Scilly</td>\n",
              "      <td>-0.278689</td>\n",
              "    </tr>\n",
              "    <tr>\n",
              "      <th>105</th>\n",
              "      <td>Rutland</td>\n",
              "      <td>-0.127139</td>\n",
              "    </tr>\n",
              "  </tbody>\n",
              "</table>\n",
              "</div>"
            ],
            "text/plain": [
              "    local_authority_area  total_case_pop_rate_2008_2018\n",
              "59       Isles of Scilly                      -0.278689\n",
              "105              Rutland                      -0.127139"
            ]
          },
          "metadata": {},
          "execution_count": 209
        }
      ]
    },
    {
      "cell_type": "code",
      "metadata": {
        "colab": {
          "base_uri": "https://localhost:8080/",
          "height": 419
        },
        "id": "6h7iOLXnv16f",
        "outputId": "81ee81fe-5c5a-4720-9cb9-e8df574ad7e0"
      },
      "source": [
        "df_pop_10.sort_values(by = 'total_case_pop_rate_2008_2018', ascending= False)"
      ],
      "execution_count": 210,
      "outputs": [
        {
          "output_type": "execute_result",
          "data": {
            "text/html": [
              "<div>\n",
              "<style scoped>\n",
              "    .dataframe tbody tr th:only-of-type {\n",
              "        vertical-align: middle;\n",
              "    }\n",
              "\n",
              "    .dataframe tbody tr th {\n",
              "        vertical-align: top;\n",
              "    }\n",
              "\n",
              "    .dataframe thead th {\n",
              "        text-align: right;\n",
              "    }\n",
              "</style>\n",
              "<table border=\"1\" class=\"dataframe\">\n",
              "  <thead>\n",
              "    <tr style=\"text-align: right;\">\n",
              "      <th></th>\n",
              "      <th>local_authority_area</th>\n",
              "      <th>total_case_pop_rate_2008_2018</th>\n",
              "    </tr>\n",
              "  </thead>\n",
              "  <tbody>\n",
              "    <tr>\n",
              "      <th>102</th>\n",
              "      <td>Richmond upon Thames</td>\n",
              "      <td>0.662787</td>\n",
              "    </tr>\n",
              "    <tr>\n",
              "      <th>64</th>\n",
              "      <td>Kingston upon Thames</td>\n",
              "      <td>0.474604</td>\n",
              "    </tr>\n",
              "    <tr>\n",
              "      <th>61</th>\n",
              "      <td>Kensington and Chelsea</td>\n",
              "      <td>0.472062</td>\n",
              "    </tr>\n",
              "    <tr>\n",
              "      <th>78</th>\n",
              "      <td>Merton</td>\n",
              "      <td>0.417784</td>\n",
              "    </tr>\n",
              "    <tr>\n",
              "      <th>16</th>\n",
              "      <td>Bromley</td>\n",
              "      <td>0.408987</td>\n",
              "    </tr>\n",
              "    <tr>\n",
              "      <th>...</th>\n",
              "      <td>...</td>\n",
              "      <td>...</td>\n",
              "    </tr>\n",
              "    <tr>\n",
              "      <th>132</th>\n",
              "      <td>Torbay</td>\n",
              "      <td>-0.021138</td>\n",
              "    </tr>\n",
              "    <tr>\n",
              "      <th>145</th>\n",
              "      <td>Wiltshire</td>\n",
              "      <td>-0.032724</td>\n",
              "    </tr>\n",
              "    <tr>\n",
              "      <th>80</th>\n",
              "      <td>Milton Keynes</td>\n",
              "      <td>-0.038417</td>\n",
              "    </tr>\n",
              "    <tr>\n",
              "      <th>105</th>\n",
              "      <td>Rutland</td>\n",
              "      <td>-0.127139</td>\n",
              "    </tr>\n",
              "    <tr>\n",
              "      <th>59</th>\n",
              "      <td>Isles of Scilly</td>\n",
              "      <td>-0.278689</td>\n",
              "    </tr>\n",
              "  </tbody>\n",
              "</table>\n",
              "<p>152 rows × 2 columns</p>\n",
              "</div>"
            ],
            "text/plain": [
              "       local_authority_area  total_case_pop_rate_2008_2018\n",
              "102    Richmond upon Thames                       0.662787\n",
              "64     Kingston upon Thames                       0.474604\n",
              "61   Kensington and Chelsea                       0.472062\n",
              "78                   Merton                       0.417784\n",
              "16                  Bromley                       0.408987\n",
              "..                      ...                            ...\n",
              "132                  Torbay                      -0.021138\n",
              "145               Wiltshire                      -0.032724\n",
              "80            Milton Keynes                      -0.038417\n",
              "105                 Rutland                      -0.127139\n",
              "59          Isles of Scilly                      -0.278689\n",
              "\n",
              "[152 rows x 2 columns]"
            ]
          },
          "metadata": {},
          "execution_count": 210
        }
      ]
    },
    {
      "cell_type": "code",
      "metadata": {
        "id": "QW-2tY7xQYCh"
      },
      "source": [
        ""
      ],
      "execution_count": 210,
      "outputs": []
    },
    {
      "cell_type": "markdown",
      "metadata": {
        "id": "HqKARpMMQyWU"
      },
      "source": [
        "####Analyze the relationship between the Budget and the growth of cases"
      ]
    },
    {
      "cell_type": "code",
      "metadata": {
        "id": "5ABWN4BYQyWV"
      },
      "source": [
        "df = df[df['local_authority_area'] != 'Isles of Scilly']\n",
        "df = df[df['local_authority_area'] != 'City of London']"
      ],
      "execution_count": 211,
      "outputs": []
    },
    {
      "cell_type": "code",
      "metadata": {
        "id": "cAmZTwzeQyWV"
      },
      "source": [
        "#Calualate By groupby for later use\n",
        "group_budget = df.groupby(['region'])['total_budget'].mean()"
      ],
      "execution_count": 212,
      "outputs": []
    },
    {
      "cell_type": "code",
      "metadata": {
        "id": "LmionF9pQyWW"
      },
      "source": [
        "#Calualate By groupby for later use\n",
        "group_type = df.groupby(['local_authority_type'])['total_budget'].mean()"
      ],
      "execution_count": 213,
      "outputs": []
    },
    {
      "cell_type": "code",
      "metadata": {
        "colab": {
          "base_uri": "https://localhost:8080/"
        },
        "id": "Qe6A8SIRQyWW",
        "outputId": "1703d835-b75d-4eb6-eb60-b4be863b01fa"
      },
      "source": [
        "group_type"
      ],
      "execution_count": 214,
      "outputs": [
        {
          "output_type": "execute_result",
          "data": {
            "text/plain": [
              "local_authority_type\n",
              "london_borough             192406.250000\n",
              "metropolitan_borough       245277.777778\n",
              "non_metropolitan_county    614185.185185\n",
              "unitary_authority          172090.909091\n",
              "Name: total_budget, dtype: float64"
            ]
          },
          "metadata": {},
          "execution_count": 214
        }
      ]
    },
    {
      "cell_type": "code",
      "metadata": {
        "id": "QasiuHSiQyWW"
      },
      "source": [
        "df_region = df[['local_authority_area','region','local_authority_type']]"
      ],
      "execution_count": 215,
      "outputs": []
    },
    {
      "cell_type": "code",
      "metadata": {
        "id": "k4-sfHVmQyWW"
      },
      "source": [
        "df_budget = pd.merge(df_growth_10,df_region, on = ['local_authority_area'],how='left')"
      ],
      "execution_count": 216,
      "outputs": []
    },
    {
      "cell_type": "code",
      "metadata": {
        "id": "b8W0cQYjQyWW"
      },
      "source": [
        "#Calualate By groupby for later use\n",
        "group_grow_type = df_budget.groupby(['local_authority_type'])['total_case_growth_rate_2008_2018'].mean()"
      ],
      "execution_count": 217,
      "outputs": []
    },
    {
      "cell_type": "code",
      "metadata": {
        "colab": {
          "base_uri": "https://localhost:8080/"
        },
        "id": "SmCe6EnpQyWX",
        "outputId": "e654328b-452a-4b4b-ea72-9202eb252e85"
      },
      "source": [
        "group_grow_type"
      ],
      "execution_count": 218,
      "outputs": [
        {
          "output_type": "execute_result",
          "data": {
            "text/plain": [
              "local_authority_type\n",
              "london_borough             0.295775\n",
              "metropolitan_borough       0.218318\n",
              "non_metropolitan_county    0.198186\n",
              "unitary_authority          0.165326\n",
              "Name: total_case_growth_rate_2008_2018, dtype: float64"
            ]
          },
          "metadata": {},
          "execution_count": 218
        }
      ]
    },
    {
      "cell_type": "code",
      "metadata": {
        "colab": {
          "base_uri": "https://localhost:8080/",
          "height": 69
        },
        "id": "e1dehF8kQyWX",
        "outputId": "b65425e8-a0b8-4928-d10a-4098daa73812"
      },
      "source": [
        "df[df['local_authority_type'] == 'other_london']"
      ],
      "execution_count": 219,
      "outputs": [
        {
          "output_type": "execute_result",
          "data": {
            "text/html": [
              "<div>\n",
              "<style scoped>\n",
              "    .dataframe tbody tr th:only-of-type {\n",
              "        vertical-align: middle;\n",
              "    }\n",
              "\n",
              "    .dataframe tbody tr th {\n",
              "        vertical-align: top;\n",
              "    }\n",
              "\n",
              "    .dataframe thead th {\n",
              "        text-align: right;\n",
              "    }\n",
              "</style>\n",
              "<table border=\"1\" class=\"dataframe\">\n",
              "  <thead>\n",
              "    <tr style=\"text-align: right;\">\n",
              "      <th></th>\n",
              "      <th>local_authority_area</th>\n",
              "      <th>2008_cases_total</th>\n",
              "      <th>2013_cases_total</th>\n",
              "      <th>2018_cases_total</th>\n",
              "      <th>2008_pop_total</th>\n",
              "      <th>2013_pop_total</th>\n",
              "      <th>2018_pop_total</th>\n",
              "      <th>2008_cases_male</th>\n",
              "      <th>2013_cases_male</th>\n",
              "      <th>2018_cases_male</th>\n",
              "      <th>2008_pop_male</th>\n",
              "      <th>2013_pop_male</th>\n",
              "      <th>2018_pop_male</th>\n",
              "      <th>2008_cases_female</th>\n",
              "      <th>2013_cases_female</th>\n",
              "      <th>2018_cases_female</th>\n",
              "      <th>2008_pop_female</th>\n",
              "      <th>2013_pop_female</th>\n",
              "      <th>2018_pop_female</th>\n",
              "      <th>total_budget</th>\n",
              "      <th>clean_air</th>\n",
              "      <th>clean_environ</th>\n",
              "      <th>health_training</th>\n",
              "      <th>school_awareness</th>\n",
              "      <th>media_awareness</th>\n",
              "      <th>sub_counselling</th>\n",
              "      <th>region</th>\n",
              "      <th>local_authority_type</th>\n",
              "    </tr>\n",
              "  </thead>\n",
              "  <tbody>\n",
              "  </tbody>\n",
              "</table>\n",
              "</div>"
            ],
            "text/plain": [
              "Empty DataFrame\n",
              "Columns: [local_authority_area, 2008_cases_total, 2013_cases_total, 2018_cases_total, 2008_pop_total, 2013_pop_total, 2018_pop_total, 2008_cases_male, 2013_cases_male, 2018_cases_male, 2008_pop_male, 2013_pop_male, 2018_pop_male, 2008_cases_female, 2013_cases_female, 2018_cases_female, 2008_pop_female, 2013_pop_female, 2018_pop_female, total_budget, clean_air, clean_environ, health_training, school_awareness, media_awareness, sub_counselling, region, local_authority_type]\n",
              "Index: []"
            ]
          },
          "metadata": {},
          "execution_count": 219
        }
      ]
    },
    {
      "cell_type": "code",
      "metadata": {
        "id": "HgvYWp5jQyWX"
      },
      "source": [
        "#Calualate By groupby for later use\n",
        "group_grow_region = df_budget.groupby(['region'])['total_case_growth_rate_2008_2018'].mean()"
      ],
      "execution_count": 220,
      "outputs": []
    },
    {
      "cell_type": "code",
      "metadata": {
        "colab": {
          "base_uri": "https://localhost:8080/"
        },
        "id": "5MQSZBJCQyWX",
        "outputId": "2521caae-19e5-4c3f-f5c7-3a9532496437"
      },
      "source": [
        "group_grow_region"
      ],
      "execution_count": 221,
      "outputs": [
        {
          "output_type": "execute_result",
          "data": {
            "text/plain": [
              "region\n",
              "East Midlands               0.117223\n",
              "East of England             0.176726\n",
              "London                      0.295775\n",
              "North East                  0.240509\n",
              "North West                  0.209922\n",
              "South East                  0.176870\n",
              "South West                  0.165827\n",
              "West Midlands               0.177704\n",
              "Yorkshire and the Humber    0.216952\n",
              "Name: total_case_growth_rate_2008_2018, dtype: float64"
            ]
          },
          "metadata": {},
          "execution_count": 221
        }
      ]
    },
    {
      "cell_type": "code",
      "metadata": {
        "id": "Y7sDKCZ2QyWX"
      },
      "source": [
        "group1 = pd.merge(group_grow_region,group_budget, on = ['region'],how='left')"
      ],
      "execution_count": 222,
      "outputs": []
    },
    {
      "cell_type": "code",
      "metadata": {
        "colab": {
          "base_uri": "https://localhost:8080/",
          "height": 359
        },
        "id": "mFz_6ADsQyWX",
        "outputId": "f9397237-45c0-4fc8-bece-9a5da652d680"
      },
      "source": [
        "group1"
      ],
      "execution_count": 223,
      "outputs": [
        {
          "output_type": "execute_result",
          "data": {
            "text/html": [
              "<div>\n",
              "<style scoped>\n",
              "    .dataframe tbody tr th:only-of-type {\n",
              "        vertical-align: middle;\n",
              "    }\n",
              "\n",
              "    .dataframe tbody tr th {\n",
              "        vertical-align: top;\n",
              "    }\n",
              "\n",
              "    .dataframe thead th {\n",
              "        text-align: right;\n",
              "    }\n",
              "</style>\n",
              "<table border=\"1\" class=\"dataframe\">\n",
              "  <thead>\n",
              "    <tr style=\"text-align: right;\">\n",
              "      <th></th>\n",
              "      <th>total_case_growth_rate_2008_2018</th>\n",
              "      <th>total_budget</th>\n",
              "    </tr>\n",
              "    <tr>\n",
              "      <th>region</th>\n",
              "      <th></th>\n",
              "      <th></th>\n",
              "    </tr>\n",
              "  </thead>\n",
              "  <tbody>\n",
              "    <tr>\n",
              "      <th>East Midlands</th>\n",
              "      <td>0.117223</td>\n",
              "      <td>372333.333333</td>\n",
              "    </tr>\n",
              "    <tr>\n",
              "      <th>East of England</th>\n",
              "      <td>0.176726</td>\n",
              "      <td>409818.181818</td>\n",
              "    </tr>\n",
              "    <tr>\n",
              "      <th>London</th>\n",
              "      <td>0.295775</td>\n",
              "      <td>192406.250000</td>\n",
              "    </tr>\n",
              "    <tr>\n",
              "      <th>North East</th>\n",
              "      <td>0.240509</td>\n",
              "      <td>174166.666667</td>\n",
              "    </tr>\n",
              "    <tr>\n",
              "      <th>North West</th>\n",
              "      <td>0.209922</td>\n",
              "      <td>229478.260870</td>\n",
              "    </tr>\n",
              "    <tr>\n",
              "      <th>South East</th>\n",
              "      <td>0.176870</td>\n",
              "      <td>375263.157895</td>\n",
              "    </tr>\n",
              "    <tr>\n",
              "      <th>South West</th>\n",
              "      <td>0.165827</td>\n",
              "      <td>279333.333333</td>\n",
              "    </tr>\n",
              "    <tr>\n",
              "      <th>West Midlands</th>\n",
              "      <td>0.177704</td>\n",
              "      <td>304571.428571</td>\n",
              "    </tr>\n",
              "    <tr>\n",
              "      <th>Yorkshire and the Humber</th>\n",
              "      <td>0.216952</td>\n",
              "      <td>271133.333333</td>\n",
              "    </tr>\n",
              "  </tbody>\n",
              "</table>\n",
              "</div>"
            ],
            "text/plain": [
              "                          total_case_growth_rate_2008_2018   total_budget\n",
              "region                                                                   \n",
              "East Midlands                                     0.117223  372333.333333\n",
              "East of England                                   0.176726  409818.181818\n",
              "London                                            0.295775  192406.250000\n",
              "North East                                        0.240509  174166.666667\n",
              "North West                                        0.209922  229478.260870\n",
              "South East                                        0.176870  375263.157895\n",
              "South West                                        0.165827  279333.333333\n",
              "West Midlands                                     0.177704  304571.428571\n",
              "Yorkshire and the Humber                          0.216952  271133.333333"
            ]
          },
          "metadata": {},
          "execution_count": 223
        }
      ]
    },
    {
      "cell_type": "code",
      "metadata": {
        "colab": {
          "base_uri": "https://localhost:8080/",
          "height": 204
        },
        "id": "su1M7S2hQyWX",
        "outputId": "1c07effa-5be6-45bb-d79c-911cb9677b8b"
      },
      "source": [
        "group2 = pd.merge(group_grow_type,group_type, on = ['local_authority_type'],how='left')\n",
        "group2"
      ],
      "execution_count": 224,
      "outputs": [
        {
          "output_type": "execute_result",
          "data": {
            "text/html": [
              "<div>\n",
              "<style scoped>\n",
              "    .dataframe tbody tr th:only-of-type {\n",
              "        vertical-align: middle;\n",
              "    }\n",
              "\n",
              "    .dataframe tbody tr th {\n",
              "        vertical-align: top;\n",
              "    }\n",
              "\n",
              "    .dataframe thead th {\n",
              "        text-align: right;\n",
              "    }\n",
              "</style>\n",
              "<table border=\"1\" class=\"dataframe\">\n",
              "  <thead>\n",
              "    <tr style=\"text-align: right;\">\n",
              "      <th></th>\n",
              "      <th>total_case_growth_rate_2008_2018</th>\n",
              "      <th>total_budget</th>\n",
              "    </tr>\n",
              "    <tr>\n",
              "      <th>local_authority_type</th>\n",
              "      <th></th>\n",
              "      <th></th>\n",
              "    </tr>\n",
              "  </thead>\n",
              "  <tbody>\n",
              "    <tr>\n",
              "      <th>london_borough</th>\n",
              "      <td>0.295775</td>\n",
              "      <td>192406.250000</td>\n",
              "    </tr>\n",
              "    <tr>\n",
              "      <th>metropolitan_borough</th>\n",
              "      <td>0.218318</td>\n",
              "      <td>245277.777778</td>\n",
              "    </tr>\n",
              "    <tr>\n",
              "      <th>non_metropolitan_county</th>\n",
              "      <td>0.198186</td>\n",
              "      <td>614185.185185</td>\n",
              "    </tr>\n",
              "    <tr>\n",
              "      <th>unitary_authority</th>\n",
              "      <td>0.165326</td>\n",
              "      <td>172090.909091</td>\n",
              "    </tr>\n",
              "  </tbody>\n",
              "</table>\n",
              "</div>"
            ],
            "text/plain": [
              "                         total_case_growth_rate_2008_2018   total_budget\n",
              "local_authority_type                                                    \n",
              "london_borough                                   0.295775  192406.250000\n",
              "metropolitan_borough                             0.218318  245277.777778\n",
              "non_metropolitan_county                          0.198186  614185.185185\n",
              "unitary_authority                                0.165326  172090.909091"
            ]
          },
          "metadata": {},
          "execution_count": 224
        }
      ]
    },
    {
      "cell_type": "code",
      "metadata": {
        "colab": {
          "base_uri": "https://localhost:8080/",
          "height": 542
        },
        "id": "fadlJCMFQyWY",
        "outputId": "568627ec-3783-4958-a2f0-16915e0fcbb4"
      },
      "source": [
        "fig = px.scatter(group1, x=\"total_budget\", y=\"total_case_growth_rate_2008_2018\", trendline=\"ols\")\n",
        "fig.show()"
      ],
      "execution_count": 225,
      "outputs": [
        {
          "output_type": "display_data",
          "data": {
            "text/html": [
              "<html>\n",
              "<head><meta charset=\"utf-8\" /></head>\n",
              "<body>\n",
              "    <div>\n",
              "            <script src=\"https://cdnjs.cloudflare.com/ajax/libs/mathjax/2.7.5/MathJax.js?config=TeX-AMS-MML_SVG\"></script><script type=\"text/javascript\">if (window.MathJax) {MathJax.Hub.Config({SVG: {font: \"STIX-Web\"}});}</script>\n",
              "                <script type=\"text/javascript\">window.PlotlyConfig = {MathJaxConfig: 'local'};</script>\n",
              "        <script src=\"https://cdn.plot.ly/plotly-latest.min.js\"></script>    \n",
              "            <div id=\"3c6e9df2-a3e2-4478-abcb-d639c53f577b\" class=\"plotly-graph-div\" style=\"height:525px; width:100%;\"></div>\n",
              "            <script type=\"text/javascript\">\n",
              "                \n",
              "                    window.PLOTLYENV=window.PLOTLYENV || {};\n",
              "                    \n",
              "                if (document.getElementById(\"3c6e9df2-a3e2-4478-abcb-d639c53f577b\")) {\n",
              "                    Plotly.newPlot(\n",
              "                        '3c6e9df2-a3e2-4478-abcb-d639c53f577b',\n",
              "                        [{\"hoverlabel\": {\"namelength\": 0}, \"hovertemplate\": \"total_budget=%{x}<br>total_case_growth_rate_2008_2018=%{y}\", \"legendgroup\": \"\", \"marker\": {\"color\": \"#636efa\", \"symbol\": \"circle\"}, \"mode\": \"markers\", \"name\": \"\", \"showlegend\": false, \"type\": \"scatter\", \"x\": [372333.3333333333, 409818.1818181818, 192406.25, 174166.66666666666, 229478.26086956522, 375263.15789473685, 279333.3333333333, 304571.4285714286, 271133.3333333333], \"xaxis\": \"x\", \"y\": [0.11722348193055887, 0.17672629367724066, 0.2957752022519796, 0.2405094789847826, 0.2099217819302153, 0.1768700069358969, 0.16582711414411752, 0.1777036535539313, 0.2169517887241582], \"yaxis\": \"y\"}, {\"hoverlabel\": {\"namelength\": 0}, \"hovertemplate\": \"<b>OLS trendline</b><br>total_case_growth_rate_2008_2018 = -0.000000 * total_budget + 0.335413<br>R<sup>2</sup>=0.608066<br><br>total_budget=%{x}<br>total_case_growth_rate_2008_2018=%{y} <b>(trend)</b>\", \"legendgroup\": \"\", \"marker\": {\"color\": \"#636efa\", \"symbol\": \"circle\"}, \"mode\": \"lines\", \"name\": \"\", \"showlegend\": false, \"type\": \"scatter\", \"x\": [174166.66666666666, 192406.25, 229478.26086956522, 271133.3333333333, 279333.3333333333, 304571.4285714286, 372333.3333333333, 375263.15789473685, 409818.1818181818], \"xaxis\": \"x\", \"y\": [0.2525391277008403, 0.2438601440181386, 0.22622008220631562, 0.20639925145553278, 0.20249742623850092, 0.1904883242348605, 0.15824501828923726, 0.1568509130020222, 0.14040851498743237], \"yaxis\": \"y\"}],\n",
              "                        {\"legend\": {\"tracegroupgap\": 0}, \"margin\": {\"t\": 60}, \"template\": {\"data\": {\"bar\": [{\"error_x\": {\"color\": \"#2a3f5f\"}, \"error_y\": {\"color\": \"#2a3f5f\"}, \"marker\": {\"line\": {\"color\": \"#E5ECF6\", \"width\": 0.5}}, \"type\": \"bar\"}], \"barpolar\": [{\"marker\": {\"line\": {\"color\": \"#E5ECF6\", \"width\": 0.5}}, \"type\": \"barpolar\"}], \"carpet\": [{\"aaxis\": {\"endlinecolor\": \"#2a3f5f\", \"gridcolor\": \"white\", \"linecolor\": \"white\", \"minorgridcolor\": \"white\", \"startlinecolor\": \"#2a3f5f\"}, \"baxis\": {\"endlinecolor\": \"#2a3f5f\", \"gridcolor\": \"white\", \"linecolor\": \"white\", \"minorgridcolor\": \"white\", \"startlinecolor\": \"#2a3f5f\"}, \"type\": \"carpet\"}], \"choropleth\": [{\"colorbar\": {\"outlinewidth\": 0, \"ticks\": \"\"}, \"type\": \"choropleth\"}], \"contour\": [{\"colorbar\": {\"outlinewidth\": 0, \"ticks\": \"\"}, \"colorscale\": [[0.0, \"#0d0887\"], [0.1111111111111111, \"#46039f\"], [0.2222222222222222, \"#7201a8\"], [0.3333333333333333, \"#9c179e\"], [0.4444444444444444, \"#bd3786\"], [0.5555555555555556, \"#d8576b\"], [0.6666666666666666, \"#ed7953\"], [0.7777777777777778, \"#fb9f3a\"], [0.8888888888888888, \"#fdca26\"], [1.0, \"#f0f921\"]], \"type\": \"contour\"}], \"contourcarpet\": [{\"colorbar\": {\"outlinewidth\": 0, \"ticks\": \"\"}, \"type\": \"contourcarpet\"}], \"heatmap\": [{\"colorbar\": {\"outlinewidth\": 0, \"ticks\": \"\"}, \"colorscale\": [[0.0, \"#0d0887\"], [0.1111111111111111, \"#46039f\"], [0.2222222222222222, \"#7201a8\"], [0.3333333333333333, \"#9c179e\"], [0.4444444444444444, \"#bd3786\"], [0.5555555555555556, \"#d8576b\"], [0.6666666666666666, \"#ed7953\"], [0.7777777777777778, \"#fb9f3a\"], [0.8888888888888888, \"#fdca26\"], [1.0, \"#f0f921\"]], \"type\": \"heatmap\"}], \"heatmapgl\": [{\"colorbar\": {\"outlinewidth\": 0, \"ticks\": \"\"}, \"colorscale\": [[0.0, \"#0d0887\"], [0.1111111111111111, \"#46039f\"], [0.2222222222222222, \"#7201a8\"], [0.3333333333333333, \"#9c179e\"], [0.4444444444444444, \"#bd3786\"], [0.5555555555555556, \"#d8576b\"], [0.6666666666666666, \"#ed7953\"], [0.7777777777777778, \"#fb9f3a\"], [0.8888888888888888, \"#fdca26\"], [1.0, \"#f0f921\"]], \"type\": \"heatmapgl\"}], \"histogram\": [{\"marker\": {\"colorbar\": {\"outlinewidth\": 0, \"ticks\": \"\"}}, \"type\": \"histogram\"}], \"histogram2d\": [{\"colorbar\": {\"outlinewidth\": 0, \"ticks\": \"\"}, \"colorscale\": [[0.0, \"#0d0887\"], [0.1111111111111111, \"#46039f\"], [0.2222222222222222, \"#7201a8\"], [0.3333333333333333, \"#9c179e\"], [0.4444444444444444, \"#bd3786\"], [0.5555555555555556, \"#d8576b\"], [0.6666666666666666, \"#ed7953\"], [0.7777777777777778, \"#fb9f3a\"], [0.8888888888888888, \"#fdca26\"], [1.0, \"#f0f921\"]], \"type\": \"histogram2d\"}], \"histogram2dcontour\": [{\"colorbar\": {\"outlinewidth\": 0, \"ticks\": \"\"}, \"colorscale\": [[0.0, \"#0d0887\"], [0.1111111111111111, \"#46039f\"], [0.2222222222222222, \"#7201a8\"], [0.3333333333333333, \"#9c179e\"], [0.4444444444444444, \"#bd3786\"], [0.5555555555555556, \"#d8576b\"], [0.6666666666666666, \"#ed7953\"], [0.7777777777777778, \"#fb9f3a\"], [0.8888888888888888, \"#fdca26\"], [1.0, \"#f0f921\"]], \"type\": \"histogram2dcontour\"}], \"mesh3d\": [{\"colorbar\": {\"outlinewidth\": 0, \"ticks\": \"\"}, \"type\": \"mesh3d\"}], \"parcoords\": [{\"line\": {\"colorbar\": {\"outlinewidth\": 0, \"ticks\": \"\"}}, \"type\": \"parcoords\"}], \"pie\": [{\"automargin\": true, \"type\": \"pie\"}], \"scatter\": [{\"marker\": {\"colorbar\": {\"outlinewidth\": 0, \"ticks\": \"\"}}, \"type\": \"scatter\"}], \"scatter3d\": [{\"line\": {\"colorbar\": {\"outlinewidth\": 0, \"ticks\": \"\"}}, \"marker\": {\"colorbar\": {\"outlinewidth\": 0, \"ticks\": \"\"}}, \"type\": \"scatter3d\"}], \"scattercarpet\": [{\"marker\": {\"colorbar\": {\"outlinewidth\": 0, \"ticks\": \"\"}}, \"type\": \"scattercarpet\"}], \"scattergeo\": [{\"marker\": {\"colorbar\": {\"outlinewidth\": 0, \"ticks\": \"\"}}, \"type\": \"scattergeo\"}], \"scattergl\": [{\"marker\": {\"colorbar\": {\"outlinewidth\": 0, \"ticks\": \"\"}}, \"type\": \"scattergl\"}], \"scattermapbox\": [{\"marker\": {\"colorbar\": {\"outlinewidth\": 0, \"ticks\": \"\"}}, \"type\": \"scattermapbox\"}], \"scatterpolar\": [{\"marker\": {\"colorbar\": {\"outlinewidth\": 0, \"ticks\": \"\"}}, \"type\": \"scatterpolar\"}], \"scatterpolargl\": [{\"marker\": {\"colorbar\": {\"outlinewidth\": 0, \"ticks\": \"\"}}, \"type\": \"scatterpolargl\"}], \"scatterternary\": [{\"marker\": {\"colorbar\": {\"outlinewidth\": 0, \"ticks\": \"\"}}, \"type\": \"scatterternary\"}], \"surface\": [{\"colorbar\": {\"outlinewidth\": 0, \"ticks\": \"\"}, \"colorscale\": [[0.0, \"#0d0887\"], [0.1111111111111111, \"#46039f\"], [0.2222222222222222, \"#7201a8\"], [0.3333333333333333, \"#9c179e\"], [0.4444444444444444, \"#bd3786\"], [0.5555555555555556, \"#d8576b\"], [0.6666666666666666, \"#ed7953\"], [0.7777777777777778, \"#fb9f3a\"], [0.8888888888888888, \"#fdca26\"], [1.0, \"#f0f921\"]], \"type\": \"surface\"}], \"table\": [{\"cells\": {\"fill\": {\"color\": \"#EBF0F8\"}, \"line\": {\"color\": \"white\"}}, \"header\": {\"fill\": {\"color\": \"#C8D4E3\"}, \"line\": {\"color\": \"white\"}}, \"type\": \"table\"}]}, \"layout\": {\"annotationdefaults\": {\"arrowcolor\": \"#2a3f5f\", \"arrowhead\": 0, \"arrowwidth\": 1}, \"coloraxis\": {\"colorbar\": {\"outlinewidth\": 0, \"ticks\": \"\"}}, \"colorscale\": {\"diverging\": [[0, \"#8e0152\"], [0.1, \"#c51b7d\"], [0.2, \"#de77ae\"], [0.3, \"#f1b6da\"], [0.4, \"#fde0ef\"], [0.5, \"#f7f7f7\"], [0.6, \"#e6f5d0\"], [0.7, \"#b8e186\"], [0.8, \"#7fbc41\"], [0.9, \"#4d9221\"], [1, \"#276419\"]], \"sequential\": [[0.0, \"#0d0887\"], [0.1111111111111111, \"#46039f\"], [0.2222222222222222, \"#7201a8\"], [0.3333333333333333, \"#9c179e\"], [0.4444444444444444, \"#bd3786\"], [0.5555555555555556, \"#d8576b\"], [0.6666666666666666, \"#ed7953\"], [0.7777777777777778, \"#fb9f3a\"], [0.8888888888888888, \"#fdca26\"], [1.0, \"#f0f921\"]], \"sequentialminus\": [[0.0, \"#0d0887\"], [0.1111111111111111, \"#46039f\"], [0.2222222222222222, \"#7201a8\"], [0.3333333333333333, \"#9c179e\"], [0.4444444444444444, \"#bd3786\"], [0.5555555555555556, \"#d8576b\"], [0.6666666666666666, \"#ed7953\"], [0.7777777777777778, \"#fb9f3a\"], [0.8888888888888888, \"#fdca26\"], [1.0, \"#f0f921\"]]}, \"colorway\": [\"#636efa\", \"#EF553B\", \"#00cc96\", \"#ab63fa\", \"#FFA15A\", \"#19d3f3\", \"#FF6692\", \"#B6E880\", \"#FF97FF\", \"#FECB52\"], \"font\": {\"color\": \"#2a3f5f\"}, \"geo\": {\"bgcolor\": \"white\", \"lakecolor\": \"white\", \"landcolor\": \"#E5ECF6\", \"showlakes\": true, \"showland\": true, \"subunitcolor\": \"white\"}, \"hoverlabel\": {\"align\": \"left\"}, \"hovermode\": \"closest\", \"mapbox\": {\"style\": \"light\"}, \"paper_bgcolor\": \"white\", \"plot_bgcolor\": \"#E5ECF6\", \"polar\": {\"angularaxis\": {\"gridcolor\": \"white\", \"linecolor\": \"white\", \"ticks\": \"\"}, \"bgcolor\": \"#E5ECF6\", \"radialaxis\": {\"gridcolor\": \"white\", \"linecolor\": \"white\", \"ticks\": \"\"}}, \"scene\": {\"xaxis\": {\"backgroundcolor\": \"#E5ECF6\", \"gridcolor\": \"white\", \"gridwidth\": 2, \"linecolor\": \"white\", \"showbackground\": true, \"ticks\": \"\", \"zerolinecolor\": \"white\"}, \"yaxis\": {\"backgroundcolor\": \"#E5ECF6\", \"gridcolor\": \"white\", \"gridwidth\": 2, \"linecolor\": \"white\", \"showbackground\": true, \"ticks\": \"\", \"zerolinecolor\": \"white\"}, \"zaxis\": {\"backgroundcolor\": \"#E5ECF6\", \"gridcolor\": \"white\", \"gridwidth\": 2, \"linecolor\": \"white\", \"showbackground\": true, \"ticks\": \"\", \"zerolinecolor\": \"white\"}}, \"shapedefaults\": {\"line\": {\"color\": \"#2a3f5f\"}}, \"ternary\": {\"aaxis\": {\"gridcolor\": \"white\", \"linecolor\": \"white\", \"ticks\": \"\"}, \"baxis\": {\"gridcolor\": \"white\", \"linecolor\": \"white\", \"ticks\": \"\"}, \"bgcolor\": \"#E5ECF6\", \"caxis\": {\"gridcolor\": \"white\", \"linecolor\": \"white\", \"ticks\": \"\"}}, \"title\": {\"x\": 0.05}, \"xaxis\": {\"automargin\": true, \"gridcolor\": \"white\", \"linecolor\": \"white\", \"ticks\": \"\", \"title\": {\"standoff\": 15}, \"zerolinecolor\": \"white\", \"zerolinewidth\": 2}, \"yaxis\": {\"automargin\": true, \"gridcolor\": \"white\", \"linecolor\": \"white\", \"ticks\": \"\", \"title\": {\"standoff\": 15}, \"zerolinecolor\": \"white\", \"zerolinewidth\": 2}}}, \"xaxis\": {\"anchor\": \"y\", \"domain\": [0.0, 1.0], \"title\": {\"text\": \"total_budget\"}}, \"yaxis\": {\"anchor\": \"x\", \"domain\": [0.0, 1.0], \"title\": {\"text\": \"total_case_growth_rate_2008_2018\"}}},\n",
              "                        {\"responsive\": true}\n",
              "                    ).then(function(){\n",
              "                            \n",
              "var gd = document.getElementById('3c6e9df2-a3e2-4478-abcb-d639c53f577b');\n",
              "var x = new MutationObserver(function (mutations, observer) {{\n",
              "        var display = window.getComputedStyle(gd).display;\n",
              "        if (!display || display === 'none') {{\n",
              "            console.log([gd, 'removed!']);\n",
              "            Plotly.purge(gd);\n",
              "            observer.disconnect();\n",
              "        }}\n",
              "}});\n",
              "\n",
              "// Listen for the removal of the full notebook cells\n",
              "var notebookContainer = gd.closest('#notebook-container');\n",
              "if (notebookContainer) {{\n",
              "    x.observe(notebookContainer, {childList: true});\n",
              "}}\n",
              "\n",
              "// Listen for the clearing of the current output cell\n",
              "var outputEl = gd.closest('.output');\n",
              "if (outputEl) {{\n",
              "    x.observe(outputEl, {childList: true});\n",
              "}}\n",
              "\n",
              "                        })\n",
              "                };\n",
              "                \n",
              "            </script>\n",
              "        </div>\n",
              "</body>\n",
              "</html>"
            ]
          },
          "metadata": {}
        }
      ]
    },
    {
      "cell_type": "code",
      "metadata": {
        "colab": {
          "base_uri": "https://localhost:8080/",
          "height": 542
        },
        "id": "FsBlDzWTQyWY",
        "outputId": "e69f12c0-7241-4bac-8072-10e198801cec"
      },
      "source": [
        "fig = px.scatter(group2, x=\"total_budget\", y=\"total_case_growth_rate_2008_2018\", trendline=\"ols\")\n",
        "fig.show()"
      ],
      "execution_count": 226,
      "outputs": [
        {
          "output_type": "display_data",
          "data": {
            "text/html": [
              "<html>\n",
              "<head><meta charset=\"utf-8\" /></head>\n",
              "<body>\n",
              "    <div>\n",
              "            <script src=\"https://cdnjs.cloudflare.com/ajax/libs/mathjax/2.7.5/MathJax.js?config=TeX-AMS-MML_SVG\"></script><script type=\"text/javascript\">if (window.MathJax) {MathJax.Hub.Config({SVG: {font: \"STIX-Web\"}});}</script>\n",
              "                <script type=\"text/javascript\">window.PlotlyConfig = {MathJaxConfig: 'local'};</script>\n",
              "        <script src=\"https://cdn.plot.ly/plotly-latest.min.js\"></script>    \n",
              "            <div id=\"c2b573e4-61ed-4700-a2c9-37188e8b80d5\" class=\"plotly-graph-div\" style=\"height:525px; width:100%;\"></div>\n",
              "            <script type=\"text/javascript\">\n",
              "                \n",
              "                    window.PLOTLYENV=window.PLOTLYENV || {};\n",
              "                    \n",
              "                if (document.getElementById(\"c2b573e4-61ed-4700-a2c9-37188e8b80d5\")) {\n",
              "                    Plotly.newPlot(\n",
              "                        'c2b573e4-61ed-4700-a2c9-37188e8b80d5',\n",
              "                        [{\"hoverlabel\": {\"namelength\": 0}, \"hovertemplate\": \"total_budget=%{x}<br>total_case_growth_rate_2008_2018=%{y}\", \"legendgroup\": \"\", \"marker\": {\"color\": \"#636efa\", \"symbol\": \"circle\"}, \"mode\": \"markers\", \"name\": \"\", \"showlegend\": false, \"type\": \"scatter\", \"x\": [192406.25, 245277.77777777778, 614185.1851851852, 172090.9090909091], \"xaxis\": \"x\", \"y\": [0.2957752022519796, 0.21831786349922727, 0.19818583238564816, 0.16532581025842827], \"yaxis\": \"y\"}, {\"hoverlabel\": {\"namelength\": 0}, \"hovertemplate\": \"<b>OLS trendline</b><br>total_case_growth_rate_2008_2018 = -0.000000 * total_budget + 0.238084<br>R<sup>2</sup>=0.052427<br><br>total_budget=%{x}<br>total_case_growth_rate_2008_2018=%{y} <b>(trend)</b>\", \"legendgroup\": \"\", \"marker\": {\"color\": \"#636efa\", \"symbol\": \"circle\"}, \"mode\": \"lines\", \"name\": \"\", \"showlegend\": false, \"type\": \"scatter\", \"x\": [172090.9090909091, 192406.25, 245277.77777777778, 614185.1851851852], \"xaxis\": \"x\", \"y\": [0.2275766470420618, 0.22633625459419182, 0.22310808116326722, 0.20058372559576249], \"yaxis\": \"y\"}],\n",
              "                        {\"legend\": {\"tracegroupgap\": 0}, \"margin\": {\"t\": 60}, \"template\": {\"data\": {\"bar\": [{\"error_x\": {\"color\": \"#2a3f5f\"}, \"error_y\": {\"color\": \"#2a3f5f\"}, \"marker\": {\"line\": {\"color\": \"#E5ECF6\", \"width\": 0.5}}, \"type\": \"bar\"}], \"barpolar\": [{\"marker\": {\"line\": {\"color\": \"#E5ECF6\", \"width\": 0.5}}, \"type\": \"barpolar\"}], \"carpet\": [{\"aaxis\": {\"endlinecolor\": \"#2a3f5f\", \"gridcolor\": \"white\", \"linecolor\": \"white\", \"minorgridcolor\": \"white\", \"startlinecolor\": \"#2a3f5f\"}, \"baxis\": {\"endlinecolor\": \"#2a3f5f\", \"gridcolor\": \"white\", \"linecolor\": \"white\", \"minorgridcolor\": \"white\", \"startlinecolor\": \"#2a3f5f\"}, \"type\": \"carpet\"}], \"choropleth\": [{\"colorbar\": {\"outlinewidth\": 0, \"ticks\": \"\"}, \"type\": \"choropleth\"}], \"contour\": [{\"colorbar\": {\"outlinewidth\": 0, \"ticks\": \"\"}, \"colorscale\": [[0.0, \"#0d0887\"], [0.1111111111111111, \"#46039f\"], [0.2222222222222222, \"#7201a8\"], [0.3333333333333333, \"#9c179e\"], [0.4444444444444444, \"#bd3786\"], [0.5555555555555556, \"#d8576b\"], [0.6666666666666666, \"#ed7953\"], [0.7777777777777778, \"#fb9f3a\"], [0.8888888888888888, \"#fdca26\"], [1.0, \"#f0f921\"]], \"type\": \"contour\"}], \"contourcarpet\": [{\"colorbar\": {\"outlinewidth\": 0, \"ticks\": \"\"}, \"type\": \"contourcarpet\"}], \"heatmap\": [{\"colorbar\": {\"outlinewidth\": 0, \"ticks\": \"\"}, \"colorscale\": [[0.0, \"#0d0887\"], [0.1111111111111111, \"#46039f\"], [0.2222222222222222, \"#7201a8\"], [0.3333333333333333, \"#9c179e\"], [0.4444444444444444, \"#bd3786\"], [0.5555555555555556, \"#d8576b\"], [0.6666666666666666, \"#ed7953\"], [0.7777777777777778, \"#fb9f3a\"], [0.8888888888888888, \"#fdca26\"], [1.0, \"#f0f921\"]], \"type\": \"heatmap\"}], \"heatmapgl\": [{\"colorbar\": {\"outlinewidth\": 0, \"ticks\": \"\"}, \"colorscale\": [[0.0, \"#0d0887\"], [0.1111111111111111, \"#46039f\"], [0.2222222222222222, \"#7201a8\"], [0.3333333333333333, \"#9c179e\"], [0.4444444444444444, \"#bd3786\"], [0.5555555555555556, \"#d8576b\"], [0.6666666666666666, \"#ed7953\"], [0.7777777777777778, \"#fb9f3a\"], [0.8888888888888888, \"#fdca26\"], [1.0, \"#f0f921\"]], \"type\": \"heatmapgl\"}], \"histogram\": [{\"marker\": {\"colorbar\": {\"outlinewidth\": 0, \"ticks\": \"\"}}, \"type\": \"histogram\"}], \"histogram2d\": [{\"colorbar\": {\"outlinewidth\": 0, \"ticks\": \"\"}, \"colorscale\": [[0.0, \"#0d0887\"], [0.1111111111111111, \"#46039f\"], [0.2222222222222222, \"#7201a8\"], [0.3333333333333333, \"#9c179e\"], [0.4444444444444444, \"#bd3786\"], [0.5555555555555556, \"#d8576b\"], [0.6666666666666666, \"#ed7953\"], [0.7777777777777778, \"#fb9f3a\"], [0.8888888888888888, \"#fdca26\"], [1.0, \"#f0f921\"]], \"type\": \"histogram2d\"}], \"histogram2dcontour\": [{\"colorbar\": {\"outlinewidth\": 0, \"ticks\": \"\"}, \"colorscale\": [[0.0, \"#0d0887\"], [0.1111111111111111, \"#46039f\"], [0.2222222222222222, \"#7201a8\"], [0.3333333333333333, \"#9c179e\"], [0.4444444444444444, \"#bd3786\"], [0.5555555555555556, \"#d8576b\"], [0.6666666666666666, \"#ed7953\"], [0.7777777777777778, \"#fb9f3a\"], [0.8888888888888888, \"#fdca26\"], [1.0, \"#f0f921\"]], \"type\": \"histogram2dcontour\"}], \"mesh3d\": [{\"colorbar\": {\"outlinewidth\": 0, \"ticks\": \"\"}, \"type\": \"mesh3d\"}], \"parcoords\": [{\"line\": {\"colorbar\": {\"outlinewidth\": 0, \"ticks\": \"\"}}, \"type\": \"parcoords\"}], \"pie\": [{\"automargin\": true, \"type\": \"pie\"}], \"scatter\": [{\"marker\": {\"colorbar\": {\"outlinewidth\": 0, \"ticks\": \"\"}}, \"type\": \"scatter\"}], \"scatter3d\": [{\"line\": {\"colorbar\": {\"outlinewidth\": 0, \"ticks\": \"\"}}, \"marker\": {\"colorbar\": {\"outlinewidth\": 0, \"ticks\": \"\"}}, \"type\": \"scatter3d\"}], \"scattercarpet\": [{\"marker\": {\"colorbar\": {\"outlinewidth\": 0, \"ticks\": \"\"}}, \"type\": \"scattercarpet\"}], \"scattergeo\": [{\"marker\": {\"colorbar\": {\"outlinewidth\": 0, \"ticks\": \"\"}}, \"type\": \"scattergeo\"}], \"scattergl\": [{\"marker\": {\"colorbar\": {\"outlinewidth\": 0, \"ticks\": \"\"}}, \"type\": \"scattergl\"}], \"scattermapbox\": [{\"marker\": {\"colorbar\": {\"outlinewidth\": 0, \"ticks\": \"\"}}, \"type\": \"scattermapbox\"}], \"scatterpolar\": [{\"marker\": {\"colorbar\": {\"outlinewidth\": 0, \"ticks\": \"\"}}, \"type\": \"scatterpolar\"}], \"scatterpolargl\": [{\"marker\": {\"colorbar\": {\"outlinewidth\": 0, \"ticks\": \"\"}}, \"type\": \"scatterpolargl\"}], \"scatterternary\": [{\"marker\": {\"colorbar\": {\"outlinewidth\": 0, \"ticks\": \"\"}}, \"type\": \"scatterternary\"}], \"surface\": [{\"colorbar\": {\"outlinewidth\": 0, \"ticks\": \"\"}, \"colorscale\": [[0.0, \"#0d0887\"], [0.1111111111111111, \"#46039f\"], [0.2222222222222222, \"#7201a8\"], [0.3333333333333333, \"#9c179e\"], [0.4444444444444444, \"#bd3786\"], [0.5555555555555556, \"#d8576b\"], [0.6666666666666666, \"#ed7953\"], [0.7777777777777778, \"#fb9f3a\"], [0.8888888888888888, \"#fdca26\"], [1.0, \"#f0f921\"]], \"type\": \"surface\"}], \"table\": [{\"cells\": {\"fill\": {\"color\": \"#EBF0F8\"}, \"line\": {\"color\": \"white\"}}, \"header\": {\"fill\": {\"color\": \"#C8D4E3\"}, \"line\": {\"color\": \"white\"}}, \"type\": \"table\"}]}, \"layout\": {\"annotationdefaults\": {\"arrowcolor\": \"#2a3f5f\", \"arrowhead\": 0, \"arrowwidth\": 1}, \"coloraxis\": {\"colorbar\": {\"outlinewidth\": 0, \"ticks\": \"\"}}, \"colorscale\": {\"diverging\": [[0, \"#8e0152\"], [0.1, \"#c51b7d\"], [0.2, \"#de77ae\"], [0.3, \"#f1b6da\"], [0.4, \"#fde0ef\"], [0.5, \"#f7f7f7\"], [0.6, \"#e6f5d0\"], [0.7, \"#b8e186\"], [0.8, \"#7fbc41\"], [0.9, \"#4d9221\"], [1, \"#276419\"]], \"sequential\": [[0.0, \"#0d0887\"], [0.1111111111111111, \"#46039f\"], [0.2222222222222222, \"#7201a8\"], [0.3333333333333333, \"#9c179e\"], [0.4444444444444444, \"#bd3786\"], [0.5555555555555556, \"#d8576b\"], [0.6666666666666666, \"#ed7953\"], [0.7777777777777778, \"#fb9f3a\"], [0.8888888888888888, \"#fdca26\"], [1.0, \"#f0f921\"]], \"sequentialminus\": [[0.0, \"#0d0887\"], [0.1111111111111111, \"#46039f\"], [0.2222222222222222, \"#7201a8\"], [0.3333333333333333, \"#9c179e\"], [0.4444444444444444, \"#bd3786\"], [0.5555555555555556, \"#d8576b\"], [0.6666666666666666, \"#ed7953\"], [0.7777777777777778, \"#fb9f3a\"], [0.8888888888888888, \"#fdca26\"], [1.0, \"#f0f921\"]]}, \"colorway\": [\"#636efa\", \"#EF553B\", \"#00cc96\", \"#ab63fa\", \"#FFA15A\", \"#19d3f3\", \"#FF6692\", \"#B6E880\", \"#FF97FF\", \"#FECB52\"], \"font\": {\"color\": \"#2a3f5f\"}, \"geo\": {\"bgcolor\": \"white\", \"lakecolor\": \"white\", \"landcolor\": \"#E5ECF6\", \"showlakes\": true, \"showland\": true, \"subunitcolor\": \"white\"}, \"hoverlabel\": {\"align\": \"left\"}, \"hovermode\": \"closest\", \"mapbox\": {\"style\": \"light\"}, \"paper_bgcolor\": \"white\", \"plot_bgcolor\": \"#E5ECF6\", \"polar\": {\"angularaxis\": {\"gridcolor\": \"white\", \"linecolor\": \"white\", \"ticks\": \"\"}, \"bgcolor\": \"#E5ECF6\", \"radialaxis\": {\"gridcolor\": \"white\", \"linecolor\": \"white\", \"ticks\": \"\"}}, \"scene\": {\"xaxis\": {\"backgroundcolor\": \"#E5ECF6\", \"gridcolor\": \"white\", \"gridwidth\": 2, \"linecolor\": \"white\", \"showbackground\": true, \"ticks\": \"\", \"zerolinecolor\": \"white\"}, \"yaxis\": {\"backgroundcolor\": \"#E5ECF6\", \"gridcolor\": \"white\", \"gridwidth\": 2, \"linecolor\": \"white\", \"showbackground\": true, \"ticks\": \"\", \"zerolinecolor\": \"white\"}, \"zaxis\": {\"backgroundcolor\": \"#E5ECF6\", \"gridcolor\": \"white\", \"gridwidth\": 2, \"linecolor\": \"white\", \"showbackground\": true, \"ticks\": \"\", \"zerolinecolor\": \"white\"}}, \"shapedefaults\": {\"line\": {\"color\": \"#2a3f5f\"}}, \"ternary\": {\"aaxis\": {\"gridcolor\": \"white\", \"linecolor\": \"white\", \"ticks\": \"\"}, \"baxis\": {\"gridcolor\": \"white\", \"linecolor\": \"white\", \"ticks\": \"\"}, \"bgcolor\": \"#E5ECF6\", \"caxis\": {\"gridcolor\": \"white\", \"linecolor\": \"white\", \"ticks\": \"\"}}, \"title\": {\"x\": 0.05}, \"xaxis\": {\"automargin\": true, \"gridcolor\": \"white\", \"linecolor\": \"white\", \"ticks\": \"\", \"title\": {\"standoff\": 15}, \"zerolinecolor\": \"white\", \"zerolinewidth\": 2}, \"yaxis\": {\"automargin\": true, \"gridcolor\": \"white\", \"linecolor\": \"white\", \"ticks\": \"\", \"title\": {\"standoff\": 15}, \"zerolinecolor\": \"white\", \"zerolinewidth\": 2}}}, \"xaxis\": {\"anchor\": \"y\", \"domain\": [0.0, 1.0], \"title\": {\"text\": \"total_budget\"}}, \"yaxis\": {\"anchor\": \"x\", \"domain\": [0.0, 1.0], \"title\": {\"text\": \"total_case_growth_rate_2008_2018\"}}},\n",
              "                        {\"responsive\": true}\n",
              "                    ).then(function(){\n",
              "                            \n",
              "var gd = document.getElementById('c2b573e4-61ed-4700-a2c9-37188e8b80d5');\n",
              "var x = new MutationObserver(function (mutations, observer) {{\n",
              "        var display = window.getComputedStyle(gd).display;\n",
              "        if (!display || display === 'none') {{\n",
              "            console.log([gd, 'removed!']);\n",
              "            Plotly.purge(gd);\n",
              "            observer.disconnect();\n",
              "        }}\n",
              "}});\n",
              "\n",
              "// Listen for the removal of the full notebook cells\n",
              "var notebookContainer = gd.closest('#notebook-container');\n",
              "if (notebookContainer) {{\n",
              "    x.observe(notebookContainer, {childList: true});\n",
              "}}\n",
              "\n",
              "// Listen for the clearing of the current output cell\n",
              "var outputEl = gd.closest('.output');\n",
              "if (outputEl) {{\n",
              "    x.observe(outputEl, {childList: true});\n",
              "}}\n",
              "\n",
              "                        })\n",
              "                };\n",
              "                \n",
              "            </script>\n",
              "        </div>\n",
              "</body>\n",
              "</html>"
            ]
          },
          "metadata": {}
        }
      ]
    },
    {
      "cell_type": "markdown",
      "metadata": {
        "id": "eDbqDRFXrsLI"
      },
      "source": [
        "##Budget Visualization"
      ]
    },
    {
      "cell_type": "code",
      "metadata": {
        "colab": {
          "base_uri": "https://localhost:8080/",
          "height": 100
        },
        "id": "1EEqRzPlwq7d",
        "outputId": "40be4d87-7e00-4897-9c64-5d7167fad34d"
      },
      "source": [
        "df[df[\"local_authority_area\"]== 'Croydon']"
      ],
      "execution_count": 227,
      "outputs": [
        {
          "output_type": "execute_result",
          "data": {
            "text/html": [
              "<div>\n",
              "<style scoped>\n",
              "    .dataframe tbody tr th:only-of-type {\n",
              "        vertical-align: middle;\n",
              "    }\n",
              "\n",
              "    .dataframe tbody tr th {\n",
              "        vertical-align: top;\n",
              "    }\n",
              "\n",
              "    .dataframe thead th {\n",
              "        text-align: right;\n",
              "    }\n",
              "</style>\n",
              "<table border=\"1\" class=\"dataframe\">\n",
              "  <thead>\n",
              "    <tr style=\"text-align: right;\">\n",
              "      <th></th>\n",
              "      <th>local_authority_area</th>\n",
              "      <th>2008_cases_total</th>\n",
              "      <th>2013_cases_total</th>\n",
              "      <th>2018_cases_total</th>\n",
              "      <th>2008_pop_total</th>\n",
              "      <th>2013_pop_total</th>\n",
              "      <th>2018_pop_total</th>\n",
              "      <th>2008_cases_male</th>\n",
              "      <th>2013_cases_male</th>\n",
              "      <th>2018_cases_male</th>\n",
              "      <th>2008_pop_male</th>\n",
              "      <th>2013_pop_male</th>\n",
              "      <th>2018_pop_male</th>\n",
              "      <th>2008_cases_female</th>\n",
              "      <th>2013_cases_female</th>\n",
              "      <th>2018_cases_female</th>\n",
              "      <th>2008_pop_female</th>\n",
              "      <th>2013_pop_female</th>\n",
              "      <th>2018_pop_female</th>\n",
              "      <th>total_budget</th>\n",
              "      <th>clean_air</th>\n",
              "      <th>clean_environ</th>\n",
              "      <th>health_training</th>\n",
              "      <th>school_awareness</th>\n",
              "      <th>media_awareness</th>\n",
              "      <th>sub_counselling</th>\n",
              "      <th>region</th>\n",
              "      <th>local_authority_type</th>\n",
              "    </tr>\n",
              "  </thead>\n",
              "  <tbody>\n",
              "    <tr>\n",
              "      <th>28</th>\n",
              "      <td>Croydon</td>\n",
              "      <td>685</td>\n",
              "      <td>782</td>\n",
              "      <td>1005</td>\n",
              "      <td>343556</td>\n",
              "      <td>354141</td>\n",
              "      <td>374614</td>\n",
              "      <td>223</td>\n",
              "      <td>238</td>\n",
              "      <td>317</td>\n",
              "      <td>169201</td>\n",
              "      <td>167813</td>\n",
              "      <td>167602</td>\n",
              "      <td>462</td>\n",
              "      <td>544</td>\n",
              "      <td>688</td>\n",
              "      <td>174355</td>\n",
              "      <td>186328</td>\n",
              "      <td>207012</td>\n",
              "      <td>230000</td>\n",
              "      <td>47000</td>\n",
              "      <td>27000</td>\n",
              "      <td>28000</td>\n",
              "      <td>78000</td>\n",
              "      <td>21000</td>\n",
              "      <td>29000</td>\n",
              "      <td>London</td>\n",
              "      <td>london_borough</td>\n",
              "    </tr>\n",
              "  </tbody>\n",
              "</table>\n",
              "</div>"
            ],
            "text/plain": [
              "   local_authority_area  2008_cases_total  ...  region  local_authority_type\n",
              "28              Croydon               685  ...  London        london_borough\n",
              "\n",
              "[1 rows x 28 columns]"
            ]
          },
          "metadata": {},
          "execution_count": 227
        }
      ]
    },
    {
      "cell_type": "code",
      "metadata": {
        "colab": {
          "base_uri": "https://localhost:8080/"
        },
        "id": "jbqp_B_SreG-",
        "outputId": "c9fa11e2-1f83-4c2e-e8c0-64fe9d2cf172"
      },
      "source": [
        "df[df[\"local_authority_area\"]== 'Croydon']['clean_air']"
      ],
      "execution_count": 228,
      "outputs": [
        {
          "output_type": "execute_result",
          "data": {
            "text/plain": [
              "28    47000\n",
              "Name: clean_air, dtype: int64"
            ]
          },
          "metadata": {},
          "execution_count": 228
        }
      ]
    },
    {
      "cell_type": "code",
      "metadata": {
        "id": "bhkgesbhqdzA"
      },
      "source": [
        "cols = ['clean_air','clean_environ','health_training','school_awareness','media_awareness','sub_counselling']"
      ],
      "execution_count": 229,
      "outputs": []
    },
    {
      "cell_type": "code",
      "metadata": {
        "id": "OdmKNENCvCyg"
      },
      "source": [
        "d = {'total_budget': cols, 'amount': nan}\n",
        "df_Cro_budget = pd.DataFrame(data = d)"
      ],
      "execution_count": 230,
      "outputs": []
    },
    {
      "cell_type": "code",
      "metadata": {
        "colab": {
          "base_uri": "https://localhost:8080/",
          "height": 235
        },
        "id": "nWCphHJwvSOn",
        "outputId": "e68ea1f7-52a0-4b65-863c-e23e5da5b4c3"
      },
      "source": [
        "df_Cro_budget"
      ],
      "execution_count": 231,
      "outputs": [
        {
          "output_type": "execute_result",
          "data": {
            "text/html": [
              "<div>\n",
              "<style scoped>\n",
              "    .dataframe tbody tr th:only-of-type {\n",
              "        vertical-align: middle;\n",
              "    }\n",
              "\n",
              "    .dataframe tbody tr th {\n",
              "        vertical-align: top;\n",
              "    }\n",
              "\n",
              "    .dataframe thead th {\n",
              "        text-align: right;\n",
              "    }\n",
              "</style>\n",
              "<table border=\"1\" class=\"dataframe\">\n",
              "  <thead>\n",
              "    <tr style=\"text-align: right;\">\n",
              "      <th></th>\n",
              "      <th>total_budget</th>\n",
              "      <th>amount</th>\n",
              "    </tr>\n",
              "  </thead>\n",
              "  <tbody>\n",
              "    <tr>\n",
              "      <th>0</th>\n",
              "      <td>clean_air</td>\n",
              "      <td>NaN</td>\n",
              "    </tr>\n",
              "    <tr>\n",
              "      <th>1</th>\n",
              "      <td>clean_environ</td>\n",
              "      <td>NaN</td>\n",
              "    </tr>\n",
              "    <tr>\n",
              "      <th>2</th>\n",
              "      <td>health_training</td>\n",
              "      <td>NaN</td>\n",
              "    </tr>\n",
              "    <tr>\n",
              "      <th>3</th>\n",
              "      <td>school_awareness</td>\n",
              "      <td>NaN</td>\n",
              "    </tr>\n",
              "    <tr>\n",
              "      <th>4</th>\n",
              "      <td>media_awareness</td>\n",
              "      <td>NaN</td>\n",
              "    </tr>\n",
              "    <tr>\n",
              "      <th>5</th>\n",
              "      <td>sub_counselling</td>\n",
              "      <td>NaN</td>\n",
              "    </tr>\n",
              "  </tbody>\n",
              "</table>\n",
              "</div>"
            ],
            "text/plain": [
              "       total_budget  amount\n",
              "0         clean_air     NaN\n",
              "1     clean_environ     NaN\n",
              "2   health_training     NaN\n",
              "3  school_awareness     NaN\n",
              "4   media_awareness     NaN\n",
              "5   sub_counselling     NaN"
            ]
          },
          "metadata": {},
          "execution_count": 231
        }
      ]
    },
    {
      "cell_type": "code",
      "metadata": {
        "colab": {
          "base_uri": "https://localhost:8080/"
        },
        "id": "gUcapQXGuXA3",
        "outputId": "6513d75e-9de8-4198-e1cd-69ba874c45a6"
      },
      "source": [
        "for x in range (len(df_Cro_budget)):\n",
        "  df_Cro_budget['amount'][x] = df[df[\"local_authority_area\"]== 'Croydon'][df_Cro_budget['total_budget'][x]]"
      ],
      "execution_count": 232,
      "outputs": [
        {
          "output_type": "stream",
          "name": "stderr",
          "text": [
            "/usr/local/lib/python3.7/dist-packages/ipykernel_launcher.py:2: SettingWithCopyWarning:\n",
            "\n",
            "\n",
            "A value is trying to be set on a copy of a slice from a DataFrame\n",
            "\n",
            "See the caveats in the documentation: https://pandas.pydata.org/pandas-docs/stable/user_guide/indexing.html#returning-a-view-versus-a-copy\n",
            "\n"
          ]
        }
      ]
    },
    {
      "cell_type": "code",
      "metadata": {
        "colab": {
          "base_uri": "https://localhost:8080/",
          "height": 235
        },
        "id": "OdY8VPoer7kT",
        "outputId": "783e0e3b-65c4-44f6-ca20-e2e7f032d8ad"
      },
      "source": [
        "df_Cro_budget"
      ],
      "execution_count": 233,
      "outputs": [
        {
          "output_type": "execute_result",
          "data": {
            "text/html": [
              "<div>\n",
              "<style scoped>\n",
              "    .dataframe tbody tr th:only-of-type {\n",
              "        vertical-align: middle;\n",
              "    }\n",
              "\n",
              "    .dataframe tbody tr th {\n",
              "        vertical-align: top;\n",
              "    }\n",
              "\n",
              "    .dataframe thead th {\n",
              "        text-align: right;\n",
              "    }\n",
              "</style>\n",
              "<table border=\"1\" class=\"dataframe\">\n",
              "  <thead>\n",
              "    <tr style=\"text-align: right;\">\n",
              "      <th></th>\n",
              "      <th>total_budget</th>\n",
              "      <th>amount</th>\n",
              "    </tr>\n",
              "  </thead>\n",
              "  <tbody>\n",
              "    <tr>\n",
              "      <th>0</th>\n",
              "      <td>clean_air</td>\n",
              "      <td>47000.0</td>\n",
              "    </tr>\n",
              "    <tr>\n",
              "      <th>1</th>\n",
              "      <td>clean_environ</td>\n",
              "      <td>27000.0</td>\n",
              "    </tr>\n",
              "    <tr>\n",
              "      <th>2</th>\n",
              "      <td>health_training</td>\n",
              "      <td>28000.0</td>\n",
              "    </tr>\n",
              "    <tr>\n",
              "      <th>3</th>\n",
              "      <td>school_awareness</td>\n",
              "      <td>78000.0</td>\n",
              "    </tr>\n",
              "    <tr>\n",
              "      <th>4</th>\n",
              "      <td>media_awareness</td>\n",
              "      <td>21000.0</td>\n",
              "    </tr>\n",
              "    <tr>\n",
              "      <th>5</th>\n",
              "      <td>sub_counselling</td>\n",
              "      <td>29000.0</td>\n",
              "    </tr>\n",
              "  </tbody>\n",
              "</table>\n",
              "</div>"
            ],
            "text/plain": [
              "       total_budget   amount\n",
              "0         clean_air  47000.0\n",
              "1     clean_environ  27000.0\n",
              "2   health_training  28000.0\n",
              "3  school_awareness  78000.0\n",
              "4   media_awareness  21000.0\n",
              "5   sub_counselling  29000.0"
            ]
          },
          "metadata": {},
          "execution_count": 233
        }
      ]
    },
    {
      "cell_type": "code",
      "metadata": {
        "colab": {
          "base_uri": "https://localhost:8080/",
          "height": 542
        },
        "id": "OIBOHjEQyBx3",
        "outputId": "0d6c60e3-5763-4bca-bfdd-a360b429eb86"
      },
      "source": [
        "fig = px.pie(df_Cro_budget,\n",
        "             values=\"amount\",\n",
        "             names=\"total_budget\",\n",
        "             template=\"seaborn\")\n",
        "fig.update_traces(rotation=90, pull=0.05, textinfo=\"percent+label\")\n",
        "fig.show()"
      ],
      "execution_count": 234,
      "outputs": [
        {
          "output_type": "display_data",
          "data": {
            "text/html": [
              "<html>\n",
              "<head><meta charset=\"utf-8\" /></head>\n",
              "<body>\n",
              "    <div>\n",
              "            <script src=\"https://cdnjs.cloudflare.com/ajax/libs/mathjax/2.7.5/MathJax.js?config=TeX-AMS-MML_SVG\"></script><script type=\"text/javascript\">if (window.MathJax) {MathJax.Hub.Config({SVG: {font: \"STIX-Web\"}});}</script>\n",
              "                <script type=\"text/javascript\">window.PlotlyConfig = {MathJaxConfig: 'local'};</script>\n",
              "        <script src=\"https://cdn.plot.ly/plotly-latest.min.js\"></script>    \n",
              "            <div id=\"baa826ee-cd94-4a7f-a7ae-175536f8ee54\" class=\"plotly-graph-div\" style=\"height:525px; width:100%;\"></div>\n",
              "            <script type=\"text/javascript\">\n",
              "                \n",
              "                    window.PLOTLYENV=window.PLOTLYENV || {};\n",
              "                    \n",
              "                if (document.getElementById(\"baa826ee-cd94-4a7f-a7ae-175536f8ee54\")) {\n",
              "                    Plotly.newPlot(\n",
              "                        'baa826ee-cd94-4a7f-a7ae-175536f8ee54',\n",
              "                        [{\"domain\": {\"x\": [0.0, 1.0], \"y\": [0.0, 1.0]}, \"hoverlabel\": {\"namelength\": 0}, \"hovertemplate\": \"total_budget=%{label}<br>amount=%{value}\", \"labels\": [\"clean_air\", \"clean_environ\", \"health_training\", \"school_awareness\", \"media_awareness\", \"sub_counselling\"], \"legendgroup\": \"\", \"name\": \"\", \"pull\": 0.05, \"rotation\": 90, \"showlegend\": true, \"textinfo\": \"percent+label\", \"type\": \"pie\", \"values\": [47000.0, 27000.0, 28000.0, 78000.0, 21000.0, 29000.0]}],\n",
              "                        {\"legend\": {\"tracegroupgap\": 0}, \"margin\": {\"t\": 60}, \"template\": {\"data\": {\"bar\": [{\"error_x\": {\"color\": \"rgb(36,36,36)\"}, \"error_y\": {\"color\": \"rgb(36,36,36)\"}, \"marker\": {\"line\": {\"color\": \"rgb(234,234,242)\", \"width\": 0.5}}, \"type\": \"bar\"}], \"barpolar\": [{\"marker\": {\"line\": {\"color\": \"rgb(234,234,242)\", \"width\": 0.5}}, \"type\": \"barpolar\"}], \"carpet\": [{\"aaxis\": {\"endlinecolor\": \"rgb(36,36,36)\", \"gridcolor\": \"white\", \"linecolor\": \"white\", \"minorgridcolor\": \"white\", \"startlinecolor\": \"rgb(36,36,36)\"}, \"baxis\": {\"endlinecolor\": \"rgb(36,36,36)\", \"gridcolor\": \"white\", \"linecolor\": \"white\", \"minorgridcolor\": \"white\", \"startlinecolor\": \"rgb(36,36,36)\"}, \"type\": \"carpet\"}], \"choropleth\": [{\"colorbar\": {\"outlinewidth\": 0, \"tickcolor\": \"rgb(36,36,36)\", \"ticklen\": 8, \"ticks\": \"outside\", \"tickwidth\": 2}, \"type\": \"choropleth\"}], \"contour\": [{\"colorbar\": {\"outlinewidth\": 0, \"tickcolor\": \"rgb(36,36,36)\", \"ticklen\": 8, \"ticks\": \"outside\", \"tickwidth\": 2}, \"colorscale\": [[0.0, \"rgb(2,4,25)\"], [0.06274509803921569, \"rgb(24,15,41)\"], [0.12549019607843137, \"rgb(47,23,57)\"], [0.18823529411764706, \"rgb(71,28,72)\"], [0.25098039215686274, \"rgb(97,30,82)\"], [0.3137254901960784, \"rgb(123,30,89)\"], [0.3764705882352941, \"rgb(150,27,91)\"], [0.4392156862745098, \"rgb(177,22,88)\"], [0.5019607843137255, \"rgb(203,26,79)\"], [0.5647058823529412, \"rgb(223,47,67)\"], [0.6274509803921569, \"rgb(236,76,61)\"], [0.6901960784313725, \"rgb(242,107,73)\"], [0.7529411764705882, \"rgb(244,135,95)\"], [0.8156862745098039, \"rgb(245,162,122)\"], [0.8784313725490196, \"rgb(246,188,153)\"], [0.9411764705882353, \"rgb(247,212,187)\"], [1.0, \"rgb(250,234,220)\"]], \"type\": \"contour\"}], \"contourcarpet\": [{\"colorbar\": {\"outlinewidth\": 0, \"tickcolor\": \"rgb(36,36,36)\", \"ticklen\": 8, \"ticks\": \"outside\", \"tickwidth\": 2}, \"type\": \"contourcarpet\"}], \"heatmap\": [{\"colorbar\": {\"outlinewidth\": 0, \"tickcolor\": \"rgb(36,36,36)\", \"ticklen\": 8, \"ticks\": \"outside\", \"tickwidth\": 2}, \"colorscale\": [[0.0, \"rgb(2,4,25)\"], [0.06274509803921569, \"rgb(24,15,41)\"], [0.12549019607843137, \"rgb(47,23,57)\"], [0.18823529411764706, \"rgb(71,28,72)\"], [0.25098039215686274, \"rgb(97,30,82)\"], [0.3137254901960784, \"rgb(123,30,89)\"], [0.3764705882352941, \"rgb(150,27,91)\"], [0.4392156862745098, \"rgb(177,22,88)\"], [0.5019607843137255, \"rgb(203,26,79)\"], [0.5647058823529412, \"rgb(223,47,67)\"], [0.6274509803921569, \"rgb(236,76,61)\"], [0.6901960784313725, \"rgb(242,107,73)\"], [0.7529411764705882, \"rgb(244,135,95)\"], [0.8156862745098039, \"rgb(245,162,122)\"], [0.8784313725490196, \"rgb(246,188,153)\"], [0.9411764705882353, \"rgb(247,212,187)\"], [1.0, \"rgb(250,234,220)\"]], \"type\": \"heatmap\"}], \"heatmapgl\": [{\"colorbar\": {\"outlinewidth\": 0, \"tickcolor\": \"rgb(36,36,36)\", \"ticklen\": 8, \"ticks\": \"outside\", \"tickwidth\": 2}, \"colorscale\": [[0.0, \"rgb(2,4,25)\"], [0.06274509803921569, \"rgb(24,15,41)\"], [0.12549019607843137, \"rgb(47,23,57)\"], [0.18823529411764706, \"rgb(71,28,72)\"], [0.25098039215686274, \"rgb(97,30,82)\"], [0.3137254901960784, \"rgb(123,30,89)\"], [0.3764705882352941, \"rgb(150,27,91)\"], [0.4392156862745098, \"rgb(177,22,88)\"], [0.5019607843137255, \"rgb(203,26,79)\"], [0.5647058823529412, \"rgb(223,47,67)\"], [0.6274509803921569, \"rgb(236,76,61)\"], [0.6901960784313725, \"rgb(242,107,73)\"], [0.7529411764705882, \"rgb(244,135,95)\"], [0.8156862745098039, \"rgb(245,162,122)\"], [0.8784313725490196, \"rgb(246,188,153)\"], [0.9411764705882353, \"rgb(247,212,187)\"], [1.0, \"rgb(250,234,220)\"]], \"type\": \"heatmapgl\"}], \"histogram\": [{\"marker\": {\"colorbar\": {\"outlinewidth\": 0, \"tickcolor\": \"rgb(36,36,36)\", \"ticklen\": 8, \"ticks\": \"outside\", \"tickwidth\": 2}}, \"type\": \"histogram\"}], \"histogram2d\": [{\"colorbar\": {\"outlinewidth\": 0, \"tickcolor\": \"rgb(36,36,36)\", \"ticklen\": 8, \"ticks\": \"outside\", \"tickwidth\": 2}, \"colorscale\": [[0.0, \"rgb(2,4,25)\"], [0.06274509803921569, \"rgb(24,15,41)\"], [0.12549019607843137, \"rgb(47,23,57)\"], [0.18823529411764706, \"rgb(71,28,72)\"], [0.25098039215686274, \"rgb(97,30,82)\"], [0.3137254901960784, \"rgb(123,30,89)\"], [0.3764705882352941, \"rgb(150,27,91)\"], [0.4392156862745098, \"rgb(177,22,88)\"], [0.5019607843137255, \"rgb(203,26,79)\"], [0.5647058823529412, \"rgb(223,47,67)\"], [0.6274509803921569, \"rgb(236,76,61)\"], [0.6901960784313725, \"rgb(242,107,73)\"], [0.7529411764705882, \"rgb(244,135,95)\"], [0.8156862745098039, \"rgb(245,162,122)\"], [0.8784313725490196, \"rgb(246,188,153)\"], [0.9411764705882353, \"rgb(247,212,187)\"], [1.0, \"rgb(250,234,220)\"]], \"type\": \"histogram2d\"}], \"histogram2dcontour\": [{\"colorbar\": {\"outlinewidth\": 0, \"tickcolor\": \"rgb(36,36,36)\", \"ticklen\": 8, \"ticks\": \"outside\", \"tickwidth\": 2}, \"colorscale\": [[0.0, \"rgb(2,4,25)\"], [0.06274509803921569, \"rgb(24,15,41)\"], [0.12549019607843137, \"rgb(47,23,57)\"], [0.18823529411764706, \"rgb(71,28,72)\"], [0.25098039215686274, \"rgb(97,30,82)\"], [0.3137254901960784, \"rgb(123,30,89)\"], [0.3764705882352941, \"rgb(150,27,91)\"], [0.4392156862745098, \"rgb(177,22,88)\"], [0.5019607843137255, \"rgb(203,26,79)\"], [0.5647058823529412, \"rgb(223,47,67)\"], [0.6274509803921569, \"rgb(236,76,61)\"], [0.6901960784313725, \"rgb(242,107,73)\"], [0.7529411764705882, \"rgb(244,135,95)\"], [0.8156862745098039, \"rgb(245,162,122)\"], [0.8784313725490196, \"rgb(246,188,153)\"], [0.9411764705882353, \"rgb(247,212,187)\"], [1.0, \"rgb(250,234,220)\"]], \"type\": \"histogram2dcontour\"}], \"mesh3d\": [{\"colorbar\": {\"outlinewidth\": 0, \"tickcolor\": \"rgb(36,36,36)\", \"ticklen\": 8, \"ticks\": \"outside\", \"tickwidth\": 2}, \"type\": \"mesh3d\"}], \"parcoords\": [{\"line\": {\"colorbar\": {\"outlinewidth\": 0, \"tickcolor\": \"rgb(36,36,36)\", \"ticklen\": 8, \"ticks\": \"outside\", \"tickwidth\": 2}}, \"type\": \"parcoords\"}], \"pie\": [{\"automargin\": true, \"type\": \"pie\"}], \"scatter\": [{\"marker\": {\"colorbar\": {\"outlinewidth\": 0, \"tickcolor\": \"rgb(36,36,36)\", \"ticklen\": 8, \"ticks\": \"outside\", \"tickwidth\": 2}}, \"type\": \"scatter\"}], \"scatter3d\": [{\"line\": {\"colorbar\": {\"outlinewidth\": 0, \"tickcolor\": \"rgb(36,36,36)\", \"ticklen\": 8, \"ticks\": \"outside\", \"tickwidth\": 2}}, \"marker\": {\"colorbar\": {\"outlinewidth\": 0, \"tickcolor\": \"rgb(36,36,36)\", \"ticklen\": 8, \"ticks\": \"outside\", \"tickwidth\": 2}}, \"type\": \"scatter3d\"}], \"scattercarpet\": [{\"marker\": {\"colorbar\": {\"outlinewidth\": 0, \"tickcolor\": \"rgb(36,36,36)\", \"ticklen\": 8, \"ticks\": \"outside\", \"tickwidth\": 2}}, \"type\": \"scattercarpet\"}], \"scattergeo\": [{\"marker\": {\"colorbar\": {\"outlinewidth\": 0, \"tickcolor\": \"rgb(36,36,36)\", \"ticklen\": 8, \"ticks\": \"outside\", \"tickwidth\": 2}}, \"type\": \"scattergeo\"}], \"scattergl\": [{\"marker\": {\"colorbar\": {\"outlinewidth\": 0, \"tickcolor\": \"rgb(36,36,36)\", \"ticklen\": 8, \"ticks\": \"outside\", \"tickwidth\": 2}}, \"type\": \"scattergl\"}], \"scattermapbox\": [{\"marker\": {\"colorbar\": {\"outlinewidth\": 0, \"tickcolor\": \"rgb(36,36,36)\", \"ticklen\": 8, \"ticks\": \"outside\", \"tickwidth\": 2}}, \"type\": \"scattermapbox\"}], \"scatterpolar\": [{\"marker\": {\"colorbar\": {\"outlinewidth\": 0, \"tickcolor\": \"rgb(36,36,36)\", \"ticklen\": 8, \"ticks\": \"outside\", \"tickwidth\": 2}}, \"type\": \"scatterpolar\"}], \"scatterpolargl\": [{\"marker\": {\"colorbar\": {\"outlinewidth\": 0, \"tickcolor\": \"rgb(36,36,36)\", \"ticklen\": 8, \"ticks\": \"outside\", \"tickwidth\": 2}}, \"type\": \"scatterpolargl\"}], \"scatterternary\": [{\"marker\": {\"colorbar\": {\"outlinewidth\": 0, \"tickcolor\": \"rgb(36,36,36)\", \"ticklen\": 8, \"ticks\": \"outside\", \"tickwidth\": 2}}, \"type\": \"scatterternary\"}], \"surface\": [{\"colorbar\": {\"outlinewidth\": 0, \"tickcolor\": \"rgb(36,36,36)\", \"ticklen\": 8, \"ticks\": \"outside\", \"tickwidth\": 2}, \"colorscale\": [[0.0, \"rgb(2,4,25)\"], [0.06274509803921569, \"rgb(24,15,41)\"], [0.12549019607843137, \"rgb(47,23,57)\"], [0.18823529411764706, \"rgb(71,28,72)\"], [0.25098039215686274, \"rgb(97,30,82)\"], [0.3137254901960784, \"rgb(123,30,89)\"], [0.3764705882352941, \"rgb(150,27,91)\"], [0.4392156862745098, \"rgb(177,22,88)\"], [0.5019607843137255, \"rgb(203,26,79)\"], [0.5647058823529412, \"rgb(223,47,67)\"], [0.6274509803921569, \"rgb(236,76,61)\"], [0.6901960784313725, \"rgb(242,107,73)\"], [0.7529411764705882, \"rgb(244,135,95)\"], [0.8156862745098039, \"rgb(245,162,122)\"], [0.8784313725490196, \"rgb(246,188,153)\"], [0.9411764705882353, \"rgb(247,212,187)\"], [1.0, \"rgb(250,234,220)\"]], \"type\": \"surface\"}], \"table\": [{\"cells\": {\"fill\": {\"color\": \"rgb(231,231,240)\"}, \"line\": {\"color\": \"white\"}}, \"header\": {\"fill\": {\"color\": \"rgb(183,183,191)\"}, \"line\": {\"color\": \"white\"}}, \"type\": \"table\"}]}, \"layout\": {\"annotationdefaults\": {\"arrowcolor\": \"rgb(67,103,167)\"}, \"coloraxis\": {\"colorbar\": {\"outlinewidth\": 0, \"tickcolor\": \"rgb(36,36,36)\", \"ticklen\": 8, \"ticks\": \"outside\", \"tickwidth\": 2}}, \"colorscale\": {\"sequential\": [[0.0, \"rgb(2,4,25)\"], [0.06274509803921569, \"rgb(24,15,41)\"], [0.12549019607843137, \"rgb(47,23,57)\"], [0.18823529411764706, \"rgb(71,28,72)\"], [0.25098039215686274, \"rgb(97,30,82)\"], [0.3137254901960784, \"rgb(123,30,89)\"], [0.3764705882352941, \"rgb(150,27,91)\"], [0.4392156862745098, \"rgb(177,22,88)\"], [0.5019607843137255, \"rgb(203,26,79)\"], [0.5647058823529412, \"rgb(223,47,67)\"], [0.6274509803921569, \"rgb(236,76,61)\"], [0.6901960784313725, \"rgb(242,107,73)\"], [0.7529411764705882, \"rgb(244,135,95)\"], [0.8156862745098039, \"rgb(245,162,122)\"], [0.8784313725490196, \"rgb(246,188,153)\"], [0.9411764705882353, \"rgb(247,212,187)\"], [1.0, \"rgb(250,234,220)\"]], \"sequentialminus\": [[0.0, \"rgb(2,4,25)\"], [0.06274509803921569, \"rgb(24,15,41)\"], [0.12549019607843137, \"rgb(47,23,57)\"], [0.18823529411764706, \"rgb(71,28,72)\"], [0.25098039215686274, \"rgb(97,30,82)\"], [0.3137254901960784, \"rgb(123,30,89)\"], [0.3764705882352941, \"rgb(150,27,91)\"], [0.4392156862745098, \"rgb(177,22,88)\"], [0.5019607843137255, \"rgb(203,26,79)\"], [0.5647058823529412, \"rgb(223,47,67)\"], [0.6274509803921569, \"rgb(236,76,61)\"], [0.6901960784313725, \"rgb(242,107,73)\"], [0.7529411764705882, \"rgb(244,135,95)\"], [0.8156862745098039, \"rgb(245,162,122)\"], [0.8784313725490196, \"rgb(246,188,153)\"], [0.9411764705882353, \"rgb(247,212,187)\"], [1.0, \"rgb(250,234,220)\"]]}, \"colorway\": [\"rgb(76,114,176)\", \"rgb(221,132,82)\", \"rgb(85,168,104)\", \"rgb(196,78,82)\", \"rgb(129,114,179)\", \"rgb(147,120,96)\", \"rgb(218,139,195)\", \"rgb(140,140,140)\", \"rgb(204,185,116)\", \"rgb(100,181,205)\"], \"font\": {\"color\": \"rgb(36,36,36)\"}, \"geo\": {\"bgcolor\": \"white\", \"lakecolor\": \"white\", \"landcolor\": \"rgb(234,234,242)\", \"showlakes\": true, \"showland\": true, \"subunitcolor\": \"white\"}, \"hoverlabel\": {\"align\": \"left\"}, \"hovermode\": \"closest\", \"paper_bgcolor\": \"white\", \"plot_bgcolor\": \"rgb(234,234,242)\", \"polar\": {\"angularaxis\": {\"gridcolor\": \"white\", \"linecolor\": \"white\", \"showgrid\": true, \"ticks\": \"\"}, \"bgcolor\": \"rgb(234,234,242)\", \"radialaxis\": {\"gridcolor\": \"white\", \"linecolor\": \"white\", \"showgrid\": true, \"ticks\": \"\"}}, \"scene\": {\"xaxis\": {\"backgroundcolor\": \"rgb(234,234,242)\", \"gridcolor\": \"white\", \"gridwidth\": 2, \"linecolor\": \"white\", \"showbackground\": true, \"showgrid\": true, \"ticks\": \"\", \"zerolinecolor\": \"white\"}, \"yaxis\": {\"backgroundcolor\": \"rgb(234,234,242)\", \"gridcolor\": \"white\", \"gridwidth\": 2, \"linecolor\": \"white\", \"showbackground\": true, \"showgrid\": true, \"ticks\": \"\", \"zerolinecolor\": \"white\"}, \"zaxis\": {\"backgroundcolor\": \"rgb(234,234,242)\", \"gridcolor\": \"white\", \"gridwidth\": 2, \"linecolor\": \"white\", \"showbackground\": true, \"showgrid\": true, \"ticks\": \"\", \"zerolinecolor\": \"white\"}}, \"shapedefaults\": {\"fillcolor\": \"rgb(67,103,167)\", \"line\": {\"width\": 0}, \"opacity\": 0.5}, \"ternary\": {\"aaxis\": {\"gridcolor\": \"white\", \"linecolor\": \"white\", \"showgrid\": true, \"ticks\": \"\"}, \"baxis\": {\"gridcolor\": \"white\", \"linecolor\": \"white\", \"showgrid\": true, \"ticks\": \"\"}, \"bgcolor\": \"rgb(234,234,242)\", \"caxis\": {\"gridcolor\": \"white\", \"linecolor\": \"white\", \"showgrid\": true, \"ticks\": \"\"}}, \"xaxis\": {\"automargin\": true, \"gridcolor\": \"white\", \"linecolor\": \"white\", \"showgrid\": true, \"ticks\": \"\", \"title\": {\"standoff\": 15}, \"zerolinecolor\": \"white\"}, \"yaxis\": {\"automargin\": true, \"gridcolor\": \"white\", \"linecolor\": \"white\", \"showgrid\": true, \"ticks\": \"\", \"title\": {\"standoff\": 15}, \"zerolinecolor\": \"white\"}}}},\n",
              "                        {\"responsive\": true}\n",
              "                    ).then(function(){\n",
              "                            \n",
              "var gd = document.getElementById('baa826ee-cd94-4a7f-a7ae-175536f8ee54');\n",
              "var x = new MutationObserver(function (mutations, observer) {{\n",
              "        var display = window.getComputedStyle(gd).display;\n",
              "        if (!display || display === 'none') {{\n",
              "            console.log([gd, 'removed!']);\n",
              "            Plotly.purge(gd);\n",
              "            observer.disconnect();\n",
              "        }}\n",
              "}});\n",
              "\n",
              "// Listen for the removal of the full notebook cells\n",
              "var notebookContainer = gd.closest('#notebook-container');\n",
              "if (notebookContainer) {{\n",
              "    x.observe(notebookContainer, {childList: true});\n",
              "}}\n",
              "\n",
              "// Listen for the clearing of the current output cell\n",
              "var outputEl = gd.closest('.output');\n",
              "if (outputEl) {{\n",
              "    x.observe(outputEl, {childList: true});\n",
              "}}\n",
              "\n",
              "                        })\n",
              "                };\n",
              "                \n",
              "            </script>\n",
              "        </div>\n",
              "</body>\n",
              "</html>"
            ]
          },
          "metadata": {}
        }
      ]
    },
    {
      "cell_type": "markdown",
      "metadata": {
        "id": "aJTTU3BmHmLu"
      },
      "source": [
        "##Correlation test"
      ]
    },
    {
      "cell_type": "code",
      "metadata": {
        "id": "j9Q7wFPC4hhS"
      },
      "source": [
        "summary = df.copy()"
      ],
      "execution_count": 235,
      "outputs": []
    },
    {
      "cell_type": "code",
      "metadata": {
        "id": "3p_Daulz0G6r"
      },
      "source": [
        "#10年内增长率\n",
        "summary_growth = pd.merge(df, df_growth_10, on=['local_authority_area'], how='left')"
      ],
      "execution_count": 236,
      "outputs": []
    },
    {
      "cell_type": "code",
      "metadata": {
        "id": "fm5jC7z-1XLg"
      },
      "source": [
        "#10年内人口发病率\n",
        "summary_pop = pd.merge(df, df_pop_10, on=['local_authority_area'], how='left')"
      ],
      "execution_count": 237,
      "outputs": []
    },
    {
      "cell_type": "code",
      "metadata": {
        "id": "cGz_FDu6IJyN"
      },
      "source": [
        "summary_growth = summary_growth[['local_authority_area','total_case_growth_rate_2008_2018']]\n",
        "summary_pop = summary_pop[['local_authority_area','total_case_pop_rate_2008_2018']]"
      ],
      "execution_count": 238,
      "outputs": []
    },
    {
      "cell_type": "code",
      "metadata": {
        "colab": {
          "base_uri": "https://localhost:8080/",
          "height": 609
        },
        "id": "ul4jP6lDfsow",
        "outputId": "4dfd4645-d5d7-4483-cfef-087f896005b2"
      },
      "source": [
        "summary"
      ],
      "execution_count": 239,
      "outputs": [
        {
          "output_type": "execute_result",
          "data": {
            "text/html": [
              "<div>\n",
              "<style scoped>\n",
              "    .dataframe tbody tr th:only-of-type {\n",
              "        vertical-align: middle;\n",
              "    }\n",
              "\n",
              "    .dataframe tbody tr th {\n",
              "        vertical-align: top;\n",
              "    }\n",
              "\n",
              "    .dataframe thead th {\n",
              "        text-align: right;\n",
              "    }\n",
              "</style>\n",
              "<table border=\"1\" class=\"dataframe\">\n",
              "  <thead>\n",
              "    <tr style=\"text-align: right;\">\n",
              "      <th></th>\n",
              "      <th>local_authority_area</th>\n",
              "      <th>2008_cases_total</th>\n",
              "      <th>2013_cases_total</th>\n",
              "      <th>2018_cases_total</th>\n",
              "      <th>2008_pop_total</th>\n",
              "      <th>2013_pop_total</th>\n",
              "      <th>2018_pop_total</th>\n",
              "      <th>2008_cases_male</th>\n",
              "      <th>2013_cases_male</th>\n",
              "      <th>2018_cases_male</th>\n",
              "      <th>2008_pop_male</th>\n",
              "      <th>2013_pop_male</th>\n",
              "      <th>2018_pop_male</th>\n",
              "      <th>2008_cases_female</th>\n",
              "      <th>2013_cases_female</th>\n",
              "      <th>2018_cases_female</th>\n",
              "      <th>2008_pop_female</th>\n",
              "      <th>2013_pop_female</th>\n",
              "      <th>2018_pop_female</th>\n",
              "      <th>total_budget</th>\n",
              "      <th>clean_air</th>\n",
              "      <th>clean_environ</th>\n",
              "      <th>health_training</th>\n",
              "      <th>school_awareness</th>\n",
              "      <th>media_awareness</th>\n",
              "      <th>sub_counselling</th>\n",
              "      <th>region</th>\n",
              "      <th>local_authority_type</th>\n",
              "    </tr>\n",
              "  </thead>\n",
              "  <tbody>\n",
              "    <tr>\n",
              "      <th>0</th>\n",
              "      <td>Barking and Dagenham</td>\n",
              "      <td>593</td>\n",
              "      <td>619</td>\n",
              "      <td>763</td>\n",
              "      <td>172684</td>\n",
              "      <td>179030</td>\n",
              "      <td>181779</td>\n",
              "      <td>187</td>\n",
              "      <td>190</td>\n",
              "      <td>230</td>\n",
              "      <td>83890</td>\n",
              "      <td>81915</td>\n",
              "      <td>77983</td>\n",
              "      <td>406</td>\n",
              "      <td>429</td>\n",
              "      <td>533</td>\n",
              "      <td>88794</td>\n",
              "      <td>97115</td>\n",
              "      <td>103796</td>\n",
              "      <td>139000</td>\n",
              "      <td>21000</td>\n",
              "      <td>22000</td>\n",
              "      <td>18000</td>\n",
              "      <td>41000</td>\n",
              "      <td>18000</td>\n",
              "      <td>19000</td>\n",
              "      <td>London</td>\n",
              "      <td>london_borough</td>\n",
              "    </tr>\n",
              "    <tr>\n",
              "      <th>1</th>\n",
              "      <td>Barnet</td>\n",
              "      <td>539</td>\n",
              "      <td>594</td>\n",
              "      <td>773</td>\n",
              "      <td>340435</td>\n",
              "      <td>344062</td>\n",
              "      <td>355955</td>\n",
              "      <td>212</td>\n",
              "      <td>204</td>\n",
              "      <td>292</td>\n",
              "      <td>169060</td>\n",
              "      <td>161533</td>\n",
              "      <td>161769</td>\n",
              "      <td>327</td>\n",
              "      <td>390</td>\n",
              "      <td>481</td>\n",
              "      <td>171375</td>\n",
              "      <td>182529</td>\n",
              "      <td>194186</td>\n",
              "      <td>220000</td>\n",
              "      <td>50000</td>\n",
              "      <td>17000</td>\n",
              "      <td>23000</td>\n",
              "      <td>74000</td>\n",
              "      <td>30000</td>\n",
              "      <td>26000</td>\n",
              "      <td>London</td>\n",
              "      <td>london_borough</td>\n",
              "    </tr>\n",
              "    <tr>\n",
              "      <th>2</th>\n",
              "      <td>Barnsley</td>\n",
              "      <td>360</td>\n",
              "      <td>451</td>\n",
              "      <td>527</td>\n",
              "      <td>226755</td>\n",
              "      <td>244010</td>\n",
              "      <td>257883</td>\n",
              "      <td>148</td>\n",
              "      <td>186</td>\n",
              "      <td>212</td>\n",
              "      <td>110384</td>\n",
              "      <td>117286</td>\n",
              "      <td>127055</td>\n",
              "      <td>212</td>\n",
              "      <td>265</td>\n",
              "      <td>315</td>\n",
              "      <td>116371</td>\n",
              "      <td>126724</td>\n",
              "      <td>130828</td>\n",
              "      <td>160000</td>\n",
              "      <td>41000</td>\n",
              "      <td>45000</td>\n",
              "      <td>5000</td>\n",
              "      <td>26000</td>\n",
              "      <td>29000</td>\n",
              "      <td>14000</td>\n",
              "      <td>Yorkshire and the Humber</td>\n",
              "      <td>metropolitan_borough</td>\n",
              "    </tr>\n",
              "    <tr>\n",
              "      <th>3</th>\n",
              "      <td>Bath and North East Somerset</td>\n",
              "      <td>456</td>\n",
              "      <td>421</td>\n",
              "      <td>494</td>\n",
              "      <td>178625</td>\n",
              "      <td>172975</td>\n",
              "      <td>189334</td>\n",
              "      <td>157</td>\n",
              "      <td>129</td>\n",
              "      <td>156</td>\n",
              "      <td>87026</td>\n",
              "      <td>84077</td>\n",
              "      <td>90890</td>\n",
              "      <td>299</td>\n",
              "      <td>292</td>\n",
              "      <td>338</td>\n",
              "      <td>91599</td>\n",
              "      <td>88898</td>\n",
              "      <td>98444</td>\n",
              "      <td>161000</td>\n",
              "      <td>33000</td>\n",
              "      <td>42000</td>\n",
              "      <td>19000</td>\n",
              "      <td>50000</td>\n",
              "      <td>10000</td>\n",
              "      <td>7000</td>\n",
              "      <td>South West</td>\n",
              "      <td>unitary_authority</td>\n",
              "    </tr>\n",
              "    <tr>\n",
              "      <th>4</th>\n",
              "      <td>Bedford</td>\n",
              "      <td>311</td>\n",
              "      <td>327</td>\n",
              "      <td>367</td>\n",
              "      <td>158185</td>\n",
              "      <td>164807</td>\n",
              "      <td>170463</td>\n",
              "      <td>138</td>\n",
              "      <td>145</td>\n",
              "      <td>156</td>\n",
              "      <td>75929</td>\n",
              "      <td>85074</td>\n",
              "      <td>82609</td>\n",
              "      <td>173</td>\n",
              "      <td>182</td>\n",
              "      <td>211</td>\n",
              "      <td>82256</td>\n",
              "      <td>79733</td>\n",
              "      <td>87854</td>\n",
              "      <td>130000</td>\n",
              "      <td>37000</td>\n",
              "      <td>52000</td>\n",
              "      <td>17000</td>\n",
              "      <td>8000</td>\n",
              "      <td>3000</td>\n",
              "      <td>13000</td>\n",
              "      <td>East of England</td>\n",
              "      <td>unitary_authority</td>\n",
              "    </tr>\n",
              "    <tr>\n",
              "      <th>...</th>\n",
              "      <td>...</td>\n",
              "      <td>...</td>\n",
              "      <td>...</td>\n",
              "      <td>...</td>\n",
              "      <td>...</td>\n",
              "      <td>...</td>\n",
              "      <td>...</td>\n",
              "      <td>...</td>\n",
              "      <td>...</td>\n",
              "      <td>...</td>\n",
              "      <td>...</td>\n",
              "      <td>...</td>\n",
              "      <td>...</td>\n",
              "      <td>...</td>\n",
              "      <td>...</td>\n",
              "      <td>...</td>\n",
              "      <td>...</td>\n",
              "      <td>...</td>\n",
              "      <td>...</td>\n",
              "      <td>...</td>\n",
              "      <td>...</td>\n",
              "      <td>...</td>\n",
              "      <td>...</td>\n",
              "      <td>...</td>\n",
              "      <td>...</td>\n",
              "      <td>...</td>\n",
              "      <td>...</td>\n",
              "      <td>...</td>\n",
              "    </tr>\n",
              "    <tr>\n",
              "      <th>147</th>\n",
              "      <td>Wirral</td>\n",
              "      <td>2560</td>\n",
              "      <td>2652</td>\n",
              "      <td>2987</td>\n",
              "      <td>310630</td>\n",
              "      <td>312142</td>\n",
              "      <td>342200</td>\n",
              "      <td>965</td>\n",
              "      <td>1044</td>\n",
              "      <td>1103</td>\n",
              "      <td>153296</td>\n",
              "      <td>152969</td>\n",
              "      <td>167467</td>\n",
              "      <td>1595</td>\n",
              "      <td>1608</td>\n",
              "      <td>1884</td>\n",
              "      <td>157334</td>\n",
              "      <td>159173</td>\n",
              "      <td>174733</td>\n",
              "      <td>209000</td>\n",
              "      <td>69000</td>\n",
              "      <td>47000</td>\n",
              "      <td>30000</td>\n",
              "      <td>41000</td>\n",
              "      <td>14000</td>\n",
              "      <td>8000</td>\n",
              "      <td>North West</td>\n",
              "      <td>metropolitan_borough</td>\n",
              "    </tr>\n",
              "    <tr>\n",
              "      <th>148</th>\n",
              "      <td>Wokingham</td>\n",
              "      <td>119</td>\n",
              "      <td>146</td>\n",
              "      <td>169</td>\n",
              "      <td>160803</td>\n",
              "      <td>165785</td>\n",
              "      <td>166687</td>\n",
              "      <td>50</td>\n",
              "      <td>70</td>\n",
              "      <td>67</td>\n",
              "      <td>78263</td>\n",
              "      <td>85007</td>\n",
              "      <td>80477</td>\n",
              "      <td>69</td>\n",
              "      <td>76</td>\n",
              "      <td>102</td>\n",
              "      <td>82540</td>\n",
              "      <td>80778</td>\n",
              "      <td>86210</td>\n",
              "      <td>109000</td>\n",
              "      <td>20000</td>\n",
              "      <td>41000</td>\n",
              "      <td>13000</td>\n",
              "      <td>19000</td>\n",
              "      <td>10000</td>\n",
              "      <td>6000</td>\n",
              "      <td>South East</td>\n",
              "      <td>unitary_authority</td>\n",
              "    </tr>\n",
              "    <tr>\n",
              "      <th>149</th>\n",
              "      <td>Wolverhampton</td>\n",
              "      <td>1442</td>\n",
              "      <td>1571</td>\n",
              "      <td>1728</td>\n",
              "      <td>239744</td>\n",
              "      <td>252117</td>\n",
              "      <td>264037</td>\n",
              "      <td>416</td>\n",
              "      <td>433</td>\n",
              "      <td>492</td>\n",
              "      <td>116300</td>\n",
              "      <td>116700</td>\n",
              "      <td>123433</td>\n",
              "      <td>1026</td>\n",
              "      <td>1138</td>\n",
              "      <td>1236</td>\n",
              "      <td>123444</td>\n",
              "      <td>135417</td>\n",
              "      <td>140604</td>\n",
              "      <td>201000</td>\n",
              "      <td>18000</td>\n",
              "      <td>27000</td>\n",
              "      <td>23000</td>\n",
              "      <td>55000</td>\n",
              "      <td>50000</td>\n",
              "      <td>28000</td>\n",
              "      <td>West Midlands</td>\n",
              "      <td>metropolitan_borough</td>\n",
              "    </tr>\n",
              "    <tr>\n",
              "      <th>150</th>\n",
              "      <td>Worcestershire</td>\n",
              "      <td>2718</td>\n",
              "      <td>3061</td>\n",
              "      <td>3237</td>\n",
              "      <td>559135</td>\n",
              "      <td>605974</td>\n",
              "      <td>636832</td>\n",
              "      <td>978</td>\n",
              "      <td>1068</td>\n",
              "      <td>1204</td>\n",
              "      <td>271013</td>\n",
              "      <td>289438</td>\n",
              "      <td>318871</td>\n",
              "      <td>1740</td>\n",
              "      <td>1993</td>\n",
              "      <td>2033</td>\n",
              "      <td>288122</td>\n",
              "      <td>316536</td>\n",
              "      <td>317961</td>\n",
              "      <td>470000</td>\n",
              "      <td>128000</td>\n",
              "      <td>112000</td>\n",
              "      <td>57000</td>\n",
              "      <td>76000</td>\n",
              "      <td>67000</td>\n",
              "      <td>30000</td>\n",
              "      <td>West Midlands</td>\n",
              "      <td>non_metropolitan_county</td>\n",
              "    </tr>\n",
              "    <tr>\n",
              "      <th>151</th>\n",
              "      <td>York</td>\n",
              "      <td>1170</td>\n",
              "      <td>1266</td>\n",
              "      <td>1414</td>\n",
              "      <td>196246</td>\n",
              "      <td>202851</td>\n",
              "      <td>212083</td>\n",
              "      <td>450</td>\n",
              "      <td>463</td>\n",
              "      <td>518</td>\n",
              "      <td>96239</td>\n",
              "      <td>94507</td>\n",
              "      <td>97416</td>\n",
              "      <td>720</td>\n",
              "      <td>803</td>\n",
              "      <td>896</td>\n",
              "      <td>100007</td>\n",
              "      <td>108344</td>\n",
              "      <td>114667</td>\n",
              "      <td>140000</td>\n",
              "      <td>5000</td>\n",
              "      <td>39000</td>\n",
              "      <td>8000</td>\n",
              "      <td>32000</td>\n",
              "      <td>37000</td>\n",
              "      <td>19000</td>\n",
              "      <td>Yorkshire and the Humber</td>\n",
              "      <td>unitary_authority</td>\n",
              "    </tr>\n",
              "  </tbody>\n",
              "</table>\n",
              "<p>150 rows × 28 columns</p>\n",
              "</div>"
            ],
            "text/plain": [
              "             local_authority_area  ...     local_authority_type\n",
              "0            Barking and Dagenham  ...           london_borough\n",
              "1                          Barnet  ...           london_borough\n",
              "2                        Barnsley  ...     metropolitan_borough\n",
              "3    Bath and North East Somerset  ...        unitary_authority\n",
              "4                         Bedford  ...        unitary_authority\n",
              "..                            ...  ...                      ...\n",
              "147                        Wirral  ...     metropolitan_borough\n",
              "148                     Wokingham  ...        unitary_authority\n",
              "149                 Wolverhampton  ...     metropolitan_borough\n",
              "150                Worcestershire  ...  non_metropolitan_county\n",
              "151                          York  ...        unitary_authority\n",
              "\n",
              "[150 rows x 28 columns]"
            ]
          },
          "metadata": {},
          "execution_count": 239
        }
      ]
    },
    {
      "cell_type": "markdown",
      "metadata": {
        "id": "DplWVCfjuop3"
      },
      "source": [
        "#####Add Features"
      ]
    },
    {
      "cell_type": "code",
      "metadata": {
        "id": "hZTfx64Ruvs-"
      },
      "source": [
        "#3次统计的平均值\n",
        "summary['avg_pop'] = (summary['2008_pop_total'] + summary['2013_pop_total'] + summary['2018_pop_total'])/3"
      ],
      "execution_count": 240,
      "outputs": []
    },
    {
      "cell_type": "code",
      "metadata": {
        "id": "0uiBtbtivSw8"
      },
      "source": [
        "#人均财政支出\n",
        "summary['budget_per_pop'] = summary['total_budget']/summary['avg_pop']"
      ],
      "execution_count": 241,
      "outputs": []
    },
    {
      "cell_type": "code",
      "metadata": {
        "id": "z-Yn6z9GwTUU"
      },
      "source": [
        "#各个财政项占比\n",
        "#summary['clean_air_prop'] = summary['clean_air']/summary['total_budget']\n",
        "#summary['clean_environ_prop'] = summary['clean_environ']/summary['total_budget']\n",
        "#summary['health_training_prop'] = summary['health_training']/summary['total_budget']\n",
        "#summary['school_awareness_prop'] = summary['school_awareness']/summary['total_budget']\n",
        "#summary['media_awareness_prop'] = summary['media_awareness']/summary['total_budget']\n",
        "#summary['sub_counselling_prop'] = summary['sub_counselling']/summary['total_budget']"
      ],
      "execution_count": 242,
      "outputs": []
    },
    {
      "cell_type": "code",
      "metadata": {
        "id": "rMTw53A2KHmD"
      },
      "source": [
        "#各个财政与人口\n",
        "summary['clean_air_per_pop'] = summary['clean_air']/summary['avg_pop']\n",
        "summary['clean_environ_per_pop'] = summary['clean_environ']/summary['avg_pop']\n",
        "summary['health_training_per_pop'] = summary['health_training']/summary['avg_pop']\n",
        "summary['school_awareness_per_pop'] = summary['school_awareness']/summary['avg_pop']\n",
        "summary['media_awareness_per_pop'] = summary['media_awareness']/summary['avg_pop']\n",
        "summary['sub_counselling_per_pop'] = summary['sub_counselling']/summary['avg_pop']"
      ],
      "execution_count": 243,
      "outputs": []
    },
    {
      "cell_type": "code",
      "metadata": {
        "id": "YBixtMfPI_lL"
      },
      "source": [
        "#男女分别增长\n",
        "summary['male_growth'] = ((summary['2018_cases_male']/summary['2018_pop_male'])-summary['2008_cases_male']/summary['2008_pop_male'])/(summary['2008_cases_male']/summary['2008_pop_male'])\n",
        "summary['female_growth'] = ((summary['2018_cases_female']/summary['2018_pop_female'])-summary['2008_cases_female']/summary['2008_pop_female'])/(summary['2008_cases_female']/summary['2008_pop_female'])"
      ],
      "execution_count": 244,
      "outputs": []
    },
    {
      "cell_type": "code",
      "metadata": {
        "id": "bKRTfk0I263o"
      },
      "source": [
        "#分类数据转化\n",
        "summary['region'] = pd.get_dummies(summary['region'])\n",
        "summary['local_authority_type'] = pd.get_dummies(summary['local_authority_type'])"
      ],
      "execution_count": 245,
      "outputs": []
    },
    {
      "cell_type": "code",
      "metadata": {
        "id": "SglScNbB0i2w"
      },
      "source": [
        "summary.drop(list(summary)[1:26],axis=1,inplace=True)"
      ],
      "execution_count": 246,
      "outputs": []
    },
    {
      "cell_type": "code",
      "metadata": {
        "colab": {
          "base_uri": "https://localhost:8080/",
          "height": 456
        },
        "id": "0vEgN37MHqxm",
        "outputId": "5c2f6c96-9eab-4b04-fb64-5650d9dffce2"
      },
      "source": [
        "#10年内增长率\n",
        "summary_growth = pd.merge(summary_growth, summary, on=['local_authority_area'], how='left')\n",
        "summary_growth"
      ],
      "execution_count": 247,
      "outputs": [
        {
          "output_type": "execute_result",
          "data": {
            "text/html": [
              "<div>\n",
              "<style scoped>\n",
              "    .dataframe tbody tr th:only-of-type {\n",
              "        vertical-align: middle;\n",
              "    }\n",
              "\n",
              "    .dataframe tbody tr th {\n",
              "        vertical-align: top;\n",
              "    }\n",
              "\n",
              "    .dataframe thead th {\n",
              "        text-align: right;\n",
              "    }\n",
              "</style>\n",
              "<table border=\"1\" class=\"dataframe\">\n",
              "  <thead>\n",
              "    <tr style=\"text-align: right;\">\n",
              "      <th></th>\n",
              "      <th>local_authority_area</th>\n",
              "      <th>total_case_growth_rate_2008_2018</th>\n",
              "      <th>region</th>\n",
              "      <th>local_authority_type</th>\n",
              "      <th>avg_pop</th>\n",
              "      <th>budget_per_pop</th>\n",
              "      <th>clean_air_per_pop</th>\n",
              "      <th>clean_environ_per_pop</th>\n",
              "      <th>health_training_per_pop</th>\n",
              "      <th>school_awareness_per_pop</th>\n",
              "      <th>media_awareness_per_pop</th>\n",
              "      <th>sub_counselling_per_pop</th>\n",
              "      <th>male_growth</th>\n",
              "      <th>female_growth</th>\n",
              "    </tr>\n",
              "  </thead>\n",
              "  <tbody>\n",
              "    <tr>\n",
              "      <th>0</th>\n",
              "      <td>Barking and Dagenham</td>\n",
              "      <td>0.286678</td>\n",
              "      <td>0</td>\n",
              "      <td>1</td>\n",
              "      <td>177831.000000</td>\n",
              "      <td>0.781641</td>\n",
              "      <td>0.118090</td>\n",
              "      <td>0.123713</td>\n",
              "      <td>0.101220</td>\n",
              "      <td>0.230556</td>\n",
              "      <td>0.101220</td>\n",
              "      <td>0.106843</td>\n",
              "      <td>0.323112</td>\n",
              "      <td>0.123063</td>\n",
              "    </tr>\n",
              "    <tr>\n",
              "      <th>1</th>\n",
              "      <td>Barnet</td>\n",
              "      <td>0.434137</td>\n",
              "      <td>0</td>\n",
              "      <td>1</td>\n",
              "      <td>346817.333333</td>\n",
              "      <td>0.634340</td>\n",
              "      <td>0.144168</td>\n",
              "      <td>0.049017</td>\n",
              "      <td>0.066317</td>\n",
              "      <td>0.213369</td>\n",
              "      <td>0.086501</td>\n",
              "      <td>0.074967</td>\n",
              "      <td>0.439437</td>\n",
              "      <td>0.298156</td>\n",
              "    </tr>\n",
              "    <tr>\n",
              "      <th>2</th>\n",
              "      <td>Barnsley</td>\n",
              "      <td>0.463889</td>\n",
              "      <td>0</td>\n",
              "      <td>0</td>\n",
              "      <td>242882.666667</td>\n",
              "      <td>0.658754</td>\n",
              "      <td>0.168806</td>\n",
              "      <td>0.185275</td>\n",
              "      <td>0.020586</td>\n",
              "      <td>0.107048</td>\n",
              "      <td>0.119399</td>\n",
              "      <td>0.057641</td>\n",
              "      <td>0.244482</td>\n",
              "      <td>0.321657</td>\n",
              "    </tr>\n",
              "    <tr>\n",
              "      <th>3</th>\n",
              "      <td>Bath and North East Somerset</td>\n",
              "      <td>0.083333</td>\n",
              "      <td>0</td>\n",
              "      <td>0</td>\n",
              "      <td>180311.333333</td>\n",
              "      <td>0.892900</td>\n",
              "      <td>0.183017</td>\n",
              "      <td>0.232930</td>\n",
              "      <td>0.105373</td>\n",
              "      <td>0.277298</td>\n",
              "      <td>0.055460</td>\n",
              "      <td>0.038822</td>\n",
              "      <td>-0.048612</td>\n",
              "      <td>0.051833</td>\n",
              "    </tr>\n",
              "    <tr>\n",
              "      <th>4</th>\n",
              "      <td>Bedford</td>\n",
              "      <td>0.180064</td>\n",
              "      <td>0</td>\n",
              "      <td>0</td>\n",
              "      <td>164485.000000</td>\n",
              "      <td>0.790346</td>\n",
              "      <td>0.224945</td>\n",
              "      <td>0.316138</td>\n",
              "      <td>0.103353</td>\n",
              "      <td>0.048637</td>\n",
              "      <td>0.018239</td>\n",
              "      <td>0.079035</td>\n",
              "      <td>0.039025</td>\n",
              "      <td>0.141938</td>\n",
              "    </tr>\n",
              "    <tr>\n",
              "      <th>...</th>\n",
              "      <td>...</td>\n",
              "      <td>...</td>\n",
              "      <td>...</td>\n",
              "      <td>...</td>\n",
              "      <td>...</td>\n",
              "      <td>...</td>\n",
              "      <td>...</td>\n",
              "      <td>...</td>\n",
              "      <td>...</td>\n",
              "      <td>...</td>\n",
              "      <td>...</td>\n",
              "      <td>...</td>\n",
              "      <td>...</td>\n",
              "      <td>...</td>\n",
              "    </tr>\n",
              "    <tr>\n",
              "      <th>145</th>\n",
              "      <td>Wirral</td>\n",
              "      <td>0.166797</td>\n",
              "      <td>0</td>\n",
              "      <td>0</td>\n",
              "      <td>321657.333333</td>\n",
              "      <td>0.649760</td>\n",
              "      <td>0.214514</td>\n",
              "      <td>0.146118</td>\n",
              "      <td>0.093267</td>\n",
              "      <td>0.127465</td>\n",
              "      <td>0.043525</td>\n",
              "      <td>0.024871</td>\n",
              "      <td>0.046284</td>\n",
              "      <td>0.063574</td>\n",
              "    </tr>\n",
              "    <tr>\n",
              "      <th>146</th>\n",
              "      <td>Wokingham</td>\n",
              "      <td>0.420168</td>\n",
              "      <td>0</td>\n",
              "      <td>0</td>\n",
              "      <td>164425.000000</td>\n",
              "      <td>0.662916</td>\n",
              "      <td>0.121636</td>\n",
              "      <td>0.249354</td>\n",
              "      <td>0.079063</td>\n",
              "      <td>0.115554</td>\n",
              "      <td>0.060818</td>\n",
              "      <td>0.036491</td>\n",
              "      <td>0.303135</td>\n",
              "      <td>0.415331</td>\n",
              "    </tr>\n",
              "    <tr>\n",
              "      <th>147</th>\n",
              "      <td>Wolverhampton</td>\n",
              "      <td>0.198336</td>\n",
              "      <td>0</td>\n",
              "      <td>0</td>\n",
              "      <td>251966.000000</td>\n",
              "      <td>0.797727</td>\n",
              "      <td>0.071438</td>\n",
              "      <td>0.107157</td>\n",
              "      <td>0.091282</td>\n",
              "      <td>0.218283</td>\n",
              "      <td>0.198439</td>\n",
              "      <td>0.111126</td>\n",
              "      <td>0.114346</td>\n",
              "      <td>0.057654</td>\n",
              "    </tr>\n",
              "    <tr>\n",
              "      <th>148</th>\n",
              "      <td>Worcestershire</td>\n",
              "      <td>0.190949</td>\n",
              "      <td>0</td>\n",
              "      <td>0</td>\n",
              "      <td>600647.000000</td>\n",
              "      <td>0.782490</td>\n",
              "      <td>0.213104</td>\n",
              "      <td>0.186466</td>\n",
              "      <td>0.094898</td>\n",
              "      <td>0.126530</td>\n",
              "      <td>0.111546</td>\n",
              "      <td>0.049946</td>\n",
              "      <td>0.046316</td>\n",
              "      <td>0.058743</td>\n",
              "    </tr>\n",
              "    <tr>\n",
              "      <th>149</th>\n",
              "      <td>York</td>\n",
              "      <td>0.208547</td>\n",
              "      <td>0</td>\n",
              "      <td>0</td>\n",
              "      <td>203726.666667</td>\n",
              "      <td>0.687195</td>\n",
              "      <td>0.024543</td>\n",
              "      <td>0.191433</td>\n",
              "      <td>0.039268</td>\n",
              "      <td>0.157073</td>\n",
              "      <td>0.181616</td>\n",
              "      <td>0.093262</td>\n",
              "      <td>0.137203</td>\n",
              "      <td>0.085344</td>\n",
              "    </tr>\n",
              "  </tbody>\n",
              "</table>\n",
              "<p>150 rows × 14 columns</p>\n",
              "</div>"
            ],
            "text/plain": [
              "             local_authority_area  ...  female_growth\n",
              "0            Barking and Dagenham  ...       0.123063\n",
              "1                          Barnet  ...       0.298156\n",
              "2                        Barnsley  ...       0.321657\n",
              "3    Bath and North East Somerset  ...       0.051833\n",
              "4                         Bedford  ...       0.141938\n",
              "..                            ...  ...            ...\n",
              "145                        Wirral  ...       0.063574\n",
              "146                     Wokingham  ...       0.415331\n",
              "147                 Wolverhampton  ...       0.057654\n",
              "148                Worcestershire  ...       0.058743\n",
              "149                          York  ...       0.085344\n",
              "\n",
              "[150 rows x 14 columns]"
            ]
          },
          "metadata": {},
          "execution_count": 247
        }
      ]
    },
    {
      "cell_type": "code",
      "metadata": {
        "colab": {
          "base_uri": "https://localhost:8080/",
          "height": 456
        },
        "id": "caQ6AHKlHrhD",
        "outputId": "85452dcd-ed08-41e6-95b6-74373c225818"
      },
      "source": [
        "#10年内人口发病率\n",
        "summary_pop = pd.merge(summary_pop, summary, on=['local_authority_area'], how='left')\n",
        "summary_pop"
      ],
      "execution_count": 248,
      "outputs": [
        {
          "output_type": "execute_result",
          "data": {
            "text/html": [
              "<div>\n",
              "<style scoped>\n",
              "    .dataframe tbody tr th:only-of-type {\n",
              "        vertical-align: middle;\n",
              "    }\n",
              "\n",
              "    .dataframe tbody tr th {\n",
              "        vertical-align: top;\n",
              "    }\n",
              "\n",
              "    .dataframe thead th {\n",
              "        text-align: right;\n",
              "    }\n",
              "</style>\n",
              "<table border=\"1\" class=\"dataframe\">\n",
              "  <thead>\n",
              "    <tr style=\"text-align: right;\">\n",
              "      <th></th>\n",
              "      <th>local_authority_area</th>\n",
              "      <th>total_case_pop_rate_2008_2018</th>\n",
              "      <th>region</th>\n",
              "      <th>local_authority_type</th>\n",
              "      <th>avg_pop</th>\n",
              "      <th>budget_per_pop</th>\n",
              "      <th>clean_air_per_pop</th>\n",
              "      <th>clean_environ_per_pop</th>\n",
              "      <th>health_training_per_pop</th>\n",
              "      <th>school_awareness_per_pop</th>\n",
              "      <th>media_awareness_per_pop</th>\n",
              "      <th>sub_counselling_per_pop</th>\n",
              "      <th>male_growth</th>\n",
              "      <th>female_growth</th>\n",
              "    </tr>\n",
              "  </thead>\n",
              "  <tbody>\n",
              "    <tr>\n",
              "      <th>0</th>\n",
              "      <td>Barking and Dagenham</td>\n",
              "      <td>0.222301</td>\n",
              "      <td>0</td>\n",
              "      <td>1</td>\n",
              "      <td>177831.000000</td>\n",
              "      <td>0.781641</td>\n",
              "      <td>0.118090</td>\n",
              "      <td>0.123713</td>\n",
              "      <td>0.101220</td>\n",
              "      <td>0.230556</td>\n",
              "      <td>0.101220</td>\n",
              "      <td>0.106843</td>\n",
              "      <td>0.323112</td>\n",
              "      <td>0.123063</td>\n",
              "    </tr>\n",
              "    <tr>\n",
              "      <th>1</th>\n",
              "      <td>Barnet</td>\n",
              "      <td>0.371607</td>\n",
              "      <td>0</td>\n",
              "      <td>1</td>\n",
              "      <td>346817.333333</td>\n",
              "      <td>0.634340</td>\n",
              "      <td>0.144168</td>\n",
              "      <td>0.049017</td>\n",
              "      <td>0.066317</td>\n",
              "      <td>0.213369</td>\n",
              "      <td>0.086501</td>\n",
              "      <td>0.074967</td>\n",
              "      <td>0.439437</td>\n",
              "      <td>0.298156</td>\n",
              "    </tr>\n",
              "    <tr>\n",
              "      <th>2</th>\n",
              "      <td>Barnsley</td>\n",
              "      <td>0.287189</td>\n",
              "      <td>0</td>\n",
              "      <td>0</td>\n",
              "      <td>242882.666667</td>\n",
              "      <td>0.658754</td>\n",
              "      <td>0.168806</td>\n",
              "      <td>0.185275</td>\n",
              "      <td>0.020586</td>\n",
              "      <td>0.107048</td>\n",
              "      <td>0.119399</td>\n",
              "      <td>0.057641</td>\n",
              "      <td>0.244482</td>\n",
              "      <td>0.321657</td>\n",
              "    </tr>\n",
              "    <tr>\n",
              "      <th>3</th>\n",
              "      <td>Bath and North East Somerset</td>\n",
              "      <td>0.022058</td>\n",
              "      <td>0</td>\n",
              "      <td>0</td>\n",
              "      <td>180311.333333</td>\n",
              "      <td>0.892900</td>\n",
              "      <td>0.183017</td>\n",
              "      <td>0.232930</td>\n",
              "      <td>0.105373</td>\n",
              "      <td>0.277298</td>\n",
              "      <td>0.055460</td>\n",
              "      <td>0.038822</td>\n",
              "      <td>-0.048612</td>\n",
              "      <td>0.051833</td>\n",
              "    </tr>\n",
              "    <tr>\n",
              "      <th>4</th>\n",
              "      <td>Bedford</td>\n",
              "      <td>0.095067</td>\n",
              "      <td>0</td>\n",
              "      <td>0</td>\n",
              "      <td>164485.000000</td>\n",
              "      <td>0.790346</td>\n",
              "      <td>0.224945</td>\n",
              "      <td>0.316138</td>\n",
              "      <td>0.103353</td>\n",
              "      <td>0.048637</td>\n",
              "      <td>0.018239</td>\n",
              "      <td>0.079035</td>\n",
              "      <td>0.039025</td>\n",
              "      <td>0.141938</td>\n",
              "    </tr>\n",
              "    <tr>\n",
              "      <th>...</th>\n",
              "      <td>...</td>\n",
              "      <td>...</td>\n",
              "      <td>...</td>\n",
              "      <td>...</td>\n",
              "      <td>...</td>\n",
              "      <td>...</td>\n",
              "      <td>...</td>\n",
              "      <td>...</td>\n",
              "      <td>...</td>\n",
              "      <td>...</td>\n",
              "      <td>...</td>\n",
              "      <td>...</td>\n",
              "      <td>...</td>\n",
              "      <td>...</td>\n",
              "    </tr>\n",
              "    <tr>\n",
              "      <th>145</th>\n",
              "      <td>Wirral</td>\n",
              "      <td>0.059153</td>\n",
              "      <td>0</td>\n",
              "      <td>0</td>\n",
              "      <td>321657.333333</td>\n",
              "      <td>0.649760</td>\n",
              "      <td>0.214514</td>\n",
              "      <td>0.146118</td>\n",
              "      <td>0.093267</td>\n",
              "      <td>0.127465</td>\n",
              "      <td>0.043525</td>\n",
              "      <td>0.024871</td>\n",
              "      <td>0.046284</td>\n",
              "      <td>0.063574</td>\n",
              "    </tr>\n",
              "    <tr>\n",
              "      <th>146</th>\n",
              "      <td>Wokingham</td>\n",
              "      <td>0.370037</td>\n",
              "      <td>0</td>\n",
              "      <td>0</td>\n",
              "      <td>164425.000000</td>\n",
              "      <td>0.662916</td>\n",
              "      <td>0.121636</td>\n",
              "      <td>0.249354</td>\n",
              "      <td>0.079063</td>\n",
              "      <td>0.115554</td>\n",
              "      <td>0.060818</td>\n",
              "      <td>0.036491</td>\n",
              "      <td>0.303135</td>\n",
              "      <td>0.415331</td>\n",
              "    </tr>\n",
              "    <tr>\n",
              "      <th>147</th>\n",
              "      <td>Wolverhampton</td>\n",
              "      <td>0.088082</td>\n",
              "      <td>0</td>\n",
              "      <td>0</td>\n",
              "      <td>251966.000000</td>\n",
              "      <td>0.797727</td>\n",
              "      <td>0.071438</td>\n",
              "      <td>0.107157</td>\n",
              "      <td>0.091282</td>\n",
              "      <td>0.218283</td>\n",
              "      <td>0.198439</td>\n",
              "      <td>0.111126</td>\n",
              "      <td>0.114346</td>\n",
              "      <td>0.057654</td>\n",
              "    </tr>\n",
              "    <tr>\n",
              "      <th>148</th>\n",
              "      <td>Worcestershire</td>\n",
              "      <td>0.045647</td>\n",
              "      <td>0</td>\n",
              "      <td>0</td>\n",
              "      <td>600647.000000</td>\n",
              "      <td>0.782490</td>\n",
              "      <td>0.213104</td>\n",
              "      <td>0.186466</td>\n",
              "      <td>0.094898</td>\n",
              "      <td>0.126530</td>\n",
              "      <td>0.111546</td>\n",
              "      <td>0.049946</td>\n",
              "      <td>0.046316</td>\n",
              "      <td>0.058743</td>\n",
              "    </tr>\n",
              "    <tr>\n",
              "      <th>149</th>\n",
              "      <td>York</td>\n",
              "      <td>0.118300</td>\n",
              "      <td>0</td>\n",
              "      <td>0</td>\n",
              "      <td>203726.666667</td>\n",
              "      <td>0.687195</td>\n",
              "      <td>0.024543</td>\n",
              "      <td>0.191433</td>\n",
              "      <td>0.039268</td>\n",
              "      <td>0.157073</td>\n",
              "      <td>0.181616</td>\n",
              "      <td>0.093262</td>\n",
              "      <td>0.137203</td>\n",
              "      <td>0.085344</td>\n",
              "    </tr>\n",
              "  </tbody>\n",
              "</table>\n",
              "<p>150 rows × 14 columns</p>\n",
              "</div>"
            ],
            "text/plain": [
              "             local_authority_area  ...  female_growth\n",
              "0            Barking and Dagenham  ...       0.123063\n",
              "1                          Barnet  ...       0.298156\n",
              "2                        Barnsley  ...       0.321657\n",
              "3    Bath and North East Somerset  ...       0.051833\n",
              "4                         Bedford  ...       0.141938\n",
              "..                            ...  ...            ...\n",
              "145                        Wirral  ...       0.063574\n",
              "146                     Wokingham  ...       0.415331\n",
              "147                 Wolverhampton  ...       0.057654\n",
              "148                Worcestershire  ...       0.058743\n",
              "149                          York  ...       0.085344\n",
              "\n",
              "[150 rows x 14 columns]"
            ]
          },
          "metadata": {},
          "execution_count": 248
        }
      ]
    },
    {
      "cell_type": "markdown",
      "metadata": {
        "id": "Ts6gAAz_HrxU"
      },
      "source": [
        "####Data Cleaning"
      ]
    },
    {
      "cell_type": "code",
      "metadata": {
        "id": "sGHWw-0LXYQ4"
      },
      "source": [
        "summary_growth= summary_growth[(summary_growth[\"total_case_growth_rate_2008_2018\"] < np.percentile(summary_growth[\"total_case_growth_rate_2008_2018\"], q = 95))]"
      ],
      "execution_count": 249,
      "outputs": []
    },
    {
      "cell_type": "code",
      "metadata": {
        "id": "_Pp66S_H3zkg"
      },
      "source": [
        "#summary_growth= summary_growth[(summary_growth[\"total_case_growth_rate_2008_2018\"] < np.percentile(summary_growth[\"total_case_growth_rate_2008_2018\"], q = 95)) & (summary_growth[\"total_case_growth_rate_2008_2018\"] > np.percentile(summary_growth[\"total_case_growth_rate_2008_2018\"], q = 1))]"
      ],
      "execution_count": 250,
      "outputs": []
    },
    {
      "cell_type": "code",
      "metadata": {
        "id": "O5s_PKRL39Ql"
      },
      "source": [
        "summary_pop= summary_pop[(summary_pop[\"total_case_pop_rate_2008_2018\"] < np.percentile(summary_pop[\"total_case_pop_rate_2008_2018\"], q = 99)) & (summary_pop[\"total_case_pop_rate_2008_2018\"] > np.percentile(summary_pop[\"total_case_pop_rate_2008_2018\"], q = 1))]"
      ],
      "execution_count": 251,
      "outputs": []
    },
    {
      "cell_type": "markdown",
      "metadata": {
        "id": "oAEVvANFHyQh"
      },
      "source": [
        "####Heat-Map"
      ]
    },
    {
      "cell_type": "code",
      "metadata": {
        "colab": {
          "base_uri": "https://localhost:8080/",
          "height": 729
        },
        "id": "ZvQPNPcdzpwN",
        "outputId": "c0fc25ff-ab76-46d5-c8bd-a8537a77221f"
      },
      "source": [
        "#correlation matrix\n",
        "corr = summary_growth.corr()\n",
        "f, ax = plt.subplots(figsize=(12, 9))\n",
        "#sns.heatmap(corr, vmax=.8, square=True);\n",
        "\n",
        "k= 18\n",
        "cols = corr.nlargest(k, 'total_case_growth_rate_2008_2018')['total_case_growth_rate_2008_2018'].index\n",
        "heat = np.corrcoef(summary_growth[cols].values.T)\n",
        "sns.set(font_scale=1.0)\n",
        "hm = sns.heatmap(heat, cbar=True, annot=True, square=True, fmt='.2f', annot_kws={'size': 10}, yticklabels=cols.values, xticklabels=cols.values)\n",
        "plt.show()"
      ],
      "execution_count": 254,
      "outputs": [
        {
          "output_type": "display_data",
          "data": {
            "image/png": "[encoded data removed]",
            "text/plain": [
              "<Figure size 864x648 with 2 Axes>"
            ]
          },
          "metadata": {}
        }
      ]
    },
    {
      "cell_type": "code",
      "metadata": {
        "colab": {
          "base_uri": "https://localhost:8080/",
          "height": 711
        },
        "id": "r0BlDTiMI-GB",
        "outputId": "c231b8f8-628a-4a05-edf0-f14940a91645"
      },
      "source": [
        "#correlation matrix\n",
        "corr = summary_pop.corr()\n",
        "f, ax = plt.subplots(figsize=(12, 9))\n",
        "#sns.heatmap(corr, vmax=.8, square=True);\n",
        "\n",
        "k= 18\n",
        "cols = corr.nlargest(k, 'total_case_pop_rate_2008_2018')['total_case_pop_rate_2008_2018'].index\n",
        "heat = np.corrcoef(summary_pop[cols].values.T)\n",
        "sns.set(font_scale=1.0)\n",
        "hm = sns.heatmap(heat, cbar=True, annot=True, square=True, fmt='.2f', annot_kws={'size': 10}, yticklabels=cols.values, xticklabels=cols.values)\n",
        "plt.show()"
      ],
      "execution_count": 255,
      "outputs": [
        {
          "output_type": "display_data",
          "data": {
            "image/png": "[encoded data removed]",
            "text/plain": [
              "<Figure size 864x648 with 2 Axes>"
            ]
          },
          "metadata": {}
        }
      ]
    },
    {
      "cell_type": "markdown",
      "metadata": {
        "id": "q2iDSJeXakM8"
      },
      "source": [
        "####VIF"
      ]
    },
    {
      "cell_type": "code",
      "metadata": {
        "id": "dB1aPqTCtrjL"
      },
      "source": [
        "# calculating VIF\n",
        "# This function is adjusted from: https://stackoverflow.com/a/51329496/4667568\n",
        "def variance_inflation_factors(exog_df):\n",
        "    '''\n",
        "    Parameters\n",
        "    ----------\n",
        "    exog_df : dataframe, (nobs, k_vars)\n",
        "        design matrix with all explanatory variables, as for example used in\n",
        "        regression.\n",
        "\n",
        "    Returns\n",
        "    -------\n",
        "    vif : Series\n",
        "        variance inflation factors\n",
        "    '''\n",
        "    exog_df = add_constant(exog_df)\n",
        "    vifs = pd.Series(\n",
        "        [1 / (1. - OLS(exog_df[col].values, \n",
        "                       exog_df.loc[:, exog_df.columns != col].values).fit().rsquared) \n",
        "         for col in exog_df],\n",
        "        index=exog_df.columns,\n",
        "        name='VIF'\n",
        "    )\n",
        "    return vifs"
      ],
      "execution_count": 256,
      "outputs": []
    },
    {
      "cell_type": "code",
      "metadata": {
        "id": "dcO55CsLuFev"
      },
      "source": [
        "summary_pop = summary_pop.drop(columns = 'local_authority_area')\n",
        "summary_growth = summary_growth.drop(columns = 'local_authority_area')"
      ],
      "execution_count": 257,
      "outputs": []
    },
    {
      "cell_type": "code",
      "metadata": {
        "colab": {
          "base_uri": "https://localhost:8080/"
        },
        "id": "p7Q4ffdUtwqo",
        "outputId": "4f58d971-2fc3-4073-d57c-4e8750b86b94"
      },
      "source": [
        "variance_inflation_factors(summary_growth.drop(columns='total_case_growth_rate_2008_2018',axis=1))"
      ],
      "execution_count": 258,
      "outputs": [
        {
          "output_type": "stream",
          "name": "stderr",
          "text": [
            "/usr/local/lib/python3.7/dist-packages/ipykernel_launcher.py:20: RuntimeWarning:\n",
            "\n",
            "divide by zero encountered in double_scalars\n",
            "\n"
          ]
        },
        {
          "output_type": "execute_result",
          "data": {
            "text/plain": [
              "const                       106.560743\n",
              "region                        1.200701\n",
              "local_authority_type          1.921607\n",
              "avg_pop                       1.114169\n",
              "budget_per_pop                     inf\n",
              "clean_air_per_pop                  inf\n",
              "clean_environ_per_pop              inf\n",
              "health_training_per_pop            inf\n",
              "school_awareness_per_pop           inf\n",
              "media_awareness_per_pop            inf\n",
              "sub_counselling_per_pop            inf\n",
              "male_growth                   2.349587\n",
              "female_growth                 2.067882\n",
              "Name: VIF, dtype: float64"
            ]
          },
          "metadata": {},
          "execution_count": 258
        }
      ]
    },
    {
      "cell_type": "markdown",
      "metadata": {
        "id": "QGwQhNWYao-h"
      },
      "source": [
        "##Budget Multiple Regression Analysis"
      ]
    },
    {
      "cell_type": "code",
      "metadata": {
        "id": "aeIzR3IMgBmM"
      },
      "source": [
        "summary_region = summary_growth.copy()"
      ],
      "execution_count": 259,
      "outputs": []
    },
    {
      "cell_type": "code",
      "metadata": {
        "id": "dgWdp48IJLS-"
      },
      "source": [
        "summary_growth = summary_growth.drop(columns = 'region')\n",
        "summary_growth = summary_growth.drop(columns = 'local_authority_type')"
      ],
      "execution_count": 260,
      "outputs": []
    },
    {
      "cell_type": "code",
      "metadata": {
        "id": "Wdqd13CSNrUD"
      },
      "source": [
        "#summary_growth = summary_growth.drop(columns = 'male_growth')\n",
        "#summary_growth = summary_growth.drop(columns = 'female_growth')\n",
        "summary_growth = summary_growth.drop(columns = 'avg_pop')"
      ],
      "execution_count": 261,
      "outputs": []
    },
    {
      "cell_type": "code",
      "metadata": {
        "colab": {
          "base_uri": "https://localhost:8080/",
          "height": 439
        },
        "id": "P2yy2eISj5Qu",
        "outputId": "9a333219-af9d-45ff-e202-a2ee4a7d40de"
      },
      "source": [
        "summary_growth"
      ],
      "execution_count": 262,
      "outputs": [
        {
          "output_type": "execute_result",
          "data": {
            "text/html": [
              "<div>\n",
              "<style scoped>\n",
              "    .dataframe tbody tr th:only-of-type {\n",
              "        vertical-align: middle;\n",
              "    }\n",
              "\n",
              "    .dataframe tbody tr th {\n",
              "        vertical-align: top;\n",
              "    }\n",
              "\n",
              "    .dataframe thead th {\n",
              "        text-align: right;\n",
              "    }\n",
              "</style>\n",
              "<table border=\"1\" class=\"dataframe\">\n",
              "  <thead>\n",
              "    <tr style=\"text-align: right;\">\n",
              "      <th></th>\n",
              "      <th>total_case_growth_rate_2008_2018</th>\n",
              "      <th>budget_per_pop</th>\n",
              "      <th>clean_air_per_pop</th>\n",
              "      <th>clean_environ_per_pop</th>\n",
              "      <th>health_training_per_pop</th>\n",
              "      <th>school_awareness_per_pop</th>\n",
              "      <th>media_awareness_per_pop</th>\n",
              "      <th>sub_counselling_per_pop</th>\n",
              "      <th>male_growth</th>\n",
              "      <th>female_growth</th>\n",
              "    </tr>\n",
              "  </thead>\n",
              "  <tbody>\n",
              "    <tr>\n",
              "      <th>0</th>\n",
              "      <td>0.286678</td>\n",
              "      <td>0.781641</td>\n",
              "      <td>0.118090</td>\n",
              "      <td>0.123713</td>\n",
              "      <td>0.101220</td>\n",
              "      <td>0.230556</td>\n",
              "      <td>0.101220</td>\n",
              "      <td>0.106843</td>\n",
              "      <td>0.323112</td>\n",
              "      <td>0.123063</td>\n",
              "    </tr>\n",
              "    <tr>\n",
              "      <th>1</th>\n",
              "      <td>0.434137</td>\n",
              "      <td>0.634340</td>\n",
              "      <td>0.144168</td>\n",
              "      <td>0.049017</td>\n",
              "      <td>0.066317</td>\n",
              "      <td>0.213369</td>\n",
              "      <td>0.086501</td>\n",
              "      <td>0.074967</td>\n",
              "      <td>0.439437</td>\n",
              "      <td>0.298156</td>\n",
              "    </tr>\n",
              "    <tr>\n",
              "      <th>3</th>\n",
              "      <td>0.083333</td>\n",
              "      <td>0.892900</td>\n",
              "      <td>0.183017</td>\n",
              "      <td>0.232930</td>\n",
              "      <td>0.105373</td>\n",
              "      <td>0.277298</td>\n",
              "      <td>0.055460</td>\n",
              "      <td>0.038822</td>\n",
              "      <td>-0.048612</td>\n",
              "      <td>0.051833</td>\n",
              "    </tr>\n",
              "    <tr>\n",
              "      <th>4</th>\n",
              "      <td>0.180064</td>\n",
              "      <td>0.790346</td>\n",
              "      <td>0.224945</td>\n",
              "      <td>0.316138</td>\n",
              "      <td>0.103353</td>\n",
              "      <td>0.048637</td>\n",
              "      <td>0.018239</td>\n",
              "      <td>0.079035</td>\n",
              "      <td>0.039025</td>\n",
              "      <td>0.141938</td>\n",
              "    </tr>\n",
              "    <tr>\n",
              "      <th>5</th>\n",
              "      <td>0.362235</td>\n",
              "      <td>0.834774</td>\n",
              "      <td>0.302029</td>\n",
              "      <td>0.113261</td>\n",
              "      <td>0.058728</td>\n",
              "      <td>0.268470</td>\n",
              "      <td>0.062923</td>\n",
              "      <td>0.029364</td>\n",
              "      <td>0.238278</td>\n",
              "      <td>0.247640</td>\n",
              "    </tr>\n",
              "    <tr>\n",
              "      <th>...</th>\n",
              "      <td>...</td>\n",
              "      <td>...</td>\n",
              "      <td>...</td>\n",
              "      <td>...</td>\n",
              "      <td>...</td>\n",
              "      <td>...</td>\n",
              "      <td>...</td>\n",
              "      <td>...</td>\n",
              "      <td>...</td>\n",
              "      <td>...</td>\n",
              "    </tr>\n",
              "    <tr>\n",
              "      <th>145</th>\n",
              "      <td>0.166797</td>\n",
              "      <td>0.649760</td>\n",
              "      <td>0.214514</td>\n",
              "      <td>0.146118</td>\n",
              "      <td>0.093267</td>\n",
              "      <td>0.127465</td>\n",
              "      <td>0.043525</td>\n",
              "      <td>0.024871</td>\n",
              "      <td>0.046284</td>\n",
              "      <td>0.063574</td>\n",
              "    </tr>\n",
              "    <tr>\n",
              "      <th>146</th>\n",
              "      <td>0.420168</td>\n",
              "      <td>0.662916</td>\n",
              "      <td>0.121636</td>\n",
              "      <td>0.249354</td>\n",
              "      <td>0.079063</td>\n",
              "      <td>0.115554</td>\n",
              "      <td>0.060818</td>\n",
              "      <td>0.036491</td>\n",
              "      <td>0.303135</td>\n",
              "      <td>0.415331</td>\n",
              "    </tr>\n",
              "    <tr>\n",
              "      <th>147</th>\n",
              "      <td>0.198336</td>\n",
              "      <td>0.797727</td>\n",
              "      <td>0.071438</td>\n",
              "      <td>0.107157</td>\n",
              "      <td>0.091282</td>\n",
              "      <td>0.218283</td>\n",
              "      <td>0.198439</td>\n",
              "      <td>0.111126</td>\n",
              "      <td>0.114346</td>\n",
              "      <td>0.057654</td>\n",
              "    </tr>\n",
              "    <tr>\n",
              "      <th>148</th>\n",
              "      <td>0.190949</td>\n",
              "      <td>0.782490</td>\n",
              "      <td>0.213104</td>\n",
              "      <td>0.186466</td>\n",
              "      <td>0.094898</td>\n",
              "      <td>0.126530</td>\n",
              "      <td>0.111546</td>\n",
              "      <td>0.049946</td>\n",
              "      <td>0.046316</td>\n",
              "      <td>0.058743</td>\n",
              "    </tr>\n",
              "    <tr>\n",
              "      <th>149</th>\n",
              "      <td>0.208547</td>\n",
              "      <td>0.687195</td>\n",
              "      <td>0.024543</td>\n",
              "      <td>0.191433</td>\n",
              "      <td>0.039268</td>\n",
              "      <td>0.157073</td>\n",
              "      <td>0.181616</td>\n",
              "      <td>0.093262</td>\n",
              "      <td>0.137203</td>\n",
              "      <td>0.085344</td>\n",
              "    </tr>\n",
              "  </tbody>\n",
              "</table>\n",
              "<p>142 rows × 10 columns</p>\n",
              "</div>"
            ],
            "text/plain": [
              "     total_case_growth_rate_2008_2018  ...  female_growth\n",
              "0                            0.286678  ...       0.123063\n",
              "1                            0.434137  ...       0.298156\n",
              "3                            0.083333  ...       0.051833\n",
              "4                            0.180064  ...       0.141938\n",
              "5                            0.362235  ...       0.247640\n",
              "..                                ...  ...            ...\n",
              "145                          0.166797  ...       0.063574\n",
              "146                          0.420168  ...       0.415331\n",
              "147                          0.198336  ...       0.057654\n",
              "148                          0.190949  ...       0.058743\n",
              "149                          0.208547  ...       0.085344\n",
              "\n",
              "[142 rows x 10 columns]"
            ]
          },
          "metadata": {},
          "execution_count": 262
        }
      ]
    },
    {
      "cell_type": "code",
      "metadata": {
        "id": "CoWZdWUw7nM8",
        "colab": {
          "base_uri": "https://localhost:8080/"
        },
        "outputId": "da876b56-3b27-46ca-d564-f40a6315af88"
      },
      "source": [
        "# These lines extract the y-values and the x-values from the data:\n",
        "x_values = summary_growth[summary_growth.columns[1:17]]\n",
        "y_values = summary_growth['total_case_growth_rate_2008_2018']\n",
        "\n",
        "# These lines perform the regression procedure:\n",
        "X_values = sms.add_constant(x_values)\n",
        "regression_model_a = sms.OLS(y_values, X_values)\n",
        "regression_model_b = regression_model_a.fit()\n",
        "# and print a summary of the results:\n",
        "print(regression_model_b.summary())"
      ],
      "execution_count": 263,
      "outputs": [
        {
          "output_type": "stream",
          "name": "stdout",
          "text": [
            "                                   OLS Regression Results                                   \n",
            "============================================================================================\n",
            "Dep. Variable:     total_case_growth_rate_2008_2018   R-squared:                       0.525\n",
            "Model:                                          OLS   Adj. R-squared:                  0.497\n",
            "Method:                               Least Squares   F-statistic:                     18.41\n",
            "Date:                              Mon, 15 Nov 2021   Prob (F-statistic):           2.41e-18\n",
            "Time:                                      01:07:26   Log-Likelihood:                 181.13\n",
            "No. Observations:                               142   AIC:                            -344.3\n",
            "Df Residuals:                                   133   BIC:                            -317.7\n",
            "Df Model:                                         8                                         \n",
            "Covariance Type:                          nonrobust                                         \n",
            "============================================================================================\n",
            "                               coef    std err          t      P>|t|      [0.025      0.975]\n",
            "--------------------------------------------------------------------------------------------\n",
            "const                        0.3551      0.054      6.564      0.000       0.248       0.462\n",
            "budget_per_pop              -0.2438      0.063     -3.855      0.000      -0.369      -0.119\n",
            "clean_air_per_pop           -0.0416      0.081     -0.513      0.609      -0.202       0.119\n",
            "clean_environ_per_pop       -0.0995      0.077     -1.292      0.198      -0.252       0.053\n",
            "health_training_per_pop     -0.0298      0.159     -0.187      0.852      -0.345       0.285\n",
            "school_awareness_per_pop    -0.1685      0.092     -1.824      0.070      -0.351       0.014\n",
            "media_awareness_per_pop      0.0982      0.135      0.729      0.467      -0.168       0.365\n",
            "sub_counselling_per_pop     -0.0027      0.203     -0.013      0.989      -0.403       0.398\n",
            "male_growth                  0.2977      0.065      4.576      0.000       0.169       0.426\n",
            "female_growth                0.3573      0.091      3.908      0.000       0.176       0.538\n",
            "==============================================================================\n",
            "Omnibus:                       12.610   Durbin-Watson:                   2.193\n",
            "Prob(Omnibus):                  0.002   Jarque-Bera (JB):               16.103\n",
            "Skew:                          -0.540   Prob(JB):                     0.000319\n",
            "Kurtosis:                       4.248   Cond. No.                     4.10e+16\n",
            "==============================================================================\n",
            "\n",
            "Warnings:\n",
            "[1] Standard Errors assume that the covariance matrix of the errors is correctly specified.\n",
            "[2] The smallest eigenvalue is 1.48e-31. This might indicate that there are\n",
            "strong multicollinearity problems or that the design matrix is singular.\n"
          ]
        }
      ]
    },
    {
      "cell_type": "code",
      "metadata": {
        "id": "f1vum3z4_JMq",
        "colab": {
          "base_uri": "https://localhost:8080/"
        },
        "outputId": "4a7f59b9-d5a3-49c7-85a6-cf33fddfc27d"
      },
      "source": [
        "# Now we store all the relevant values:\n",
        "gradient  = regression_model_b.params[1]\n",
        "intercept = regression_model_b.params[0]\n",
        "Rsquared  = regression_model_b.rsquared\n",
        "MSE       = regression_model_b.mse_resid\n",
        "pvalue    = regression_model_b.f_pvalue\n",
        "\n",
        "# And print them:\n",
        "print(\"gradient  =\", regression_model_b.params[1])\n",
        "print(\"intercept =\", regression_model_b.params[0])\n",
        "print(\"Rsquared  =\", regression_model_b.rsquared)\n",
        "print(\"MSE       =\", regression_model_b.mse_resid)\n",
        "print(\"pvalue    =\", regression_model_b.f_pvalue)"
      ],
      "execution_count": 264,
      "outputs": [
        {
          "output_type": "stream",
          "name": "stdout",
          "text": [
            "gradient  = -0.24383688224850517\n",
            "intercept = 0.3551052090816557\n",
            "Rsquared  = 0.5254128098896746\n",
            "MSE       = 0.004875766398171418\n",
            "pvalue    = 2.4148277536268897e-18\n"
          ]
        }
      ]
    },
    {
      "cell_type": "markdown",
      "metadata": {
        "id": "MwkUmKNNTjrz"
      },
      "source": [
        "####Residual value analysis"
      ]
    },
    {
      "cell_type": "code",
      "metadata": {
        "colab": {
          "base_uri": "https://localhost:8080/",
          "height": 301
        },
        "id": "YAOKDv-dQNE2",
        "outputId": "005fefd0-b8ef-480d-f392-f294ac5e2e5d"
      },
      "source": [
        "# plot \n",
        "plt.scatter(regression_model_b.fittedvalues, regression_model_b.resid)\n",
        "# adding title and labels\n",
        "plt.xlabel('total_case_growth_rate_2008_2018')\n",
        "plt.ylabel('Residual')\n",
        "plt.title('Residual vs. Fitted Plot of total_case_growth_rate_2008_2018')\n",
        "plt.show()"
      ],
      "execution_count": 265,
      "outputs": [
        {
          "output_type": "display_data",
          "data": {
            "image/png": "[encoded data removed]",
            "text/plain": [
              "<Figure size 432x288 with 1 Axes>"
            ]
          },
          "metadata": {}
        }
      ]
    },
    {
      "cell_type": "code",
      "metadata": {
        "colab": {
          "base_uri": "https://localhost:8080/",
          "height": 582
        },
        "id": "LjR2K-yHTKZ6",
        "outputId": "bdb4a19e-06a8-41cf-ac26-7774d545bd09"
      },
      "source": [
        "fig = plt.figure(figsize=(12,8))\n",
        "fig = sms.graphics.plot_regress_exog(regression_model_b, 'budget_per_pop', fig=fig)"
      ],
      "execution_count": 266,
      "outputs": [
        {
          "output_type": "display_data",
          "data": {
            "image/png": "[encoded data removed]",
            "text/plain": [
              "<Figure size 864x576 with 4 Axes>"
            ]
          },
          "metadata": {}
        }
      ]
    },
    {
      "cell_type": "markdown",
      "metadata": {
        "id": "oYxCuBOzZeCc"
      },
      "source": [
        "##Gender hypothesis test"
      ]
    },
    {
      "cell_type": "markdown",
      "metadata": {
        "id": "Jy-TYYX7ckg-"
      },
      "source": [
        "####KS test"
      ]
    },
    {
      "cell_type": "code",
      "metadata": {
        "id": "zbkA48lqZgkP"
      },
      "source": [
        "summary_gender = summary_growth[['male_growth','female_growth']]"
      ],
      "execution_count": 267,
      "outputs": []
    },
    {
      "cell_type": "code",
      "metadata": {
        "id": "dcBwaM_ExqZ0",
        "colab": {
          "base_uri": "https://localhost:8080/",
          "height": 297
        },
        "outputId": "c80e908f-199c-4aec-c3ca-7beec725056e"
      },
      "source": [
        "summary_gender.describe()"
      ],
      "execution_count": 268,
      "outputs": [
        {
          "output_type": "execute_result",
          "data": {
            "text/html": [
              "<div>\n",
              "<style scoped>\n",
              "    .dataframe tbody tr th:only-of-type {\n",
              "        vertical-align: middle;\n",
              "    }\n",
              "\n",
              "    .dataframe tbody tr th {\n",
              "        vertical-align: top;\n",
              "    }\n",
              "\n",
              "    .dataframe thead th {\n",
              "        text-align: right;\n",
              "    }\n",
              "</style>\n",
              "<table border=\"1\" class=\"dataframe\">\n",
              "  <thead>\n",
              "    <tr style=\"text-align: right;\">\n",
              "      <th></th>\n",
              "      <th>male_growth</th>\n",
              "      <th>female_growth</th>\n",
              "    </tr>\n",
              "  </thead>\n",
              "  <tbody>\n",
              "    <tr>\n",
              "      <th>count</th>\n",
              "      <td>142.000000</td>\n",
              "      <td>142.000000</td>\n",
              "    </tr>\n",
              "    <tr>\n",
              "      <th>mean</th>\n",
              "      <td>0.123000</td>\n",
              "      <td>0.116930</td>\n",
              "    </tr>\n",
              "    <tr>\n",
              "      <th>std</th>\n",
              "      <td>0.125163</td>\n",
              "      <td>0.088617</td>\n",
              "    </tr>\n",
              "    <tr>\n",
              "      <th>min</th>\n",
              "      <td>-0.241803</td>\n",
              "      <td>-0.026830</td>\n",
              "    </tr>\n",
              "    <tr>\n",
              "      <th>25%</th>\n",
              "      <td>0.038694</td>\n",
              "      <td>0.052505</td>\n",
              "    </tr>\n",
              "    <tr>\n",
              "      <th>50%</th>\n",
              "      <td>0.104260</td>\n",
              "      <td>0.098303</td>\n",
              "    </tr>\n",
              "    <tr>\n",
              "      <th>75%</th>\n",
              "      <td>0.205469</td>\n",
              "      <td>0.162442</td>\n",
              "    </tr>\n",
              "    <tr>\n",
              "      <th>max</th>\n",
              "      <td>0.556537</td>\n",
              "      <td>0.456815</td>\n",
              "    </tr>\n",
              "  </tbody>\n",
              "</table>\n",
              "</div>"
            ],
            "text/plain": [
              "       male_growth  female_growth\n",
              "count   142.000000     142.000000\n",
              "mean      0.123000       0.116930\n",
              "std       0.125163       0.088617\n",
              "min      -0.241803      -0.026830\n",
              "25%       0.038694       0.052505\n",
              "50%       0.104260       0.098303\n",
              "75%       0.205469       0.162442\n",
              "max       0.556537       0.456815"
            ]
          },
          "metadata": {},
          "execution_count": 268
        }
      ]
    },
    {
      "cell_type": "code",
      "metadata": {
        "id": "y5LTaVE9bGnA"
      },
      "source": [
        "#Are men and women have a difference in Condition_X growth rate?\n",
        "# H0: Men and Women have the same in Condition_X growth rate.\n",
        "# H1: Men and Women are differnt in Condition_X growth rate."
      ],
      "execution_count": 269,
      "outputs": []
    },
    {
      "cell_type": "code",
      "metadata": {
        "id": "QNWfRqqKZ7yE",
        "colab": {
          "base_uri": "https://localhost:8080/"
        },
        "outputId": "11ff3056-8e9d-4813-c838-11b64d73e6d4"
      },
      "source": [
        "# There is a built-in scipy.stats function (ks_2samp) that does steps 3 and 4 for us:\n",
        "\n",
        "KS_stat, p_value = sps.ks_2samp(summary_gender['male_growth'],summary_gender['female_growth'])\n",
        "\n",
        "# Compare with the KS stat we calculated earlier:\n",
        "\n",
        "print(\"KS stat =\", KS_stat)\n",
        "print(\"p-value =\", p_value)"
      ],
      "execution_count": 270,
      "outputs": [
        {
          "output_type": "stream",
          "name": "stdout",
          "text": [
            "KS stat = 0.13380281690140844\n",
            "p-value = 0.15752338661451135\n"
          ]
        }
      ]
    },
    {
      "cell_type": "code",
      "metadata": {
        "id": "K4LWC7Qe66ap"
      },
      "source": [
        "alpha =0.05"
      ],
      "execution_count": 271,
      "outputs": []
    },
    {
      "cell_type": "code",
      "metadata": {
        "id": "dQMx-cEsazaG",
        "colab": {
          "base_uri": "https://localhost:8080/"
        },
        "outputId": "963923b8-255c-40c7-e38b-4261fecb8cd8"
      },
      "source": [
        "# Reach a conclusion:\n",
        "\n",
        "if p_value < alpha:\n",
        "    print(\"p-value < significance threshold.\")\n",
        "    print(\"Reject H0. Accept H1.\")\n",
        "    print(\"Conclude that samples are drawn from populations with different distributions.\")\n",
        "elif p_value >= alpha:\n",
        "    print(\"p-value >= significance threshold.\")\n",
        "    print(\"No significant evidence to reject H0.\")\n",
        "    print(\"Assume samples are drawn from populations with the same distribution.\")"
      ],
      "execution_count": 272,
      "outputs": [
        {
          "output_type": "stream",
          "name": "stdout",
          "text": [
            "p-value >= significance threshold.\n",
            "No significant evidence to reject H0.\n",
            "Assume samples are drawn from populations with the same distribution.\n"
          ]
        }
      ]
    },
    {
      "cell_type": "markdown",
      "metadata": {
        "id": "Gky-Cu_fTrUo"
      },
      "source": [
        "##Regional logistic regression prediction"
      ]
    },
    {
      "cell_type": "markdown",
      "metadata": {
        "id": "Y-aiMHMFi6hD"
      },
      "source": [
        "####Is the regional growth rate greater than the average"
      ]
    },
    {
      "cell_type": "code",
      "metadata": {
        "colab": {
          "base_uri": "https://localhost:8080/"
        },
        "id": "__WYcq5PZeRm",
        "outputId": "6482da49-f401-47e2-caaa-7f743d7a1205"
      },
      "source": [
        "summary_region['total_case_growth_rate_2008_2018'].mean()"
      ],
      "execution_count": 273,
      "outputs": [
        {
          "output_type": "execute_result",
          "data": {
            "text/plain": [
              "0.194967357388906"
            ]
          },
          "metadata": {},
          "execution_count": 273
        }
      ]
    },
    {
      "cell_type": "code",
      "metadata": {
        "id": "1bmSs_AmZkW7"
      },
      "source": [
        "mean_growth = summary_region['total_case_growth_rate_2008_2018'].mean()\n",
        "\n",
        "X = summary_region[summary_region.columns[1:3]]\n",
        "y = summary_region[['total_case_growth_rate_2008_2018']] > mean_growth"
      ],
      "execution_count": 274,
      "outputs": []
    },
    {
      "cell_type": "code",
      "metadata": {
        "colab": {
          "base_uri": "https://localhost:8080/",
          "height": 419
        },
        "id": "QCALbanxcJYL",
        "outputId": "ea365beb-ee6b-47a8-9ead-4e2e2f02de41"
      },
      "source": [
        "X"
      ],
      "execution_count": 275,
      "outputs": [
        {
          "output_type": "execute_result",
          "data": {
            "text/html": [
              "<div>\n",
              "<style scoped>\n",
              "    .dataframe tbody tr th:only-of-type {\n",
              "        vertical-align: middle;\n",
              "    }\n",
              "\n",
              "    .dataframe tbody tr th {\n",
              "        vertical-align: top;\n",
              "    }\n",
              "\n",
              "    .dataframe thead th {\n",
              "        text-align: right;\n",
              "    }\n",
              "</style>\n",
              "<table border=\"1\" class=\"dataframe\">\n",
              "  <thead>\n",
              "    <tr style=\"text-align: right;\">\n",
              "      <th></th>\n",
              "      <th>region</th>\n",
              "      <th>local_authority_type</th>\n",
              "    </tr>\n",
              "  </thead>\n",
              "  <tbody>\n",
              "    <tr>\n",
              "      <th>0</th>\n",
              "      <td>0</td>\n",
              "      <td>1</td>\n",
              "    </tr>\n",
              "    <tr>\n",
              "      <th>1</th>\n",
              "      <td>0</td>\n",
              "      <td>1</td>\n",
              "    </tr>\n",
              "    <tr>\n",
              "      <th>3</th>\n",
              "      <td>0</td>\n",
              "      <td>0</td>\n",
              "    </tr>\n",
              "    <tr>\n",
              "      <th>4</th>\n",
              "      <td>0</td>\n",
              "      <td>0</td>\n",
              "    </tr>\n",
              "    <tr>\n",
              "      <th>5</th>\n",
              "      <td>0</td>\n",
              "      <td>1</td>\n",
              "    </tr>\n",
              "    <tr>\n",
              "      <th>...</th>\n",
              "      <td>...</td>\n",
              "      <td>...</td>\n",
              "    </tr>\n",
              "    <tr>\n",
              "      <th>145</th>\n",
              "      <td>0</td>\n",
              "      <td>0</td>\n",
              "    </tr>\n",
              "    <tr>\n",
              "      <th>146</th>\n",
              "      <td>0</td>\n",
              "      <td>0</td>\n",
              "    </tr>\n",
              "    <tr>\n",
              "      <th>147</th>\n",
              "      <td>0</td>\n",
              "      <td>0</td>\n",
              "    </tr>\n",
              "    <tr>\n",
              "      <th>148</th>\n",
              "      <td>0</td>\n",
              "      <td>0</td>\n",
              "    </tr>\n",
              "    <tr>\n",
              "      <th>149</th>\n",
              "      <td>0</td>\n",
              "      <td>0</td>\n",
              "    </tr>\n",
              "  </tbody>\n",
              "</table>\n",
              "<p>142 rows × 2 columns</p>\n",
              "</div>"
            ],
            "text/plain": [
              "     region  local_authority_type\n",
              "0         0                     1\n",
              "1         0                     1\n",
              "3         0                     0\n",
              "4         0                     0\n",
              "5         0                     1\n",
              "..      ...                   ...\n",
              "145       0                     0\n",
              "146       0                     0\n",
              "147       0                     0\n",
              "148       0                     0\n",
              "149       0                     0\n",
              "\n",
              "[142 rows x 2 columns]"
            ]
          },
          "metadata": {},
          "execution_count": 275
        }
      ]
    },
    {
      "cell_type": "code",
      "metadata": {
        "colab": {
          "base_uri": "https://localhost:8080/"
        },
        "id": "7XDjEmkFOTYH",
        "outputId": "7a8600d2-b21e-443e-a72f-0857c32e8682"
      },
      "source": [
        "logreg = LogisticRegression()\n",
        "logreg.fit(X, y)\n",
        "y_pred=logreg.predict(X)\n",
        "\n",
        "# print the coefficient in the model\n",
        "print(\"------------------------------------------\")\n",
        "print(\"Print the model:\")\n",
        "coef_dict = {}\n",
        "for coef, feat in zip(logreg.coef_.flatten().tolist(),X.columns):\n",
        "    coef_dict[feat] = coef\n",
        "    print(feat, \":\", coef)\n",
        "print(\"------------------------------------------\")"
      ],
      "execution_count": 276,
      "outputs": [
        {
          "output_type": "stream",
          "name": "stdout",
          "text": [
            "------------------------------------------\n",
            "Print the model:\n",
            "region : -0.7326468292987594\n",
            "local_authority_type : 0.6282864217952241\n",
            "------------------------------------------\n"
          ]
        },
        {
          "output_type": "stream",
          "name": "stderr",
          "text": [
            "/usr/local/lib/python3.7/dist-packages/sklearn/utils/validation.py:760: DataConversionWarning:\n",
            "\n",
            "A column-vector y was passed when a 1d array was expected. Please change the shape of y to (n_samples, ), for example using ravel().\n",
            "\n"
          ]
        }
      ]
    },
    {
      "cell_type": "code",
      "metadata": {
        "colab": {
          "base_uri": "https://localhost:8080/"
        },
        "id": "WW0aa0vccV-1",
        "outputId": "0ccfaa34-59a7-4b32-8d80-76f28dd52ef2"
      },
      "source": [
        "acc = sklearn.metrics.accuracy_score(y,y_pred)\n",
        "print(\"Accuracy of the model is: \" + str(acc))"
      ],
      "execution_count": 277,
      "outputs": [
        {
          "output_type": "stream",
          "name": "stdout",
          "text": [
            "Accuracy of the model is: 0.5633802816901409\n"
          ]
        }
      ]
    },
    {
      "cell_type": "code",
      "metadata": {
        "colab": {
          "base_uri": "https://localhost:8080/",
          "height": 356
        },
        "id": "gcQ3n1EydlhA",
        "outputId": "ab33111c-3f21-4779-9949-b5f2c4ff4496"
      },
      "source": [
        "# Another evaluation: confusion matrix\n",
        "print(\"The confusion matrix is:\")\n",
        "cm=confusion_matrix(y,y_pred)\n",
        "conf_matrix=pd.DataFrame(data=cm,columns=['Predicted:0','Predicted:1'],index=['Actual:0','Actual:1'])\n",
        "plt.figure(figsize = (8,5))\n",
        "sns.heatmap(conf_matrix, annot=True,fmt='d',cmap=\"YlGnBu\")"
      ],
      "execution_count": 278,
      "outputs": [
        {
          "output_type": "stream",
          "name": "stdout",
          "text": [
            "The confusion matrix is:\n"
          ]
        },
        {
          "output_type": "execute_result",
          "data": {
            "text/plain": [
              "<matplotlib.axes._subplots.AxesSubplot at 0x7f1eb81b2990>"
            ]
          },
          "metadata": {},
          "execution_count": 278
        },
        {
          "output_type": "display_data",
          "data": {
            "image/png": "[encoded data removed]",
            "text/plain": [
              "<Figure size 576x360 with 2 Axes>"
            ]
          },
          "metadata": {}
        }
      ]
    }
  ]
}